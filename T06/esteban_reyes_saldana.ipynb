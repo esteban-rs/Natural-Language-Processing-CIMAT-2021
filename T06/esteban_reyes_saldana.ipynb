{
  "nbformat": 4,
  "nbformat_minor": 0,
  "metadata": {
    "colab": {
      "name": "esteban_reyes_saldana.ipynb",
      "provenance": [],
      "collapsed_sections": []
    },
    "kernelspec": {
      "name": "python3",
      "display_name": "Python 3"
    },
    "accelerator": "GPU"
  },
  "cells": [
    {
      "cell_type": "markdown",
      "metadata": {
        "id": "BnCJKimtBLql"
      },
      "source": [
        "# CNN for Sentence Classification"
      ]
    },
    {
      "cell_type": "markdown",
      "metadata": {
        "id": "pUI8qgwNCIxe"
      },
      "source": [
        "### Libraries used"
      ]
    },
    {
      "cell_type": "code",
      "metadata": {
        "id": "fdwJOcQzBMQE"
      },
      "source": [
        "# Tools\n",
        "import os\n",
        "import time\n",
        "import random\n",
        "import shutil\n",
        "from argparse import Namespace\n",
        "import matplotlib.pyplot as plt\n",
        "from typing import Callable, Tuple\n",
        "\n",
        "# Preprocessing\n",
        "from nltk.tokenize import TweetTokenizer\n",
        "from nltk import FreqDist\n",
        "import pandas as pd\n",
        "import numpy as np\n",
        "\n",
        "# PyTorch\n",
        "from torch.utils.data import DataLoader, Dataset\n",
        "import torch\n",
        "import torch.nn as nn\n",
        "import torch.nn.functional as F\n",
        "from torch.nn.utils.rnn import pad_sequence\n",
        "\n",
        "# scikit-learn\n",
        "from sklearn.model_selection import train_test_split\n",
        "from sklearn.metrics import accuracy_score\n",
        "\n",
        "# word embeddings\n",
        "from gensim.models import Word2Vec\n",
        "from gensim.models.keyedvectors import Word2VecKeyedVectors"
      ],
      "execution_count": 1,
      "outputs": []
    },
    {
      "cell_type": "markdown",
      "metadata": {
        "id": "1iebWbwmCZ4s"
      },
      "source": [
        "Set seeds for reproducibility"
      ]
    },
    {
      "cell_type": "code",
      "metadata": {
        "id": "va6BLBywCaIF"
      },
      "source": [
        "args = Namespace()\n",
        "\n",
        "args.seed = 1111\n",
        "random.seed(args.seed) # python seed\n",
        "np.random.seed(args.seed) # numpy seed\n",
        "torch.manual_seed(args.seed) # torch seed\n",
        "torch.backends.cudnn.benchmark = False # causes cuDNN to deterministically select algorithms for Neural Network operations\n",
        "torch.backends.cudnn.deterministic = True # Use deterministic algorithms instead of non-deterministic where available"
      ],
      "execution_count": 2,
      "outputs": []
    },
    {
      "cell_type": "markdown",
      "metadata": {
        "id": "A41-b6gsCL70"
      },
      "source": [
        "### Load Dataset"
      ]
    },
    {
      "cell_type": "code",
      "metadata": {
        "colab": {
          "base_uri": "https://localhost:8080/"
        },
        "id": "aA-w0ulhF1-Q",
        "outputId": "6ed0f7a2-ec0a-48ea-dd65-92501c3e4027"
      },
      "source": [
        "!gdown https://drive.google.com/uc?id=1CL2rtDbi7HU1OY8JNrgIlq5TYVhgvAzZ\n",
        "!unzip -qq mex-a3t.zip"
      ],
      "execution_count": 3,
      "outputs": [
        {
          "output_type": "stream",
          "text": [
            "Downloading...\n",
            "From: https://drive.google.com/uc?id=1CL2rtDbi7HU1OY8JNrgIlq5TYVhgvAzZ\n",
            "To: /content/mex-a3t.zip\n",
            "\r  0% 0.00/234k [00:00<?, ?B/s]\r100% 234k/234k [00:00<00:00, 16.4MB/s]\n",
            "replace mex_val.txt? [y]es, [n]o, [A]ll, [N]one, [r]ename: A\n"
          ],
          "name": "stdout"
        }
      ]
    },
    {
      "cell_type": "markdown",
      "metadata": {
        "id": "P5KCFtNiGIU6"
      },
      "source": [
        "Set split hyperparameter and split data"
      ]
    },
    {
      "cell_type": "code",
      "metadata": {
        "id": "YRn0ZqeQGlFZ"
      },
      "source": [
        "args.val_size = 0.1"
      ],
      "execution_count": 6,
      "outputs": []
    },
    {
      "cell_type": "code",
      "metadata": {
        "id": "62yMSBChGIp_"
      },
      "source": [
        "X_train = pd.read_csv('mex_train.txt', sep='\\r\\n', engine='python', header=None).loc[:,0]\n",
        "y_train = pd.read_csv('mex_train_labels.txt', header=None).loc[:,0]\n",
        "#.values.tolist()\n",
        "\n",
        "X_train, X_val, y_train, y_val = train_test_split(X_train, y_train, test_size=args.val_size, random_state=args.seed)\n",
        "\n",
        "X_test = pd.read_csv('mex_val.txt', sep='\\r\\n', engine='python', header=None).loc[:,0]\n",
        "y_test = pd.read_csv('mex_val_labels.txt', header=None).loc[:,0]"
      ],
      "execution_count": 7,
      "outputs": []
    },
    {
      "cell_type": "markdown",
      "metadata": {
        "id": "lLkXh_k7sagl"
      },
      "source": [
        "Functions to build vocabulary"
      ]
    },
    {
      "cell_type": "code",
      "metadata": {
        "id": "S2-9NZ1BsdVZ"
      },
      "source": [
        "def get_vocab(corpus: pd.DataFrame,\n",
        "              tokenizer: Callable[[str], list],\n",
        "              max_features: int) -> set:\n",
        "    freq_dist = FreqDist([w.lower() for sentence in corpus\\\n",
        "                                    for w in tokenizer(sentence)])\n",
        "    \n",
        "    sorted_words = sortFreqDict(freq_dist)[:min(max_features-1, len(freq_dist))]\n",
        "    w2idx = {word: i+1 for i, word in enumerate(sorted_words)}\n",
        "\n",
        "    # Append <pad> token with 0 index\n",
        "    sorted_words.append('<pad>')\n",
        "    w2idx['<pad>'] = 0\n",
        "\n",
        "    return set(sorted_words), w2idx\n",
        "        \n",
        "def sortFreqDict(freq_dist: FreqDist) -> list:\n",
        "    freq_dict = dict(freq_dist)\n",
        "    return sorted(freq_dict, key=freq_dict.get, reverse=True)"
      ],
      "execution_count": 8,
      "outputs": []
    },
    {
      "cell_type": "code",
      "metadata": {
        "id": "2mPmCxoqskuO"
      },
      "source": [
        "# Set vocab size\n",
        "args.vocab_size = 5000\n",
        "\n",
        "tk = TweetTokenizer()\n",
        "vocab, w2idx = get_vocab(X_train, tk.tokenize, args.vocab_size)"
      ],
      "execution_count": 9,
      "outputs": []
    },
    {
      "cell_type": "markdown",
      "metadata": {
        "id": "K2sfrROCBJB0"
      },
      "source": [
        "### Define Dataset, collate_fn and Dataloader"
      ]
    },
    {
      "cell_type": "markdown",
      "metadata": {
        "id": "eDXEMAEp9qL2"
      },
      "source": [
        "Define Map-style Dataset (one that implements the `__getitem__()` and `__len__()` protocols) class for processing each observation in the correct format for the model"
      ]
    },
    {
      "cell_type": "code",
      "metadata": {
        "id": "T9xyWeuOqyON"
      },
      "source": [
        "class TweeterDataset(Dataset):\n",
        "    def __init__(self,\n",
        "                 X: pd.DataFrame,\n",
        "                 y: pd.DataFrame,\n",
        "                 vocab: set,\n",
        "                 w2idx: dict,\n",
        "                 tokenizer: Callable[[str], list],\n",
        "                 max_seq_len: int):\n",
        "        self.X = X\n",
        "        self.y = y\n",
        "        self.vocab = vocab\n",
        "        self.w2idx = w2idx\n",
        "        self.tokenizer = tokenizer\n",
        "        self.max_seq_len = max_seq_len\n",
        "    \n",
        "    def __len__(self):\n",
        "        return self.X.shape[0]\n",
        "\n",
        "    def __getitem__(self, idx):\n",
        "        # Get sequence of token ids\n",
        "        sentence = self.X.iloc[idx]\n",
        "        tokens = [self.w2idx[w] for w in self.tokenizer(sentence) if w in self.vocab]\n",
        "\n",
        "        # Truncate sequence up to max_seq_len\n",
        "        truncate_len = min(len(tokens), self.max_seq_len)\n",
        "        tokens = tokens[:truncate_len]\n",
        "\n",
        "        # Get true label\n",
        "        label = self.y.iloc[idx]\n",
        "\n",
        "        return torch.LongTensor(tokens), torch.LongTensor([label])"
      ],
      "execution_count": 10,
      "outputs": []
    },
    {
      "cell_type": "markdown",
      "metadata": {
        "id": "f0pPWd3C-Abz"
      },
      "source": [
        "Define function to collate samples fetched by the sampler from the Dataset. The Dataloader will return the output of this `collate_fn` that we define."
      ]
    },
    {
      "cell_type": "code",
      "metadata": {
        "id": "A48GxyAd-Anb"
      },
      "source": [
        "def collate_fn(batch):\n",
        "    # Get X\n",
        "    batch_tokens = [row[0] for row in batch]\n",
        "    # Get y\n",
        "    batch_labels = torch.LongTensor([row[1] for row in batch]).to(torch.float)\n",
        "\n",
        "    # Pad with 0 (to the rigth) shorter sequences than max_seq_len\n",
        "    padded_batch_tokens = pad_sequence(batch_tokens, batch_first=True)\n",
        "\n",
        "    return padded_batch_tokens, batch_labels.unsqueeze(1)"
      ],
      "execution_count": 11,
      "outputs": []
    },
    {
      "cell_type": "markdown",
      "metadata": {
        "id": "M_tu7B3o95Ta"
      },
      "source": [
        "Build Dataloaders to process batches of observations from the Datasets"
      ]
    },
    {
      "cell_type": "code",
      "metadata": {
        "id": "plFS8370MYBH"
      },
      "source": [
        "# Set batch size in args\n",
        "args.batch_size = 64\n",
        "\n",
        "# Num workers\n",
        "args.num_workers = 0\n",
        "\n",
        "# Maximum sequence length\n",
        "args.max_seq_len = 20"
      ],
      "execution_count": 12,
      "outputs": []
    },
    {
      "cell_type": "code",
      "metadata": {
        "id": "KNRGp-DX-Bm2"
      },
      "source": [
        "# Training\n",
        "train_dataset = TweeterDataset(X_train, y_train, vocab, w2idx, tk.tokenize, args.max_seq_len)\n",
        "train_loader = DataLoader(train_dataset,\n",
        "                          batch_size=args.batch_size,\n",
        "                          num_workers=args.num_workers,\n",
        "                          collate_fn=collate_fn,\n",
        "                          shuffle=True)\n",
        "\n",
        "# Validation\n",
        "val_dataset = TweeterDataset(X_val, y_val, vocab, w2idx, tk.tokenize, args.max_seq_len)\n",
        "val_loader = DataLoader(val_dataset,\n",
        "                          batch_size=args.batch_size,\n",
        "                          num_workers=args.num_workers,\n",
        "                          collate_fn=collate_fn,\n",
        "                          shuffle=False)\n",
        "\n",
        "# Test\n",
        "test_dataset = TweeterDataset(X_test, y_test, vocab, w2idx, tk.tokenize, args.max_seq_len)\n",
        "test_loader = DataLoader(test_dataset,\n",
        "                          batch_size=args.batch_size,\n",
        "                          num_workers=args.num_workers,\n",
        "                          collate_fn=collate_fn,\n",
        "                          shuffle=False)"
      ],
      "execution_count": 13,
      "outputs": []
    },
    {
      "cell_type": "markdown",
      "metadata": {
        "id": "hwIx8Xt3Gbxz"
      },
      "source": [
        "When iterating a ```Dataloader```, the whole order of execution to get a batch is roughly the following:\n",
        "\n",
        "1. A `Sampler` object in `batch_sampler` variable, retrieves a batch of indices.\n",
        "\n",
        "2. For each retrieved index, get the data from the defined `Dataset` object, process all the batch samples with the defined `collate_fn` and return the result:\n",
        "\n",
        "    ```\n",
        "    for indices in batch_sampler:\n",
        "        yield collate_fn([dataset[i] for i in indices])\n",
        "    ```\n",
        "\n",
        "\n"
      ]
    },
    {
      "cell_type": "markdown",
      "metadata": {
        "id": "Z7iJRqoQaqG-"
      },
      "source": [
        "Testing train Dataloader"
      ]
    },
    {
      "cell_type": "code",
      "metadata": {
        "colab": {
          "base_uri": "https://localhost:8080/"
        },
        "id": "yU-oeLNCMipL",
        "outputId": "64853796-ee1d-4bf2-a306-5fb4f81d977b"
      },
      "source": [
        "batch_ = next(iter(train_loader))\n",
        "print(f'X_batch shape: {batch_[0].shape}')\n",
        "print(f'y_batch shape: {batch_[1].shape}')"
      ],
      "execution_count": 14,
      "outputs": [
        {
          "output_type": "stream",
          "text": [
            "X_batch shape: torch.Size([64, 20])\n",
            "y_batch shape: torch.Size([64, 1])\n"
          ],
          "name": "stdout"
        }
      ]
    },
    {
      "cell_type": "markdown",
      "metadata": {
        "id": "S0ONCMxIbPl8"
      },
      "source": [
        "### Define CNN text classifier"
      ]
    },
    {
      "cell_type": "code",
      "metadata": {
        "id": "CkA7GoK3bTuv"
      },
      "source": [
        "class CNNTextCls(nn.Module):\n",
        "    def __init__(self, args, embeddings = None, freeze = False):\n",
        "        super(CNNTextCls, self).__init__()\n",
        "\n",
        "        if embeddings is not None:\n",
        "            self.emb = nn.Embedding.from_pretrained(torch.FloatTensor(embeddings))\n",
        "            if freeze:\n",
        "                self.emb.weight.requires_grad = False\n",
        "        else:\n",
        "            self.emb = nn.Embedding(args.vocab_size, args.d)\n",
        "        \n",
        "        conv_block_list = []\n",
        "\n",
        "        for k in args.filter_sizes:\n",
        "            conv_block = nn.Sequential(\n",
        "                nn.Conv1d(in_channels=args.d, out_channels=args.num_filters, kernel_size=k, stride=1),\n",
        "                nn.ReLU(),\n",
        "                nn.MaxPool1d(kernel_size=(args.max_seq_len-k+1))\n",
        "            )\n",
        "            conv_block_list.append(conv_block)\n",
        "\n",
        "        self.conv_block_list = nn.ModuleList(conv_block_list)\n",
        "        self.dropout = nn.Dropout(args.dropout)\n",
        "        self.fc = nn.Linear(args.num_filters*len(args.filter_sizes), 1)\n",
        "\n",
        "    def forward(self, x):\n",
        "        '''\n",
        "        B: batch size\n",
        "        L: sequence length\n",
        "        D: embedding dim\n",
        "        C: Convolution output channels (number of filters)\n",
        "        k: Convolution kernel size\n",
        "        N: Number of convolution blocks\n",
        "\n",
        "        x shape: (B, L)\n",
        "        '''\n",
        "        x = self.emb(x) # (B, L, D)\n",
        "        x = x.transpose(1,2) # (B, D, L) conv1d expects L in last dimension\n",
        "\n",
        "        x_filter = []\n",
        "        for conv_block in self.conv_block_list: # Conv1d -> ReLU -> MaxPool1d\n",
        "            x_filter.append(conv_block(x).squeeze(2)) # (B, C, L-k+1) -> ReLU -> (B, C, 1) -> (B, C) after squeeze\n",
        "\n",
        "        x_cat = torch.cat(x_filter, dim=1) # (B, C*N)\n",
        "        x = self.dropout(x_cat)\n",
        "        return self.fc(x)"
      ],
      "execution_count": 15,
      "outputs": []
    },
    {
      "cell_type": "markdown",
      "metadata": {
        "id": "EN9haSqSC-AA"
      },
      "source": [
        "### Helper functions for model evaluation"
      ]
    },
    {
      "cell_type": "code",
      "metadata": {
        "id": "B_ct1vF3C-jI"
      },
      "source": [
        "def model_eval(data, model, gpu = False):\n",
        "    with torch.no_grad():\n",
        "        preds, tgts = [], []\n",
        "        for input, labels in data:\n",
        "            if gpu:\n",
        "                input = input.cuda()\n",
        "            \n",
        "            outputs = model(input)\n",
        "\n",
        "            # Get prediction for Accuracy\n",
        "            y_pred = y_pred = torch.round(torch.sigmoid(outputs.detach())).cpu().numpy()\n",
        "\n",
        "            tgt = labels.numpy()\n",
        "            tgts.append(tgt)\n",
        "            preds.append(y_pred)\n",
        "\n",
        "    tgts = [e for l in tgts for e in l]\n",
        "    preds = [e for l in preds for e in l]\n",
        "\n",
        "    metrics = {\n",
        "        \"accuracy\": accuracy_score(tgts, preds),\n",
        "    }\n",
        "    \n",
        "    return metrics"
      ],
      "execution_count": 16,
      "outputs": []
    },
    {
      "cell_type": "markdown",
      "metadata": {
        "id": "2eaCfN-wDIXq"
      },
      "source": [
        "### Helper function to save model"
      ]
    },
    {
      "cell_type": "code",
      "metadata": {
        "id": "f2OPDptPDLx6"
      },
      "source": [
        "def save_checkpoint(state, is_best, checkpoint_path, filename = \"checkpoint.pt\"):\n",
        "    filename = os.path.join(checkpoint_path, filename)\n",
        "    torch.save(state, filename)\n",
        "    if is_best:\n",
        "        shutil.copyfile(filename, os.path.join(checkpoint_path, \"model_best.pt\"))"
      ],
      "execution_count": 17,
      "outputs": []
    },
    {
      "cell_type": "markdown",
      "metadata": {
        "id": "wvmbsYji1VgZ"
      },
      "source": [
        "### Training function"
      ]
    },
    {
      "cell_type": "code",
      "metadata": {
        "id": "X1P9hbEK1XMv"
      },
      "source": [
        "def train(args, model, train_loader, val_loader, optimizer, criterion, scheduler):\n",
        "    best_metric = 0\n",
        "    metric_history = []\n",
        "    train_metric_history = []\n",
        "\n",
        "    for epoch in range(args.num_epochs):\n",
        "        epoch_start_time = time.time()\n",
        "        loss_epoch = []\n",
        "        training_metrics = []\n",
        "        model.train()\n",
        "\n",
        "        for input, labels in train_loader:\n",
        "            # If GPU available\n",
        "            if args.use_gpu:\n",
        "                input = input.cuda()\n",
        "                labels = labels.cuda()\n",
        "\n",
        "            # Forward pass\n",
        "            outputs = model(input)\n",
        "\n",
        "            loss = criterion(outputs, labels)\n",
        "            loss_epoch.append(loss.item())\n",
        "\n",
        "            # Get training metric\n",
        "            preds = torch.round(torch.sigmoid(outputs.detach())).cpu().numpy()\n",
        "            training_metrics.append(accuracy_score(labels.cpu().numpy(), preds))\n",
        "            \n",
        "            # Backward and optimize\n",
        "            optimizer.zero_grad()\n",
        "            loss.backward()\n",
        "            optimizer.step()\n",
        "\n",
        "        # Get metric in training dataset\n",
        "        mean_epoch_accuracy = np.mean(training_metrics)\n",
        "        train_metric_history.append(mean_epoch_accuracy)\n",
        "        \n",
        "        # Get metric in validation dataset\n",
        "        model.eval()\n",
        "        tuning_metric = model_eval(val_loader, model, gpu=args.use_gpu)\n",
        "        metric_history.append(tuning_metric['accuracy'])\n",
        "\n",
        "        # Update scheduler\n",
        "        scheduler.step(tuning_metric['accuracy'])\n",
        "\n",
        "        # Check for metric improvement\n",
        "        is_improvement = tuning_metric['accuracy'] > best_metric\n",
        "        if is_improvement:\n",
        "            best_metric = tuning_metric['accuracy']\n",
        "            n_no_improve = 0\n",
        "        else:\n",
        "            n_no_improve += 1\n",
        "\n",
        "        # Save best model if metric improved\n",
        "        save_checkpoint(\n",
        "            {\n",
        "                \"epoch\": epoch + 1,\n",
        "                \"state_dict\": model.state_dict(),\n",
        "                \"optimizer\": optimizer.state_dict(),\n",
        "                \"scheduler\": scheduler.state_dict(),\n",
        "                \"best_metric\": best_metric,\n",
        "            },\n",
        "            is_improvement,\n",
        "            args.savedir, \n",
        "        )\n",
        "\n",
        "        # Early stopping\n",
        "        if n_no_improve >= args.patience:\n",
        "            print(\"No improvement. Breaking out of loop.\")\n",
        "            break\n",
        "\n",
        "        print ('Epoch [{}/{}], Loss: {:.4f} - Train Accuracy: {:.4f} - Val Accuracy: {:.4f} - Epoch time: {:.2f} s'\n",
        "            .format(epoch+1, args.num_epochs, np.mean(loss_epoch), mean_epoch_accuracy, tuning_metric['accuracy'], (time.time()- epoch_start_time)))\n",
        "        \n",
        "    return train_metric_history, metric_history"
      ],
      "execution_count": 18,
      "outputs": []
    },
    {
      "cell_type": "markdown",
      "metadata": {
        "id": "tHZNC9ChDSmq"
      },
      "source": [
        "### Train CNN classifier"
      ]
    },
    {
      "cell_type": "markdown",
      "metadata": {
        "id": "-ulYuofz8iKt"
      },
      "source": [
        "# CNN-rand"
      ]
    },
    {
      "cell_type": "code",
      "metadata": {
        "id": "KS8Vy7GXDYPb"
      },
      "source": [
        "# Model hyperparameters\n",
        "args.d = 100 # Dimension of word embeddings\n",
        "args.filter_sizes = [3, 4, 5]\n",
        "args.num_filters = 100\n",
        "args.dropout = 0.1\n",
        "\n",
        "# Training hyperparameters\n",
        "args.lr = 1e-2\n",
        "args.num_epochs = 100\n",
        "args.patience = 10\n",
        "\n",
        "# Scheduler hyperparameters\n",
        "args.lr_patience = 5\n",
        "args.lr_factor = 0.5\n",
        "\n",
        "# Saving directory\n",
        "args.savedir = 'model'\n",
        "os.makedirs(args.savedir, exist_ok = True)\n",
        "\n",
        "# Create model\n",
        "model = CNNTextCls(args)\n",
        "\n",
        "# Send to GPU\n",
        "args.use_gpu = torch.cuda.is_available()\n",
        "if args.use_gpu:\n",
        "    model.cuda()\n",
        "\n",
        "# Loss, Optimizer and Scheduler\n",
        "criterion = nn.BCEWithLogitsLoss()\n",
        "optimizer = torch.optim.SGD(model.parameters(), lr=args.lr)\n",
        "scheduler = torch.optim.lr_scheduler.ReduceLROnPlateau(\n",
        "                optimizer, \"max\",\n",
        "                patience=args.lr_patience,\n",
        "                verbose=True,\n",
        "                factor=args.lr_factor\n",
        "            )"
      ],
      "execution_count": 19,
      "outputs": []
    },
    {
      "cell_type": "code",
      "metadata": {
        "colab": {
          "base_uri": "https://localhost:8080/"
        },
        "id": "TKZAD3nju5Cv",
        "outputId": "4d5cc9ba-a813-4859-a618-bd02f1ad510f"
      },
      "source": [
        "start_time = time.time()\n",
        "train_metric_history_cnn, val_metric_history_cnn = train(args, model, train_loader, val_loader, optimizer, criterion, scheduler)\n",
        "print(\"Total training time: {:.4f} seconds\".format((time.time() - start_time)))"
      ],
      "execution_count": 20,
      "outputs": [
        {
          "output_type": "stream",
          "text": [
            "Epoch [1/100], Loss: 0.6622 - Train Accuracy: 0.6284 - Val Accuracy: 0.6721 - Epoch time: 0.77 s\n",
            "Epoch [2/100], Loss: 0.6420 - Train Accuracy: 0.6439 - Val Accuracy: 0.6721 - Epoch time: 0.77 s\n",
            "Epoch [3/100], Loss: 0.6246 - Train Accuracy: 0.6546 - Val Accuracy: 0.6721 - Epoch time: 0.76 s\n",
            "Epoch [4/100], Loss: 0.6089 - Train Accuracy: 0.6674 - Val Accuracy: 0.7189 - Epoch time: 0.74 s\n",
            "Epoch [5/100], Loss: 0.5928 - Train Accuracy: 0.6895 - Val Accuracy: 0.7207 - Epoch time: 0.79 s\n",
            "Epoch [6/100], Loss: 0.5741 - Train Accuracy: 0.6988 - Val Accuracy: 0.7315 - Epoch time: 0.76 s\n",
            "Epoch [7/100], Loss: 0.5604 - Train Accuracy: 0.7172 - Val Accuracy: 0.7117 - Epoch time: 0.74 s\n",
            "Epoch [8/100], Loss: 0.5375 - Train Accuracy: 0.7371 - Val Accuracy: 0.7279 - Epoch time: 0.75 s\n",
            "Epoch [9/100], Loss: 0.5218 - Train Accuracy: 0.7579 - Val Accuracy: 0.7405 - Epoch time: 0.74 s\n",
            "Epoch [10/100], Loss: 0.5075 - Train Accuracy: 0.7587 - Val Accuracy: 0.7423 - Epoch time: 0.76 s\n",
            "Epoch [11/100], Loss: 0.4898 - Train Accuracy: 0.7721 - Val Accuracy: 0.7441 - Epoch time: 0.76 s\n",
            "Epoch [12/100], Loss: 0.4689 - Train Accuracy: 0.7885 - Val Accuracy: 0.7514 - Epoch time: 0.85 s\n",
            "Epoch [13/100], Loss: 0.4597 - Train Accuracy: 0.7931 - Val Accuracy: 0.7622 - Epoch time: 0.74 s\n",
            "Epoch [14/100], Loss: 0.4417 - Train Accuracy: 0.8050 - Val Accuracy: 0.7622 - Epoch time: 0.74 s\n",
            "Epoch [15/100], Loss: 0.4342 - Train Accuracy: 0.8046 - Val Accuracy: 0.7514 - Epoch time: 0.75 s\n",
            "Epoch [16/100], Loss: 0.4181 - Train Accuracy: 0.8156 - Val Accuracy: 0.7640 - Epoch time: 0.75 s\n",
            "Epoch [17/100], Loss: 0.4044 - Train Accuracy: 0.8230 - Val Accuracy: 0.7676 - Epoch time: 0.76 s\n",
            "Epoch [18/100], Loss: 0.3923 - Train Accuracy: 0.8335 - Val Accuracy: 0.7676 - Epoch time: 0.75 s\n",
            "Epoch [19/100], Loss: 0.3791 - Train Accuracy: 0.8459 - Val Accuracy: 0.7676 - Epoch time: 0.75 s\n",
            "Epoch [20/100], Loss: 0.3597 - Train Accuracy: 0.8594 - Val Accuracy: 0.7730 - Epoch time: 0.77 s\n",
            "Epoch [21/100], Loss: 0.3529 - Train Accuracy: 0.8601 - Val Accuracy: 0.7730 - Epoch time: 0.76 s\n",
            "Epoch [22/100], Loss: 0.3337 - Train Accuracy: 0.8715 - Val Accuracy: 0.7712 - Epoch time: 0.75 s\n",
            "Epoch [23/100], Loss: 0.3229 - Train Accuracy: 0.8775 - Val Accuracy: 0.7676 - Epoch time: 0.77 s\n",
            "Epoch [24/100], Loss: 0.3139 - Train Accuracy: 0.8831 - Val Accuracy: 0.7730 - Epoch time: 0.79 s\n",
            "Epoch [25/100], Loss: 0.2968 - Train Accuracy: 0.8914 - Val Accuracy: 0.7766 - Epoch time: 0.76 s\n",
            "Epoch [26/100], Loss: 0.2881 - Train Accuracy: 0.9006 - Val Accuracy: 0.7748 - Epoch time: 0.77 s\n",
            "Epoch [27/100], Loss: 0.2817 - Train Accuracy: 0.9054 - Val Accuracy: 0.7730 - Epoch time: 0.74 s\n",
            "Epoch [28/100], Loss: 0.2698 - Train Accuracy: 0.9114 - Val Accuracy: 0.7748 - Epoch time: 0.75 s\n",
            "Epoch [29/100], Loss: 0.2597 - Train Accuracy: 0.9152 - Val Accuracy: 0.7694 - Epoch time: 0.75 s\n",
            "Epoch [30/100], Loss: 0.2449 - Train Accuracy: 0.9198 - Val Accuracy: 0.7730 - Epoch time: 0.76 s\n",
            "Epoch    31: reducing learning rate of group 0 to 5.0000e-03.\n",
            "Epoch [31/100], Loss: 0.2366 - Train Accuracy: 0.9333 - Val Accuracy: 0.7712 - Epoch time: 0.73 s\n",
            "Epoch [32/100], Loss: 0.2243 - Train Accuracy: 0.9347 - Val Accuracy: 0.7748 - Epoch time: 0.74 s\n",
            "Epoch [33/100], Loss: 0.2173 - Train Accuracy: 0.9357 - Val Accuracy: 0.7730 - Epoch time: 0.75 s\n",
            "Epoch [34/100], Loss: 0.2182 - Train Accuracy: 0.9379 - Val Accuracy: 0.7712 - Epoch time: 0.75 s\n",
            "No improvement. Breaking out of loop.\n",
            "Total training time: 26.5226 seconds\n"
          ],
          "name": "stdout"
        }
      ]
    },
    {
      "cell_type": "code",
      "metadata": {
        "colab": {
          "base_uri": "https://localhost:8080/"
        },
        "id": "5vEILMHv3ooO",
        "outputId": "d015fab0-224a-4887-dd88-2d9a21809aaa"
      },
      "source": [
        "model.load_state_dict(torch.load('model/model_best.pt')['state_dict'])\n",
        "model.eval()\n",
        "test_metric = model_eval(test_loader, model, gpu=args.use_gpu)\n",
        "print(\"\\nTest Accuracy: {:.4f}\".format(test_metric[\"accuracy\"]))"
      ],
      "execution_count": 21,
      "outputs": [
        {
          "output_type": "stream",
          "text": [
            "\n",
            "Test Accuracy: 0.7386\n"
          ],
          "name": "stdout"
        }
      ]
    },
    {
      "cell_type": "code",
      "metadata": {
        "colab": {
          "base_uri": "https://localhost:8080/",
          "height": 295
        },
        "id": "iKcKHosEx5ZC",
        "outputId": "b6c2df02-2ac5-4dcb-e0a0-0a584bc764ad"
      },
      "source": [
        "plt.plot(train_metric_history_cnn, label='train')\n",
        "plt.plot(val_metric_history_cnn, label='val')\n",
        "plt.title('CNN Classifier')\n",
        "plt.ylabel('Accuracy')\n",
        "plt.xlabel('# epoch')\n",
        "plt.legend(loc='best')\n",
        "plt.show()"
      ],
      "execution_count": 22,
      "outputs": [
        {
          "output_type": "display_data",
          "data": {
            "image/png": "[encoded data removed]",
            "text/plain": [
              "<Figure size 432x288 with 1 Axes>"
            ]
          },
          "metadata": {
            "tags": [],
            "needs_background": "light"
          }
        }
      ]
    },
    {
      "cell_type": "markdown",
      "metadata": {
        "id": "iOeHc2u-9KXy"
      },
      "source": [
        "# Cargo matriz de embeddings\n"
      ]
    },
    {
      "cell_type": "code",
      "metadata": {
        "colab": {
          "base_uri": "https://localhost:8080/"
        },
        "id": "X7i6JBZ69PQR",
        "outputId": "03665c9a-b83e-4fec-bb2d-76ad5d2ce874"
      },
      "source": [
        "from google.colab import drive\n",
        "drive.mount('/content/drive')"
      ],
      "execution_count": 23,
      "outputs": [
        {
          "output_type": "stream",
          "text": [
            "Drive already mounted at /content/drive; to attempt to forcibly remount, call drive.mount(\"/content/drive\", force_remount=True).\n"
          ],
          "name": "stdout"
        }
      ]
    },
    {
      "cell_type": "code",
      "metadata": {
        "id": "7ba3a6nE6kyd"
      },
      "source": [
        "word2vec_dir = '/content/drive/MyDrive/CIMAT/Segundo_Semestre/Lenguaje Natural/T05/word2vec_col.txt'"
      ],
      "execution_count": 24,
      "outputs": []
    },
    {
      "cell_type": "code",
      "metadata": {
        "id": "Da0OD8i69Zp0"
      },
      "source": [
        "def get_word2vec(dir) :\n",
        "  # read txt\n",
        "  full_txt = pd.read_csv(word2vec_dir, sep = '\\r\\n', engine = 'python', header = None).loc[:,0].values.tolist()\n",
        "  # d[0] for total words, d[1] for embeddings dimension\n",
        "  dimensions = np.array(full_txt[0].split(), dtype = np.int)\n",
        "  full_txt = full_txt[1:]\n",
        "  word2vec = dict()\n",
        "  for i in range(dimensions[0]) :\n",
        "    embedding = full_txt[i].split(' ')\n",
        "    # Add word to dictionary\n",
        "    word2vec[embedding[0]] = np.float_(embedding[1:])\n",
        "  return word2vec"
      ],
      "execution_count": 25,
      "outputs": []
    },
    {
      "cell_type": "code",
      "metadata": {
        "id": "8xBfMVC_9bjt"
      },
      "source": [
        "emb_dim = 100\n",
        "word2vec_model = get_word2vec(word2vec_dir)"
      ],
      "execution_count": 26,
      "outputs": []
    },
    {
      "cell_type": "code",
      "metadata": {
        "id": "lgx32U4L-MIo"
      },
      "source": [
        "# Construyo Matriz\n",
        "embedding_matrix = np.random.normal(0, 1, size = (len(vocab), emb_dim))\n",
        "\n",
        "for word, id in w2idx.items() :\n",
        "  if word in word2vec_model :\n",
        "    embedding_matrix[id] = word2vec_model[word]"
      ],
      "execution_count": 27,
      "outputs": []
    },
    {
      "cell_type": "markdown",
      "metadata": {
        "id": "VZzIiLPE8uXP"
      },
      "source": [
        "# CNN-Static"
      ]
    },
    {
      "cell_type": "code",
      "metadata": {
        "id": "7QoCRQgK9EkF"
      },
      "source": [
        "# Model hyperparameters\n",
        "args.d = 100 # Dimension of word embeddings\n",
        "args.filter_sizes = [3, 4, 5]\n",
        "args.num_filters = 100\n",
        "args.dropout = 0.1\n",
        "\n",
        "# Training hyperparameters\n",
        "args.lr = 1e-2\n",
        "args.num_epochs = 100\n",
        "args.patience = 10\n",
        "\n",
        "# Scheduler hyperparameters\n",
        "args.lr_patience = 5\n",
        "args.lr_factor = 0.5\n",
        "\n",
        "# Saving directory\n",
        "args.savedir = 'model'\n",
        "os.makedirs(args.savedir, exist_ok = True)\n",
        "\n",
        "# Create model\n",
        "model = CNNTextCls(args, embeddings = embedding_matrix, freeze = True)\n",
        "\n",
        "# Send to GPU\n",
        "args.use_gpu = torch.cuda.is_available()\n",
        "if args.use_gpu:\n",
        "    model.cuda()\n",
        "\n",
        "# Loss, Optimizer and Scheduler\n",
        "criterion = nn.BCEWithLogitsLoss()\n",
        "optimizer = torch.optim.SGD(model.parameters(), lr=args.lr)\n",
        "scheduler = torch.optim.lr_scheduler.ReduceLROnPlateau(\n",
        "                optimizer, \"max\",\n",
        "                patience=args.lr_patience,\n",
        "                verbose=True,\n",
        "                factor=args.lr_factor\n",
        "            )"
      ],
      "execution_count": 28,
      "outputs": []
    },
    {
      "cell_type": "code",
      "metadata": {
        "colab": {
          "base_uri": "https://localhost:8080/"
        },
        "id": "-5BfWyy4Ajqp",
        "outputId": "8aff8606-7e55-4bde-bb82-04c910eaa8b7"
      },
      "source": [
        "start_time = time.time()\n",
        "train_metric_history_cnn_static, val_metric_history_cnn_static = train(args, model, train_loader, val_loader, optimizer, criterion, scheduler)\n",
        "print(\"Total training time: {:.4f} seconds\".format((time.time() - start_time)))"
      ],
      "execution_count": 29,
      "outputs": [
        {
          "output_type": "stream",
          "text": [
            "Epoch [1/100], Loss: 1.2558 - Train Accuracy: 0.5764 - Val Accuracy: 0.7279 - Epoch time: 0.69 s\n",
            "Epoch [2/100], Loss: 0.6903 - Train Accuracy: 0.6685 - Val Accuracy: 0.7081 - Epoch time: 0.66 s\n",
            "Epoch [3/100], Loss: 0.5441 - Train Accuracy: 0.7296 - Val Accuracy: 0.6973 - Epoch time: 0.64 s\n",
            "Epoch [4/100], Loss: 0.4944 - Train Accuracy: 0.7598 - Val Accuracy: 0.7441 - Epoch time: 0.63 s\n",
            "Epoch [5/100], Loss: 0.4641 - Train Accuracy: 0.7801 - Val Accuracy: 0.7423 - Epoch time: 0.62 s\n",
            "Epoch [6/100], Loss: 0.4420 - Train Accuracy: 0.7919 - Val Accuracy: 0.7748 - Epoch time: 0.64 s\n",
            "Epoch [7/100], Loss: 0.4093 - Train Accuracy: 0.8140 - Val Accuracy: 0.7387 - Epoch time: 0.64 s\n",
            "Epoch [8/100], Loss: 0.3800 - Train Accuracy: 0.8263 - Val Accuracy: 0.7153 - Epoch time: 0.61 s\n",
            "Epoch [9/100], Loss: 0.3594 - Train Accuracy: 0.8463 - Val Accuracy: 0.7748 - Epoch time: 0.63 s\n",
            "Epoch [10/100], Loss: 0.3535 - Train Accuracy: 0.8443 - Val Accuracy: 0.7730 - Epoch time: 0.65 s\n",
            "Epoch [11/100], Loss: 0.3182 - Train Accuracy: 0.8691 - Val Accuracy: 0.7712 - Epoch time: 0.62 s\n",
            "Epoch [12/100], Loss: 0.2924 - Train Accuracy: 0.8799 - Val Accuracy: 0.7838 - Epoch time: 0.63 s\n",
            "Epoch [13/100], Loss: 0.2689 - Train Accuracy: 0.8916 - Val Accuracy: 0.7892 - Epoch time: 0.63 s\n",
            "Epoch [14/100], Loss: 0.2414 - Train Accuracy: 0.9074 - Val Accuracy: 0.7820 - Epoch time: 0.62 s\n",
            "Epoch [15/100], Loss: 0.2313 - Train Accuracy: 0.9154 - Val Accuracy: 0.7802 - Epoch time: 0.66 s\n",
            "Epoch [16/100], Loss: 0.2097 - Train Accuracy: 0.9259 - Val Accuracy: 0.7820 - Epoch time: 0.65 s\n",
            "Epoch [17/100], Loss: 0.1888 - Train Accuracy: 0.9410 - Val Accuracy: 0.7856 - Epoch time: 0.64 s\n",
            "Epoch [18/100], Loss: 0.1846 - Train Accuracy: 0.9387 - Val Accuracy: 0.7874 - Epoch time: 0.64 s\n",
            "Epoch    19: reducing learning rate of group 0 to 5.0000e-03.\n",
            "Epoch [19/100], Loss: 0.1535 - Train Accuracy: 0.9545 - Val Accuracy: 0.7856 - Epoch time: 0.62 s\n",
            "Epoch [20/100], Loss: 0.1341 - Train Accuracy: 0.9681 - Val Accuracy: 0.7874 - Epoch time: 0.63 s\n",
            "Epoch [21/100], Loss: 0.1272 - Train Accuracy: 0.9705 - Val Accuracy: 0.7874 - Epoch time: 0.63 s\n",
            "Epoch [22/100], Loss: 0.1212 - Train Accuracy: 0.9727 - Val Accuracy: 0.7838 - Epoch time: 0.63 s\n",
            "No improvement. Breaking out of loop.\n",
            "Total training time: 14.6434 seconds\n"
          ],
          "name": "stdout"
        }
      ]
    },
    {
      "cell_type": "code",
      "metadata": {
        "colab": {
          "base_uri": "https://localhost:8080/"
        },
        "id": "D185QU8FAdpU",
        "outputId": "51b5d904-0b2c-4cfa-ba4b-27497a26549d"
      },
      "source": [
        "model.load_state_dict(torch.load('model/model_best.pt')['state_dict'])\n",
        "model.eval()\n",
        "test_metric = model_eval(test_loader, model, gpu=args.use_gpu)\n",
        "print(\"\\nTest Accuracy: {:.4f}\".format(test_metric[\"accuracy\"]))"
      ],
      "execution_count": 30,
      "outputs": [
        {
          "output_type": "stream",
          "text": [
            "\n",
            "Test Accuracy: 0.7532\n"
          ],
          "name": "stdout"
        }
      ]
    },
    {
      "cell_type": "code",
      "metadata": {
        "colab": {
          "base_uri": "https://localhost:8080/",
          "height": 295
        },
        "id": "PWQW5Tn6AgvM",
        "outputId": "3a9d41d0-4b56-4ece-a741-c1b137912bc8"
      },
      "source": [
        "plt.plot(train_metric_history_cnn_static, label='train')\n",
        "plt.plot(val_metric_history_cnn_static, label='val')\n",
        "plt.title('CNN-Static Classifier')\n",
        "plt.ylabel('Accuracy')\n",
        "plt.xlabel('# epoch')\n",
        "plt.legend(loc='best')\n",
        "plt.show()"
      ],
      "execution_count": 31,
      "outputs": [
        {
          "output_type": "display_data",
          "data": {
            "image/png": "[encoded data removed]",
            "text/plain": [
              "<Figure size 432x288 with 1 Axes>"
            ]
          },
          "metadata": {
            "tags": [],
            "needs_background": "light"
          }
        }
      ]
    },
    {
      "cell_type": "markdown",
      "metadata": {
        "id": "xgR44Ih48uCs"
      },
      "source": [
        "# CNN-Non-Static"
      ]
    },
    {
      "cell_type": "markdown",
      "metadata": {
        "id": "QXAo1GibAEGk"
      },
      "source": [
        "## Modelo"
      ]
    },
    {
      "cell_type": "code",
      "metadata": {
        "id": "Zbga2_IY_guI"
      },
      "source": [
        "# Model hyperparameters\n",
        "args.d = 100 # Dimension of word embeddings\n",
        "args.filter_sizes = [3, 4, 5]\n",
        "args.num_filters = 100\n",
        "args.dropout = 0.1\n",
        "\n",
        "# Training hyperparameters\n",
        "args.lr = 1e-2\n",
        "args.num_epochs = 100\n",
        "args.patience = 10\n",
        "\n",
        "# Scheduler hyperparameters\n",
        "args.lr_patience = 5\n",
        "args.lr_factor = 0.5\n",
        "\n",
        "# Saving directory\n",
        "args.savedir = 'model'\n",
        "os.makedirs(args.savedir, exist_ok = True)\n",
        "\n",
        "# Create model\n",
        "model = CNNTextCls(args, embeddings = embedding_matrix)\n",
        "\n",
        "# Send to GPU\n",
        "args.use_gpu = torch.cuda.is_available()\n",
        "if args.use_gpu:\n",
        "    model.cuda()\n",
        "\n",
        "# Loss, Optimizer and Scheduler\n",
        "criterion = nn.BCEWithLogitsLoss()\n",
        "optimizer = torch.optim.SGD(model.parameters(), lr=args.lr)\n",
        "scheduler = torch.optim.lr_scheduler.ReduceLROnPlateau(\n",
        "                optimizer, \"max\",\n",
        "                patience=args.lr_patience,\n",
        "                verbose=True,\n",
        "                factor=args.lr_factor\n",
        "            )"
      ],
      "execution_count": 32,
      "outputs": []
    },
    {
      "cell_type": "code",
      "metadata": {
        "colab": {
          "base_uri": "https://localhost:8080/"
        },
        "id": "Z7aO0OMT_GYO",
        "outputId": "0b1aaa28-5963-4deb-c46e-9f01fe30b33c"
      },
      "source": [
        "start_time = time.time()\n",
        "train_metric_history_cnn_nonstatic, val_metric_history_cnn_nonstatic = train(args, model, train_loader, val_loader, optimizer, criterion, scheduler)\n",
        "print(\"Total training time: {:.4f} seconds\".format((time.time() - start_time)))"
      ],
      "execution_count": 33,
      "outputs": [
        {
          "output_type": "stream",
          "text": [
            "Epoch [1/100], Loss: 1.2537 - Train Accuracy: 0.5737 - Val Accuracy: 0.6955 - Epoch time: 0.70 s\n",
            "Epoch [2/100], Loss: 0.6487 - Train Accuracy: 0.6899 - Val Accuracy: 0.7514 - Epoch time: 0.63 s\n",
            "Epoch [3/100], Loss: 0.5450 - Train Accuracy: 0.7240 - Val Accuracy: 0.6234 - Epoch time: 0.62 s\n",
            "Epoch [4/100], Loss: 0.5389 - Train Accuracy: 0.7386 - Val Accuracy: 0.7387 - Epoch time: 0.63 s\n",
            "Epoch [5/100], Loss: 0.4838 - Train Accuracy: 0.7715 - Val Accuracy: 0.7532 - Epoch time: 0.62 s\n",
            "Epoch [6/100], Loss: 0.4513 - Train Accuracy: 0.7876 - Val Accuracy: 0.7477 - Epoch time: 0.63 s\n",
            "Epoch [7/100], Loss: 0.4269 - Train Accuracy: 0.8072 - Val Accuracy: 0.7730 - Epoch time: 0.62 s\n",
            "Epoch [8/100], Loss: 0.4032 - Train Accuracy: 0.8154 - Val Accuracy: 0.7658 - Epoch time: 0.63 s\n",
            "Epoch [9/100], Loss: 0.3675 - Train Accuracy: 0.8373 - Val Accuracy: 0.7766 - Epoch time: 0.62 s\n",
            "Epoch [10/100], Loss: 0.3418 - Train Accuracy: 0.8507 - Val Accuracy: 0.7676 - Epoch time: 0.62 s\n",
            "Epoch [11/100], Loss: 0.3306 - Train Accuracy: 0.8625 - Val Accuracy: 0.7495 - Epoch time: 0.64 s\n",
            "Epoch [12/100], Loss: 0.2988 - Train Accuracy: 0.8789 - Val Accuracy: 0.7658 - Epoch time: 0.62 s\n",
            "Epoch [13/100], Loss: 0.2713 - Train Accuracy: 0.8941 - Val Accuracy: 0.7748 - Epoch time: 0.65 s\n",
            "Epoch [14/100], Loss: 0.2490 - Train Accuracy: 0.9044 - Val Accuracy: 0.7784 - Epoch time: 0.66 s\n",
            "Epoch [15/100], Loss: 0.2318 - Train Accuracy: 0.9164 - Val Accuracy: 0.7712 - Epoch time: 0.63 s\n",
            "Epoch [16/100], Loss: 0.2090 - Train Accuracy: 0.9298 - Val Accuracy: 0.7514 - Epoch time: 0.66 s\n",
            "Epoch [17/100], Loss: 0.1915 - Train Accuracy: 0.9362 - Val Accuracy: 0.7622 - Epoch time: 0.63 s\n",
            "Epoch [18/100], Loss: 0.1778 - Train Accuracy: 0.9397 - Val Accuracy: 0.7676 - Epoch time: 0.63 s\n",
            "Epoch [19/100], Loss: 0.1627 - Train Accuracy: 0.9507 - Val Accuracy: 0.7802 - Epoch time: 0.64 s\n",
            "Epoch [20/100], Loss: 0.1520 - Train Accuracy: 0.9565 - Val Accuracy: 0.7712 - Epoch time: 0.64 s\n",
            "Epoch [21/100], Loss: 0.1434 - Train Accuracy: 0.9585 - Val Accuracy: 0.7748 - Epoch time: 0.63 s\n",
            "Epoch [22/100], Loss: 0.1297 - Train Accuracy: 0.9611 - Val Accuracy: 0.7730 - Epoch time: 0.64 s\n",
            "Epoch [23/100], Loss: 0.1189 - Train Accuracy: 0.9691 - Val Accuracy: 0.7766 - Epoch time: 0.67 s\n",
            "Epoch [24/100], Loss: 0.1037 - Train Accuracy: 0.9787 - Val Accuracy: 0.7730 - Epoch time: 0.63 s\n",
            "Epoch    25: reducing learning rate of group 0 to 5.0000e-03.\n",
            "Epoch [25/100], Loss: 0.1018 - Train Accuracy: 0.9777 - Val Accuracy: 0.7730 - Epoch time: 0.64 s\n",
            "Epoch [26/100], Loss: 0.0835 - Train Accuracy: 0.9870 - Val Accuracy: 0.7874 - Epoch time: 0.64 s\n",
            "Epoch [27/100], Loss: 0.0843 - Train Accuracy: 0.9840 - Val Accuracy: 0.7712 - Epoch time: 0.65 s\n",
            "Epoch [28/100], Loss: 0.0803 - Train Accuracy: 0.9858 - Val Accuracy: 0.7748 - Epoch time: 0.64 s\n",
            "Epoch [29/100], Loss: 0.0777 - Train Accuracy: 0.9882 - Val Accuracy: 0.7784 - Epoch time: 0.65 s\n",
            "Epoch [30/100], Loss: 0.0763 - Train Accuracy: 0.9888 - Val Accuracy: 0.7784 - Epoch time: 0.62 s\n",
            "Epoch [31/100], Loss: 0.0752 - Train Accuracy: 0.9860 - Val Accuracy: 0.7820 - Epoch time: 0.63 s\n",
            "Epoch    32: reducing learning rate of group 0 to 2.5000e-03.\n",
            "Epoch [32/100], Loss: 0.0664 - Train Accuracy: 0.9912 - Val Accuracy: 0.7856 - Epoch time: 0.64 s\n",
            "Epoch [33/100], Loss: 0.0653 - Train Accuracy: 0.9904 - Val Accuracy: 0.7820 - Epoch time: 0.63 s\n",
            "Epoch [34/100], Loss: 0.0672 - Train Accuracy: 0.9882 - Val Accuracy: 0.7838 - Epoch time: 0.62 s\n",
            "Epoch [35/100], Loss: 0.0624 - Train Accuracy: 0.9916 - Val Accuracy: 0.7838 - Epoch time: 0.63 s\n",
            "No improvement. Breaking out of loop.\n",
            "Total training time: 22.9041 seconds\n"
          ],
          "name": "stdout"
        }
      ]
    },
    {
      "cell_type": "code",
      "metadata": {
        "colab": {
          "base_uri": "https://localhost:8080/"
        },
        "id": "1PexsjXl_OSn",
        "outputId": "9ada4f6b-00cb-42e1-c931-2d5ad6889c2d"
      },
      "source": [
        "model.load_state_dict(torch.load('model/model_best.pt')['state_dict'])\n",
        "model.eval()\n",
        "test_metric = model_eval(test_loader, model, gpu=args.use_gpu)\n",
        "print(\"\\nTest Accuracy: {:.4f}\".format(test_metric[\"accuracy\"]))"
      ],
      "execution_count": 34,
      "outputs": [
        {
          "output_type": "stream",
          "text": [
            "\n",
            "Test Accuracy: 0.7500\n"
          ],
          "name": "stdout"
        }
      ]
    },
    {
      "cell_type": "code",
      "metadata": {
        "colab": {
          "base_uri": "https://localhost:8080/",
          "height": 295
        },
        "id": "d-6VkD3p_RTD",
        "outputId": "5d4a2236-bb8a-4ff9-9578-d16a4459b24d"
      },
      "source": [
        "plt.plot(train_metric_history_cnn_nonstatic, label='train')\n",
        "plt.plot(val_metric_history_cnn_nonstatic, label='val')\n",
        "plt.title('CNN-Non-Static Classifier')\n",
        "plt.ylabel('Accuracy')\n",
        "plt.xlabel('# epoch')\n",
        "plt.legend(loc='best')\n",
        "plt.show()"
      ],
      "execution_count": 35,
      "outputs": [
        {
          "output_type": "display_data",
          "data": {
            "image/png": "[encoded data removed]",
            "text/plain": [
              "<Figure size 432x288 with 1 Axes>"
            ]
          },
          "metadata": {
            "tags": [],
            "needs_background": "light"
          }
        }
      ]
    },
    {
      "cell_type": "markdown",
      "metadata": {
        "id": "ODhW5yZVDWbn"
      },
      "source": [
        "# Gráfica de Comparación"
      ]
    },
    {
      "cell_type": "code",
      "metadata": {
        "colab": {
          "base_uri": "https://localhost:8080/",
          "height": 296
        },
        "id": "BFcX5Hr1DYxP",
        "outputId": "e9168458-a3e6-4faa-becf-7d040c5db592"
      },
      "source": [
        "plt.plot(val_metric_history_cnn, label='rand')\n",
        "plt.plot(val_metric_history_cnn_static, label='static')\n",
        "plt.plot(val_metric_history_cnn_nonstatic, label='non_static')\n",
        "plt.legend()\n",
        "plt.xlabel('Epoch')\n",
        "plt.ylabel('Validation Accuracy')"
      ],
      "execution_count": 36,
      "outputs": [
        {
          "output_type": "execute_result",
          "data": {
            "text/plain": [
              "Text(0, 0.5, 'Validation Accuracy')"
            ]
          },
          "metadata": {
            "tags": []
          },
          "execution_count": 36
        },
        {
          "output_type": "display_data",
          "data": {
            "image/png": "[encoded data removed]",
            "text/plain": [
              "<Figure size 432x288 with 1 Axes>"
            ]
          },
          "metadata": {
            "tags": [],
            "needs_background": "light"
          }
        }
      ]
    }
  ]
}