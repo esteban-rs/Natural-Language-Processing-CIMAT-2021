{
  "nbformat": 4,
  "nbformat_minor": 0,
  "metadata": {
    "colab": {
      "name": "esteban_reyes_saldana.ipynb",
      "provenance": [],
      "collapsed_sections": []
    },
    "kernelspec": {
      "name": "python3",
      "display_name": "Python 3"
    },
    "language_info": {
      "name": "python"
    },
    "accelerator": "GPU",
    "widgets": {
      "application/vnd.jupyter.widget-state+json": {
        "4aad728f38af4bb3b8c74dcef7e9f1f9": {
          "model_module": "@jupyter-widgets/controls",
          "model_name": "HBoxModel",
          "state": {
            "_view_name": "HBoxView",
            "_dom_classes": [],
            "_model_name": "HBoxModel",
            "_view_module": "@jupyter-widgets/controls",
            "_model_module_version": "1.5.0",
            "_view_count": null,
            "_view_module_version": "1.5.0",
            "box_style": "",
            "layout": "IPY_MODEL_b217204afd284155b17b9d14adb86cf9",
            "_model_module": "@jupyter-widgets/controls",
            "children": [
              "IPY_MODEL_c2d85162bcf047fa8217425d70024b2c",
              "IPY_MODEL_393bec1e3db64e1590b2fbad2e6ea752"
            ]
          }
        },
        "b217204afd284155b17b9d14adb86cf9": {
          "model_module": "@jupyter-widgets/base",
          "model_name": "LayoutModel",
          "state": {
            "_view_name": "LayoutView",
            "grid_template_rows": null,
            "right": null,
            "justify_content": null,
            "_view_module": "@jupyter-widgets/base",
            "overflow": null,
            "_model_module_version": "1.2.0",
            "_view_count": null,
            "flex_flow": null,
            "width": null,
            "min_width": null,
            "border": null,
            "align_items": null,
            "bottom": null,
            "_model_module": "@jupyter-widgets/base",
            "top": null,
            "grid_column": null,
            "overflow_y": null,
            "overflow_x": null,
            "grid_auto_flow": null,
            "grid_area": null,
            "grid_template_columns": null,
            "flex": null,
            "_model_name": "LayoutModel",
            "justify_items": null,
            "grid_row": null,
            "max_height": null,
            "align_content": null,
            "visibility": null,
            "align_self": null,
            "height": null,
            "min_height": null,
            "padding": null,
            "grid_auto_rows": null,
            "grid_gap": null,
            "max_width": null,
            "order": null,
            "_view_module_version": "1.2.0",
            "grid_template_areas": null,
            "object_position": null,
            "object_fit": null,
            "grid_auto_columns": null,
            "margin": null,
            "display": null,
            "left": null
          }
        },
        "c2d85162bcf047fa8217425d70024b2c": {
          "model_module": "@jupyter-widgets/controls",
          "model_name": "FloatProgressModel",
          "state": {
            "_view_name": "ProgressView",
            "style": "IPY_MODEL_3cf8048bfcc34bbea861840c60816bdd",
            "_dom_classes": [],
            "description": "training routine:  65%",
            "_model_name": "FloatProgressModel",
            "bar_style": "",
            "max": 100,
            "_view_module": "@jupyter-widgets/controls",
            "_model_module_version": "1.5.0",
            "value": 65,
            "_view_count": null,
            "_view_module_version": "1.5.0",
            "orientation": "horizontal",
            "min": 0,
            "description_tooltip": null,
            "_model_module": "@jupyter-widgets/controls",
            "layout": "IPY_MODEL_2162328094bf401e872923b7ba7c01e2"
          }
        },
        "393bec1e3db64e1590b2fbad2e6ea752": {
          "model_module": "@jupyter-widgets/controls",
          "model_name": "HTMLModel",
          "state": {
            "_view_name": "HTMLView",
            "style": "IPY_MODEL_f55639372381437e83b0f5fa083f9e5a",
            "_dom_classes": [],
            "description": "",
            "_model_name": "HTMLModel",
            "placeholder": "​",
            "_view_module": "@jupyter-widgets/controls",
            "_model_module_version": "1.5.0",
            "value": " 65/100 [31:05&lt;17:23, 29.81s/it, best_val=3.22]",
            "_view_count": null,
            "_view_module_version": "1.5.0",
            "description_tooltip": null,
            "_model_module": "@jupyter-widgets/controls",
            "layout": "IPY_MODEL_adeafc5b25c34a878a551a669450258a"
          }
        },
        "3cf8048bfcc34bbea861840c60816bdd": {
          "model_module": "@jupyter-widgets/controls",
          "model_name": "ProgressStyleModel",
          "state": {
            "_view_name": "StyleView",
            "_model_name": "ProgressStyleModel",
            "description_width": "initial",
            "_view_module": "@jupyter-widgets/base",
            "_model_module_version": "1.5.0",
            "_view_count": null,
            "_view_module_version": "1.2.0",
            "bar_color": null,
            "_model_module": "@jupyter-widgets/controls"
          }
        },
        "2162328094bf401e872923b7ba7c01e2": {
          "model_module": "@jupyter-widgets/base",
          "model_name": "LayoutModel",
          "state": {
            "_view_name": "LayoutView",
            "grid_template_rows": null,
            "right": null,
            "justify_content": null,
            "_view_module": "@jupyter-widgets/base",
            "overflow": null,
            "_model_module_version": "1.2.0",
            "_view_count": null,
            "flex_flow": null,
            "width": null,
            "min_width": null,
            "border": null,
            "align_items": null,
            "bottom": null,
            "_model_module": "@jupyter-widgets/base",
            "top": null,
            "grid_column": null,
            "overflow_y": null,
            "overflow_x": null,
            "grid_auto_flow": null,
            "grid_area": null,
            "grid_template_columns": null,
            "flex": null,
            "_model_name": "LayoutModel",
            "justify_items": null,
            "grid_row": null,
            "max_height": null,
            "align_content": null,
            "visibility": null,
            "align_self": null,
            "height": null,
            "min_height": null,
            "padding": null,
            "grid_auto_rows": null,
            "grid_gap": null,
            "max_width": null,
            "order": null,
            "_view_module_version": "1.2.0",
            "grid_template_areas": null,
            "object_position": null,
            "object_fit": null,
            "grid_auto_columns": null,
            "margin": null,
            "display": null,
            "left": null
          }
        },
        "f55639372381437e83b0f5fa083f9e5a": {
          "model_module": "@jupyter-widgets/controls",
          "model_name": "DescriptionStyleModel",
          "state": {
            "_view_name": "StyleView",
            "_model_name": "DescriptionStyleModel",
            "description_width": "",
            "_view_module": "@jupyter-widgets/base",
            "_model_module_version": "1.5.0",
            "_view_count": null,
            "_view_module_version": "1.2.0",
            "_model_module": "@jupyter-widgets/controls"
          }
        },
        "adeafc5b25c34a878a551a669450258a": {
          "model_module": "@jupyter-widgets/base",
          "model_name": "LayoutModel",
          "state": {
            "_view_name": "LayoutView",
            "grid_template_rows": null,
            "right": null,
            "justify_content": null,
            "_view_module": "@jupyter-widgets/base",
            "overflow": null,
            "_model_module_version": "1.2.0",
            "_view_count": null,
            "flex_flow": null,
            "width": null,
            "min_width": null,
            "border": null,
            "align_items": null,
            "bottom": null,
            "_model_module": "@jupyter-widgets/base",
            "top": null,
            "grid_column": null,
            "overflow_y": null,
            "overflow_x": null,
            "grid_auto_flow": null,
            "grid_area": null,
            "grid_template_columns": null,
            "flex": null,
            "_model_name": "LayoutModel",
            "justify_items": null,
            "grid_row": null,
            "max_height": null,
            "align_content": null,
            "visibility": null,
            "align_self": null,
            "height": null,
            "min_height": null,
            "padding": null,
            "grid_auto_rows": null,
            "grid_gap": null,
            "max_width": null,
            "order": null,
            "_view_module_version": "1.2.0",
            "grid_template_areas": null,
            "object_position": null,
            "object_fit": null,
            "grid_auto_columns": null,
            "margin": null,
            "display": null,
            "left": null
          }
        },
        "f5da37099e43418db09f51fd3d5df4df": {
          "model_module": "@jupyter-widgets/controls",
          "model_name": "HBoxModel",
          "state": {
            "_view_name": "HBoxView",
            "_dom_classes": [],
            "_model_name": "HBoxModel",
            "_view_module": "@jupyter-widgets/controls",
            "_model_module_version": "1.5.0",
            "_view_count": null,
            "_view_module_version": "1.5.0",
            "box_style": "",
            "layout": "IPY_MODEL_c07f5e206510459c80fd2ed117ffcaac",
            "_model_module": "@jupyter-widgets/controls",
            "children": [
              "IPY_MODEL_9de70f9dda46474db89642e7bcc6adf4",
              "IPY_MODEL_7b14a9bc5be64fcb96df01820da83202"
            ]
          }
        },
        "c07f5e206510459c80fd2ed117ffcaac": {
          "model_module": "@jupyter-widgets/base",
          "model_name": "LayoutModel",
          "state": {
            "_view_name": "LayoutView",
            "grid_template_rows": null,
            "right": null,
            "justify_content": null,
            "_view_module": "@jupyter-widgets/base",
            "overflow": null,
            "_model_module_version": "1.2.0",
            "_view_count": null,
            "flex_flow": null,
            "width": null,
            "min_width": null,
            "border": null,
            "align_items": null,
            "bottom": null,
            "_model_module": "@jupyter-widgets/base",
            "top": null,
            "grid_column": null,
            "overflow_y": null,
            "overflow_x": null,
            "grid_auto_flow": null,
            "grid_area": null,
            "grid_template_columns": null,
            "flex": null,
            "_model_name": "LayoutModel",
            "justify_items": null,
            "grid_row": null,
            "max_height": null,
            "align_content": null,
            "visibility": null,
            "align_self": null,
            "height": null,
            "min_height": null,
            "padding": null,
            "grid_auto_rows": null,
            "grid_gap": null,
            "max_width": null,
            "order": null,
            "_view_module_version": "1.2.0",
            "grid_template_areas": null,
            "object_position": null,
            "object_fit": null,
            "grid_auto_columns": null,
            "margin": null,
            "display": null,
            "left": null
          }
        },
        "9de70f9dda46474db89642e7bcc6adf4": {
          "model_module": "@jupyter-widgets/controls",
          "model_name": "FloatProgressModel",
          "state": {
            "_view_name": "ProgressView",
            "style": "IPY_MODEL_a4ad0322c98541f0865bc4738ea9e771",
            "_dom_classes": [],
            "description": "split=train: 100%",
            "_model_name": "FloatProgressModel",
            "bar_style": "",
            "max": 285,
            "_view_module": "@jupyter-widgets/controls",
            "_model_module_version": "1.5.0",
            "value": 284,
            "_view_count": null,
            "_view_module_version": "1.5.0",
            "orientation": "horizontal",
            "min": 0,
            "description_tooltip": null,
            "_model_module": "@jupyter-widgets/controls",
            "layout": "IPY_MODEL_0037d8202324441e94b305c48f181ce9"
          }
        },
        "7b14a9bc5be64fcb96df01820da83202": {
          "model_module": "@jupyter-widgets/controls",
          "model_name": "HTMLModel",
          "state": {
            "_view_name": "HTMLView",
            "style": "IPY_MODEL_e4e2299173694426ad9e095fe19e85ab",
            "_dom_classes": [],
            "description": "",
            "_model_name": "HTMLModel",
            "placeholder": "​",
            "_view_module": "@jupyter-widgets/controls",
            "_model_module_version": "1.5.0",
            "value": " 284/285 [31:32&lt;00:00, 11.39it/s, acc=45.5, epoch=65, loss=2.79]",
            "_view_count": null,
            "_view_module_version": "1.5.0",
            "description_tooltip": null,
            "_model_module": "@jupyter-widgets/controls",
            "layout": "IPY_MODEL_674e2a1a3bef43e6baf86b71646e2269"
          }
        },
        "a4ad0322c98541f0865bc4738ea9e771": {
          "model_module": "@jupyter-widgets/controls",
          "model_name": "ProgressStyleModel",
          "state": {
            "_view_name": "StyleView",
            "_model_name": "ProgressStyleModel",
            "description_width": "initial",
            "_view_module": "@jupyter-widgets/base",
            "_model_module_version": "1.5.0",
            "_view_count": null,
            "_view_module_version": "1.2.0",
            "bar_color": null,
            "_model_module": "@jupyter-widgets/controls"
          }
        },
        "0037d8202324441e94b305c48f181ce9": {
          "model_module": "@jupyter-widgets/base",
          "model_name": "LayoutModel",
          "state": {
            "_view_name": "LayoutView",
            "grid_template_rows": null,
            "right": null,
            "justify_content": null,
            "_view_module": "@jupyter-widgets/base",
            "overflow": null,
            "_model_module_version": "1.2.0",
            "_view_count": null,
            "flex_flow": null,
            "width": null,
            "min_width": null,
            "border": null,
            "align_items": null,
            "bottom": null,
            "_model_module": "@jupyter-widgets/base",
            "top": null,
            "grid_column": null,
            "overflow_y": null,
            "overflow_x": null,
            "grid_auto_flow": null,
            "grid_area": null,
            "grid_template_columns": null,
            "flex": null,
            "_model_name": "LayoutModel",
            "justify_items": null,
            "grid_row": null,
            "max_height": null,
            "align_content": null,
            "visibility": null,
            "align_self": null,
            "height": null,
            "min_height": null,
            "padding": null,
            "grid_auto_rows": null,
            "grid_gap": null,
            "max_width": null,
            "order": null,
            "_view_module_version": "1.2.0",
            "grid_template_areas": null,
            "object_position": null,
            "object_fit": null,
            "grid_auto_columns": null,
            "margin": null,
            "display": null,
            "left": null
          }
        },
        "e4e2299173694426ad9e095fe19e85ab": {
          "model_module": "@jupyter-widgets/controls",
          "model_name": "DescriptionStyleModel",
          "state": {
            "_view_name": "StyleView",
            "_model_name": "DescriptionStyleModel",
            "description_width": "",
            "_view_module": "@jupyter-widgets/base",
            "_model_module_version": "1.5.0",
            "_view_count": null,
            "_view_module_version": "1.2.0",
            "_model_module": "@jupyter-widgets/controls"
          }
        },
        "674e2a1a3bef43e6baf86b71646e2269": {
          "model_module": "@jupyter-widgets/base",
          "model_name": "LayoutModel",
          "state": {
            "_view_name": "LayoutView",
            "grid_template_rows": null,
            "right": null,
            "justify_content": null,
            "_view_module": "@jupyter-widgets/base",
            "overflow": null,
            "_model_module_version": "1.2.0",
            "_view_count": null,
            "flex_flow": null,
            "width": null,
            "min_width": null,
            "border": null,
            "align_items": null,
            "bottom": null,
            "_model_module": "@jupyter-widgets/base",
            "top": null,
            "grid_column": null,
            "overflow_y": null,
            "overflow_x": null,
            "grid_auto_flow": null,
            "grid_area": null,
            "grid_template_columns": null,
            "flex": null,
            "_model_name": "LayoutModel",
            "justify_items": null,
            "grid_row": null,
            "max_height": null,
            "align_content": null,
            "visibility": null,
            "align_self": null,
            "height": null,
            "min_height": null,
            "padding": null,
            "grid_auto_rows": null,
            "grid_gap": null,
            "max_width": null,
            "order": null,
            "_view_module_version": "1.2.0",
            "grid_template_areas": null,
            "object_position": null,
            "object_fit": null,
            "grid_auto_columns": null,
            "margin": null,
            "display": null,
            "left": null
          }
        },
        "906f1d35a0fa4a718f15f796fd0a9397": {
          "model_module": "@jupyter-widgets/controls",
          "model_name": "HBoxModel",
          "state": {
            "_view_name": "HBoxView",
            "_dom_classes": [],
            "_model_name": "HBoxModel",
            "_view_module": "@jupyter-widgets/controls",
            "_model_module_version": "1.5.0",
            "_view_count": null,
            "_view_module_version": "1.5.0",
            "box_style": "",
            "layout": "IPY_MODEL_50d934d461e94c40b33769b30adfa1ef",
            "_model_module": "@jupyter-widgets/controls",
            "children": [
              "IPY_MODEL_55e4aa37861144ecb14f1794520bd2e9",
              "IPY_MODEL_3ba05c432032402cabe2d5c5f4d53d4f"
            ]
          }
        },
        "50d934d461e94c40b33769b30adfa1ef": {
          "model_module": "@jupyter-widgets/base",
          "model_name": "LayoutModel",
          "state": {
            "_view_name": "LayoutView",
            "grid_template_rows": null,
            "right": null,
            "justify_content": null,
            "_view_module": "@jupyter-widgets/base",
            "overflow": null,
            "_model_module_version": "1.2.0",
            "_view_count": null,
            "flex_flow": null,
            "width": null,
            "min_width": null,
            "border": null,
            "align_items": null,
            "bottom": null,
            "_model_module": "@jupyter-widgets/base",
            "top": null,
            "grid_column": null,
            "overflow_y": null,
            "overflow_x": null,
            "grid_auto_flow": null,
            "grid_area": null,
            "grid_template_columns": null,
            "flex": null,
            "_model_name": "LayoutModel",
            "justify_items": null,
            "grid_row": null,
            "max_height": null,
            "align_content": null,
            "visibility": null,
            "align_self": null,
            "height": null,
            "min_height": null,
            "padding": null,
            "grid_auto_rows": null,
            "grid_gap": null,
            "max_width": null,
            "order": null,
            "_view_module_version": "1.2.0",
            "grid_template_areas": null,
            "object_position": null,
            "object_fit": null,
            "grid_auto_columns": null,
            "margin": null,
            "display": null,
            "left": null
          }
        },
        "55e4aa37861144ecb14f1794520bd2e9": {
          "model_module": "@jupyter-widgets/controls",
          "model_name": "FloatProgressModel",
          "state": {
            "_view_name": "ProgressView",
            "style": "IPY_MODEL_c445678494644d4abac665e861b2aac8",
            "_dom_classes": [],
            "description": "split=val:  98%",
            "_model_name": "FloatProgressModel",
            "bar_style": "",
            "max": 61,
            "_view_module": "@jupyter-widgets/controls",
            "_model_module_version": "1.5.0",
            "value": 60,
            "_view_count": null,
            "_view_module_version": "1.5.0",
            "orientation": "horizontal",
            "min": 0,
            "description_tooltip": null,
            "_model_module": "@jupyter-widgets/controls",
            "layout": "IPY_MODEL_1b222401c94643618eec1389aeba5983"
          }
        },
        "3ba05c432032402cabe2d5c5f4d53d4f": {
          "model_module": "@jupyter-widgets/controls",
          "model_name": "HTMLModel",
          "state": {
            "_view_name": "HTMLView",
            "style": "IPY_MODEL_20868e213e184939804ae3a126790dc8",
            "_dom_classes": [],
            "description": "",
            "_model_name": "HTMLModel",
            "placeholder": "​",
            "_view_module": "@jupyter-widgets/controls",
            "_model_module_version": "1.5.0",
            "value": " 60/61 [31:35&lt;00:00, 15.34it/s, acc=43.1, epoch=65, loss=3.6]",
            "_view_count": null,
            "_view_module_version": "1.5.0",
            "description_tooltip": null,
            "_model_module": "@jupyter-widgets/controls",
            "layout": "IPY_MODEL_b85ba7e77fff4d188b1df24055a747cb"
          }
        },
        "c445678494644d4abac665e861b2aac8": {
          "model_module": "@jupyter-widgets/controls",
          "model_name": "ProgressStyleModel",
          "state": {
            "_view_name": "StyleView",
            "_model_name": "ProgressStyleModel",
            "description_width": "initial",
            "_view_module": "@jupyter-widgets/base",
            "_model_module_version": "1.5.0",
            "_view_count": null,
            "_view_module_version": "1.2.0",
            "bar_color": null,
            "_model_module": "@jupyter-widgets/controls"
          }
        },
        "1b222401c94643618eec1389aeba5983": {
          "model_module": "@jupyter-widgets/base",
          "model_name": "LayoutModel",
          "state": {
            "_view_name": "LayoutView",
            "grid_template_rows": null,
            "right": null,
            "justify_content": null,
            "_view_module": "@jupyter-widgets/base",
            "overflow": null,
            "_model_module_version": "1.2.0",
            "_view_count": null,
            "flex_flow": null,
            "width": null,
            "min_width": null,
            "border": null,
            "align_items": null,
            "bottom": null,
            "_model_module": "@jupyter-widgets/base",
            "top": null,
            "grid_column": null,
            "overflow_y": null,
            "overflow_x": null,
            "grid_auto_flow": null,
            "grid_area": null,
            "grid_template_columns": null,
            "flex": null,
            "_model_name": "LayoutModel",
            "justify_items": null,
            "grid_row": null,
            "max_height": null,
            "align_content": null,
            "visibility": null,
            "align_self": null,
            "height": null,
            "min_height": null,
            "padding": null,
            "grid_auto_rows": null,
            "grid_gap": null,
            "max_width": null,
            "order": null,
            "_view_module_version": "1.2.0",
            "grid_template_areas": null,
            "object_position": null,
            "object_fit": null,
            "grid_auto_columns": null,
            "margin": null,
            "display": null,
            "left": null
          }
        },
        "20868e213e184939804ae3a126790dc8": {
          "model_module": "@jupyter-widgets/controls",
          "model_name": "DescriptionStyleModel",
          "state": {
            "_view_name": "StyleView",
            "_model_name": "DescriptionStyleModel",
            "description_width": "",
            "_view_module": "@jupyter-widgets/base",
            "_model_module_version": "1.5.0",
            "_view_count": null,
            "_view_module_version": "1.2.0",
            "_model_module": "@jupyter-widgets/controls"
          }
        },
        "b85ba7e77fff4d188b1df24055a747cb": {
          "model_module": "@jupyter-widgets/base",
          "model_name": "LayoutModel",
          "state": {
            "_view_name": "LayoutView",
            "grid_template_rows": null,
            "right": null,
            "justify_content": null,
            "_view_module": "@jupyter-widgets/base",
            "overflow": null,
            "_model_module_version": "1.2.0",
            "_view_count": null,
            "flex_flow": null,
            "width": null,
            "min_width": null,
            "border": null,
            "align_items": null,
            "bottom": null,
            "_model_module": "@jupyter-widgets/base",
            "top": null,
            "grid_column": null,
            "overflow_y": null,
            "overflow_x": null,
            "grid_auto_flow": null,
            "grid_area": null,
            "grid_template_columns": null,
            "flex": null,
            "_model_name": "LayoutModel",
            "justify_items": null,
            "grid_row": null,
            "max_height": null,
            "align_content": null,
            "visibility": null,
            "align_self": null,
            "height": null,
            "min_height": null,
            "padding": null,
            "grid_auto_rows": null,
            "grid_gap": null,
            "max_width": null,
            "order": null,
            "_view_module_version": "1.2.0",
            "grid_template_areas": null,
            "object_position": null,
            "object_fit": null,
            "grid_auto_columns": null,
            "margin": null,
            "display": null,
            "left": null
          }
        },
        "cd7e44f6afc6433bbd71437b0add3995": {
          "model_module": "@jupyter-widgets/controls",
          "model_name": "HBoxModel",
          "state": {
            "_view_name": "HBoxView",
            "_dom_classes": [],
            "_model_name": "HBoxModel",
            "_view_module": "@jupyter-widgets/controls",
            "_model_module_version": "1.5.0",
            "_view_count": null,
            "_view_module_version": "1.5.0",
            "box_style": "",
            "layout": "IPY_MODEL_f740f9bdb08143fcb9a46a5caf8461c3",
            "_model_module": "@jupyter-widgets/controls",
            "children": [
              "IPY_MODEL_77d974de8f6046cbbdd98d49e47b4789",
              "IPY_MODEL_7a80d98c62784dab94feb146c3e59cb4"
            ]
          }
        },
        "f740f9bdb08143fcb9a46a5caf8461c3": {
          "model_module": "@jupyter-widgets/base",
          "model_name": "LayoutModel",
          "state": {
            "_view_name": "LayoutView",
            "grid_template_rows": null,
            "right": null,
            "justify_content": null,
            "_view_module": "@jupyter-widgets/base",
            "overflow": null,
            "_model_module_version": "1.2.0",
            "_view_count": null,
            "flex_flow": null,
            "width": null,
            "min_width": null,
            "border": null,
            "align_items": null,
            "bottom": null,
            "_model_module": "@jupyter-widgets/base",
            "top": null,
            "grid_column": null,
            "overflow_y": null,
            "overflow_x": null,
            "grid_auto_flow": null,
            "grid_area": null,
            "grid_template_columns": null,
            "flex": null,
            "_model_name": "LayoutModel",
            "justify_items": null,
            "grid_row": null,
            "max_height": null,
            "align_content": null,
            "visibility": null,
            "align_self": null,
            "height": null,
            "min_height": null,
            "padding": null,
            "grid_auto_rows": null,
            "grid_gap": null,
            "max_width": null,
            "order": null,
            "_view_module_version": "1.2.0",
            "grid_template_areas": null,
            "object_position": null,
            "object_fit": null,
            "grid_auto_columns": null,
            "margin": null,
            "display": null,
            "left": null
          }
        },
        "77d974de8f6046cbbdd98d49e47b4789": {
          "model_module": "@jupyter-widgets/controls",
          "model_name": "FloatProgressModel",
          "state": {
            "_view_name": "ProgressView",
            "style": "IPY_MODEL_4d57c25fb65b4fcfbddcbff59b2ce5bd",
            "_dom_classes": [],
            "description": "training routine: 100%",
            "_model_name": "FloatProgressModel",
            "bar_style": "",
            "max": 50,
            "_view_module": "@jupyter-widgets/controls",
            "_model_module_version": "1.5.0",
            "value": 50,
            "_view_count": null,
            "_view_module_version": "1.5.0",
            "orientation": "horizontal",
            "min": 0,
            "description_tooltip": null,
            "_model_module": "@jupyter-widgets/controls",
            "layout": "IPY_MODEL_335b6608dfd74772829572ae3daa74fb"
          }
        },
        "7a80d98c62784dab94feb146c3e59cb4": {
          "model_module": "@jupyter-widgets/controls",
          "model_name": "HTMLModel",
          "state": {
            "_view_name": "HTMLView",
            "style": "IPY_MODEL_6743709a5b9b4e4c9e779ec343aeef9c",
            "_dom_classes": [],
            "description": "",
            "_model_name": "HTMLModel",
            "placeholder": "​",
            "_view_module": "@jupyter-widgets/controls",
            "_model_module_version": "1.5.0",
            "value": " 50/50 [25:25&lt;00:00, 30.75s/it, best_val=3.55]",
            "_view_count": null,
            "_view_module_version": "1.5.0",
            "description_tooltip": null,
            "_model_module": "@jupyter-widgets/controls",
            "layout": "IPY_MODEL_3c3948f379a7455a8d897df5532a11e5"
          }
        },
        "4d57c25fb65b4fcfbddcbff59b2ce5bd": {
          "model_module": "@jupyter-widgets/controls",
          "model_name": "ProgressStyleModel",
          "state": {
            "_view_name": "StyleView",
            "_model_name": "ProgressStyleModel",
            "description_width": "initial",
            "_view_module": "@jupyter-widgets/base",
            "_model_module_version": "1.5.0",
            "_view_count": null,
            "_view_module_version": "1.2.0",
            "bar_color": null,
            "_model_module": "@jupyter-widgets/controls"
          }
        },
        "335b6608dfd74772829572ae3daa74fb": {
          "model_module": "@jupyter-widgets/base",
          "model_name": "LayoutModel",
          "state": {
            "_view_name": "LayoutView",
            "grid_template_rows": null,
            "right": null,
            "justify_content": null,
            "_view_module": "@jupyter-widgets/base",
            "overflow": null,
            "_model_module_version": "1.2.0",
            "_view_count": null,
            "flex_flow": null,
            "width": null,
            "min_width": null,
            "border": null,
            "align_items": null,
            "bottom": null,
            "_model_module": "@jupyter-widgets/base",
            "top": null,
            "grid_column": null,
            "overflow_y": null,
            "overflow_x": null,
            "grid_auto_flow": null,
            "grid_area": null,
            "grid_template_columns": null,
            "flex": null,
            "_model_name": "LayoutModel",
            "justify_items": null,
            "grid_row": null,
            "max_height": null,
            "align_content": null,
            "visibility": null,
            "align_self": null,
            "height": null,
            "min_height": null,
            "padding": null,
            "grid_auto_rows": null,
            "grid_gap": null,
            "max_width": null,
            "order": null,
            "_view_module_version": "1.2.0",
            "grid_template_areas": null,
            "object_position": null,
            "object_fit": null,
            "grid_auto_columns": null,
            "margin": null,
            "display": null,
            "left": null
          }
        },
        "6743709a5b9b4e4c9e779ec343aeef9c": {
          "model_module": "@jupyter-widgets/controls",
          "model_name": "DescriptionStyleModel",
          "state": {
            "_view_name": "StyleView",
            "_model_name": "DescriptionStyleModel",
            "description_width": "",
            "_view_module": "@jupyter-widgets/base",
            "_model_module_version": "1.5.0",
            "_view_count": null,
            "_view_module_version": "1.2.0",
            "_model_module": "@jupyter-widgets/controls"
          }
        },
        "3c3948f379a7455a8d897df5532a11e5": {
          "model_module": "@jupyter-widgets/base",
          "model_name": "LayoutModel",
          "state": {
            "_view_name": "LayoutView",
            "grid_template_rows": null,
            "right": null,
            "justify_content": null,
            "_view_module": "@jupyter-widgets/base",
            "overflow": null,
            "_model_module_version": "1.2.0",
            "_view_count": null,
            "flex_flow": null,
            "width": null,
            "min_width": null,
            "border": null,
            "align_items": null,
            "bottom": null,
            "_model_module": "@jupyter-widgets/base",
            "top": null,
            "grid_column": null,
            "overflow_y": null,
            "overflow_x": null,
            "grid_auto_flow": null,
            "grid_area": null,
            "grid_template_columns": null,
            "flex": null,
            "_model_name": "LayoutModel",
            "justify_items": null,
            "grid_row": null,
            "max_height": null,
            "align_content": null,
            "visibility": null,
            "align_self": null,
            "height": null,
            "min_height": null,
            "padding": null,
            "grid_auto_rows": null,
            "grid_gap": null,
            "max_width": null,
            "order": null,
            "_view_module_version": "1.2.0",
            "grid_template_areas": null,
            "object_position": null,
            "object_fit": null,
            "grid_auto_columns": null,
            "margin": null,
            "display": null,
            "left": null
          }
        },
        "78a38663e63641dcb7cf1656f4370be7": {
          "model_module": "@jupyter-widgets/controls",
          "model_name": "HBoxModel",
          "state": {
            "_view_name": "HBoxView",
            "_dom_classes": [],
            "_model_name": "HBoxModel",
            "_view_module": "@jupyter-widgets/controls",
            "_model_module_version": "1.5.0",
            "_view_count": null,
            "_view_module_version": "1.5.0",
            "box_style": "",
            "layout": "IPY_MODEL_7ef04dad614c4e329b9c6f1c241fd3c4",
            "_model_module": "@jupyter-widgets/controls",
            "children": [
              "IPY_MODEL_c3f2c306c2af46918d0a7f771c294197",
              "IPY_MODEL_f89e1dea3ecf41ea8e2bc036893f5546"
            ]
          }
        },
        "7ef04dad614c4e329b9c6f1c241fd3c4": {
          "model_module": "@jupyter-widgets/base",
          "model_name": "LayoutModel",
          "state": {
            "_view_name": "LayoutView",
            "grid_template_rows": null,
            "right": null,
            "justify_content": null,
            "_view_module": "@jupyter-widgets/base",
            "overflow": null,
            "_model_module_version": "1.2.0",
            "_view_count": null,
            "flex_flow": null,
            "width": null,
            "min_width": null,
            "border": null,
            "align_items": null,
            "bottom": null,
            "_model_module": "@jupyter-widgets/base",
            "top": null,
            "grid_column": null,
            "overflow_y": null,
            "overflow_x": null,
            "grid_auto_flow": null,
            "grid_area": null,
            "grid_template_columns": null,
            "flex": null,
            "_model_name": "LayoutModel",
            "justify_items": null,
            "grid_row": null,
            "max_height": null,
            "align_content": null,
            "visibility": null,
            "align_self": null,
            "height": null,
            "min_height": null,
            "padding": null,
            "grid_auto_rows": null,
            "grid_gap": null,
            "max_width": null,
            "order": null,
            "_view_module_version": "1.2.0",
            "grid_template_areas": null,
            "object_position": null,
            "object_fit": null,
            "grid_auto_columns": null,
            "margin": null,
            "display": null,
            "left": null
          }
        },
        "c3f2c306c2af46918d0a7f771c294197": {
          "model_module": "@jupyter-widgets/controls",
          "model_name": "FloatProgressModel",
          "state": {
            "_view_name": "ProgressView",
            "style": "IPY_MODEL_ded82cf91f8248419889c8c625c9468d",
            "_dom_classes": [],
            "description": "split=train: 100%",
            "_model_name": "FloatProgressModel",
            "bar_style": "",
            "max": 285,
            "_view_module": "@jupyter-widgets/controls",
            "_model_module_version": "1.5.0",
            "value": 284,
            "_view_count": null,
            "_view_module_version": "1.5.0",
            "orientation": "horizontal",
            "min": 0,
            "description_tooltip": null,
            "_model_module": "@jupyter-widgets/controls",
            "layout": "IPY_MODEL_71f75330ccaa4fafa1bb3d13d7e8b09a"
          }
        },
        "f89e1dea3ecf41ea8e2bc036893f5546": {
          "model_module": "@jupyter-widgets/controls",
          "model_name": "HTMLModel",
          "state": {
            "_view_name": "HTMLView",
            "style": "IPY_MODEL_153f5bad31fb4d36b457f853ed03b7d8",
            "_dom_classes": [],
            "description": "",
            "_model_name": "HTMLModel",
            "placeholder": "​",
            "_view_module": "@jupyter-widgets/controls",
            "_model_module_version": "1.5.0",
            "value": " 284/285 [25:22&lt;00:08,  8.79s/it, acc=44.1, epoch=49, loss=2.95]",
            "_view_count": null,
            "_view_module_version": "1.5.0",
            "description_tooltip": null,
            "_model_module": "@jupyter-widgets/controls",
            "layout": "IPY_MODEL_654fa3c16eec46a4aeec6de48b3541df"
          }
        },
        "ded82cf91f8248419889c8c625c9468d": {
          "model_module": "@jupyter-widgets/controls",
          "model_name": "ProgressStyleModel",
          "state": {
            "_view_name": "StyleView",
            "_model_name": "ProgressStyleModel",
            "description_width": "initial",
            "_view_module": "@jupyter-widgets/base",
            "_model_module_version": "1.5.0",
            "_view_count": null,
            "_view_module_version": "1.2.0",
            "bar_color": null,
            "_model_module": "@jupyter-widgets/controls"
          }
        },
        "71f75330ccaa4fafa1bb3d13d7e8b09a": {
          "model_module": "@jupyter-widgets/base",
          "model_name": "LayoutModel",
          "state": {
            "_view_name": "LayoutView",
            "grid_template_rows": null,
            "right": null,
            "justify_content": null,
            "_view_module": "@jupyter-widgets/base",
            "overflow": null,
            "_model_module_version": "1.2.0",
            "_view_count": null,
            "flex_flow": null,
            "width": null,
            "min_width": null,
            "border": null,
            "align_items": null,
            "bottom": null,
            "_model_module": "@jupyter-widgets/base",
            "top": null,
            "grid_column": null,
            "overflow_y": null,
            "overflow_x": null,
            "grid_auto_flow": null,
            "grid_area": null,
            "grid_template_columns": null,
            "flex": null,
            "_model_name": "LayoutModel",
            "justify_items": null,
            "grid_row": null,
            "max_height": null,
            "align_content": null,
            "visibility": null,
            "align_self": null,
            "height": null,
            "min_height": null,
            "padding": null,
            "grid_auto_rows": null,
            "grid_gap": null,
            "max_width": null,
            "order": null,
            "_view_module_version": "1.2.0",
            "grid_template_areas": null,
            "object_position": null,
            "object_fit": null,
            "grid_auto_columns": null,
            "margin": null,
            "display": null,
            "left": null
          }
        },
        "153f5bad31fb4d36b457f853ed03b7d8": {
          "model_module": "@jupyter-widgets/controls",
          "model_name": "DescriptionStyleModel",
          "state": {
            "_view_name": "StyleView",
            "_model_name": "DescriptionStyleModel",
            "description_width": "",
            "_view_module": "@jupyter-widgets/base",
            "_model_module_version": "1.5.0",
            "_view_count": null,
            "_view_module_version": "1.2.0",
            "_model_module": "@jupyter-widgets/controls"
          }
        },
        "654fa3c16eec46a4aeec6de48b3541df": {
          "model_module": "@jupyter-widgets/base",
          "model_name": "LayoutModel",
          "state": {
            "_view_name": "LayoutView",
            "grid_template_rows": null,
            "right": null,
            "justify_content": null,
            "_view_module": "@jupyter-widgets/base",
            "overflow": null,
            "_model_module_version": "1.2.0",
            "_view_count": null,
            "flex_flow": null,
            "width": null,
            "min_width": null,
            "border": null,
            "align_items": null,
            "bottom": null,
            "_model_module": "@jupyter-widgets/base",
            "top": null,
            "grid_column": null,
            "overflow_y": null,
            "overflow_x": null,
            "grid_auto_flow": null,
            "grid_area": null,
            "grid_template_columns": null,
            "flex": null,
            "_model_name": "LayoutModel",
            "justify_items": null,
            "grid_row": null,
            "max_height": null,
            "align_content": null,
            "visibility": null,
            "align_self": null,
            "height": null,
            "min_height": null,
            "padding": null,
            "grid_auto_rows": null,
            "grid_gap": null,
            "max_width": null,
            "order": null,
            "_view_module_version": "1.2.0",
            "grid_template_areas": null,
            "object_position": null,
            "object_fit": null,
            "grid_auto_columns": null,
            "margin": null,
            "display": null,
            "left": null
          }
        },
        "244861a76c0c43a88b292f7540d4d1aa": {
          "model_module": "@jupyter-widgets/controls",
          "model_name": "HBoxModel",
          "state": {
            "_view_name": "HBoxView",
            "_dom_classes": [],
            "_model_name": "HBoxModel",
            "_view_module": "@jupyter-widgets/controls",
            "_model_module_version": "1.5.0",
            "_view_count": null,
            "_view_module_version": "1.5.0",
            "box_style": "",
            "layout": "IPY_MODEL_1cef1e1dd1d540339205d907b4f77cef",
            "_model_module": "@jupyter-widgets/controls",
            "children": [
              "IPY_MODEL_e0f7756e930c498096b0902aa0540a2c",
              "IPY_MODEL_175cadf7fefb4611bffd18b37d9ccc4f"
            ]
          }
        },
        "1cef1e1dd1d540339205d907b4f77cef": {
          "model_module": "@jupyter-widgets/base",
          "model_name": "LayoutModel",
          "state": {
            "_view_name": "LayoutView",
            "grid_template_rows": null,
            "right": null,
            "justify_content": null,
            "_view_module": "@jupyter-widgets/base",
            "overflow": null,
            "_model_module_version": "1.2.0",
            "_view_count": null,
            "flex_flow": null,
            "width": null,
            "min_width": null,
            "border": null,
            "align_items": null,
            "bottom": null,
            "_model_module": "@jupyter-widgets/base",
            "top": null,
            "grid_column": null,
            "overflow_y": null,
            "overflow_x": null,
            "grid_auto_flow": null,
            "grid_area": null,
            "grid_template_columns": null,
            "flex": null,
            "_model_name": "LayoutModel",
            "justify_items": null,
            "grid_row": null,
            "max_height": null,
            "align_content": null,
            "visibility": null,
            "align_self": null,
            "height": null,
            "min_height": null,
            "padding": null,
            "grid_auto_rows": null,
            "grid_gap": null,
            "max_width": null,
            "order": null,
            "_view_module_version": "1.2.0",
            "grid_template_areas": null,
            "object_position": null,
            "object_fit": null,
            "grid_auto_columns": null,
            "margin": null,
            "display": null,
            "left": null
          }
        },
        "e0f7756e930c498096b0902aa0540a2c": {
          "model_module": "@jupyter-widgets/controls",
          "model_name": "FloatProgressModel",
          "state": {
            "_view_name": "ProgressView",
            "style": "IPY_MODEL_0edb6ee8047b46ad80cd268038bd6074",
            "_dom_classes": [],
            "description": "split=val:  98%",
            "_model_name": "FloatProgressModel",
            "bar_style": "",
            "max": 61,
            "_view_module": "@jupyter-widgets/controls",
            "_model_module_version": "1.5.0",
            "value": 60,
            "_view_count": null,
            "_view_module_version": "1.5.0",
            "orientation": "horizontal",
            "min": 0,
            "description_tooltip": null,
            "_model_module": "@jupyter-widgets/controls",
            "layout": "IPY_MODEL_696ac974f2e04abfab05db476eeb58b8"
          }
        },
        "175cadf7fefb4611bffd18b37d9ccc4f": {
          "model_module": "@jupyter-widgets/controls",
          "model_name": "HTMLModel",
          "state": {
            "_view_name": "HTMLView",
            "style": "IPY_MODEL_4aec06bb68df49bf862c82e65f60ba58",
            "_dom_classes": [],
            "description": "",
            "_model_name": "HTMLModel",
            "placeholder": "​",
            "_view_module": "@jupyter-widgets/controls",
            "_model_module_version": "1.5.0",
            "value": " 60/61 [25:25&lt;00:08,  8.78s/it, acc=43.1, epoch=49, loss=3.59]",
            "_view_count": null,
            "_view_module_version": "1.5.0",
            "description_tooltip": null,
            "_model_module": "@jupyter-widgets/controls",
            "layout": "IPY_MODEL_236f0bfa24234ec1b8bb8b23964a52a8"
          }
        },
        "0edb6ee8047b46ad80cd268038bd6074": {
          "model_module": "@jupyter-widgets/controls",
          "model_name": "ProgressStyleModel",
          "state": {
            "_view_name": "StyleView",
            "_model_name": "ProgressStyleModel",
            "description_width": "initial",
            "_view_module": "@jupyter-widgets/base",
            "_model_module_version": "1.5.0",
            "_view_count": null,
            "_view_module_version": "1.2.0",
            "bar_color": null,
            "_model_module": "@jupyter-widgets/controls"
          }
        },
        "696ac974f2e04abfab05db476eeb58b8": {
          "model_module": "@jupyter-widgets/base",
          "model_name": "LayoutModel",
          "state": {
            "_view_name": "LayoutView",
            "grid_template_rows": null,
            "right": null,
            "justify_content": null,
            "_view_module": "@jupyter-widgets/base",
            "overflow": null,
            "_model_module_version": "1.2.0",
            "_view_count": null,
            "flex_flow": null,
            "width": null,
            "min_width": null,
            "border": null,
            "align_items": null,
            "bottom": null,
            "_model_module": "@jupyter-widgets/base",
            "top": null,
            "grid_column": null,
            "overflow_y": null,
            "overflow_x": null,
            "grid_auto_flow": null,
            "grid_area": null,
            "grid_template_columns": null,
            "flex": null,
            "_model_name": "LayoutModel",
            "justify_items": null,
            "grid_row": null,
            "max_height": null,
            "align_content": null,
            "visibility": null,
            "align_self": null,
            "height": null,
            "min_height": null,
            "padding": null,
            "grid_auto_rows": null,
            "grid_gap": null,
            "max_width": null,
            "order": null,
            "_view_module_version": "1.2.0",
            "grid_template_areas": null,
            "object_position": null,
            "object_fit": null,
            "grid_auto_columns": null,
            "margin": null,
            "display": null,
            "left": null
          }
        },
        "4aec06bb68df49bf862c82e65f60ba58": {
          "model_module": "@jupyter-widgets/controls",
          "model_name": "DescriptionStyleModel",
          "state": {
            "_view_name": "StyleView",
            "_model_name": "DescriptionStyleModel",
            "description_width": "",
            "_view_module": "@jupyter-widgets/base",
            "_model_module_version": "1.5.0",
            "_view_count": null,
            "_view_module_version": "1.2.0",
            "_model_module": "@jupyter-widgets/controls"
          }
        },
        "236f0bfa24234ec1b8bb8b23964a52a8": {
          "model_module": "@jupyter-widgets/base",
          "model_name": "LayoutModel",
          "state": {
            "_view_name": "LayoutView",
            "grid_template_rows": null,
            "right": null,
            "justify_content": null,
            "_view_module": "@jupyter-widgets/base",
            "overflow": null,
            "_model_module_version": "1.2.0",
            "_view_count": null,
            "flex_flow": null,
            "width": null,
            "min_width": null,
            "border": null,
            "align_items": null,
            "bottom": null,
            "_model_module": "@jupyter-widgets/base",
            "top": null,
            "grid_column": null,
            "overflow_y": null,
            "overflow_x": null,
            "grid_auto_flow": null,
            "grid_area": null,
            "grid_template_columns": null,
            "flex": null,
            "_model_name": "LayoutModel",
            "justify_items": null,
            "grid_row": null,
            "max_height": null,
            "align_content": null,
            "visibility": null,
            "align_self": null,
            "height": null,
            "min_height": null,
            "padding": null,
            "grid_auto_rows": null,
            "grid_gap": null,
            "max_width": null,
            "order": null,
            "_view_module_version": "1.2.0",
            "grid_template_areas": null,
            "object_position": null,
            "object_fit": null,
            "grid_auto_columns": null,
            "margin": null,
            "display": null,
            "left": null
          }
        },
        "ce235524638146e19ebafbdbcf561d46": {
          "model_module": "@jupyter-widgets/controls",
          "model_name": "HBoxModel",
          "state": {
            "_view_name": "HBoxView",
            "_dom_classes": [],
            "_model_name": "HBoxModel",
            "_view_module": "@jupyter-widgets/controls",
            "_model_module_version": "1.5.0",
            "_view_count": null,
            "_view_module_version": "1.5.0",
            "box_style": "",
            "layout": "IPY_MODEL_1a9db3d5885a47269e9c59fa71b812fb",
            "_model_module": "@jupyter-widgets/controls",
            "children": [
              "IPY_MODEL_4eb77c334e7c43c7877caed84eaa6f79",
              "IPY_MODEL_029624d657424cc28677a764dc519f47"
            ]
          }
        },
        "1a9db3d5885a47269e9c59fa71b812fb": {
          "model_module": "@jupyter-widgets/base",
          "model_name": "LayoutModel",
          "state": {
            "_view_name": "LayoutView",
            "grid_template_rows": null,
            "right": null,
            "justify_content": null,
            "_view_module": "@jupyter-widgets/base",
            "overflow": null,
            "_model_module_version": "1.2.0",
            "_view_count": null,
            "flex_flow": null,
            "width": null,
            "min_width": null,
            "border": null,
            "align_items": null,
            "bottom": null,
            "_model_module": "@jupyter-widgets/base",
            "top": null,
            "grid_column": null,
            "overflow_y": null,
            "overflow_x": null,
            "grid_auto_flow": null,
            "grid_area": null,
            "grid_template_columns": null,
            "flex": null,
            "_model_name": "LayoutModel",
            "justify_items": null,
            "grid_row": null,
            "max_height": null,
            "align_content": null,
            "visibility": null,
            "align_self": null,
            "height": null,
            "min_height": null,
            "padding": null,
            "grid_auto_rows": null,
            "grid_gap": null,
            "max_width": null,
            "order": null,
            "_view_module_version": "1.2.0",
            "grid_template_areas": null,
            "object_position": null,
            "object_fit": null,
            "grid_auto_columns": null,
            "margin": null,
            "display": null,
            "left": null
          }
        },
        "4eb77c334e7c43c7877caed84eaa6f79": {
          "model_module": "@jupyter-widgets/controls",
          "model_name": "FloatProgressModel",
          "state": {
            "_view_name": "ProgressView",
            "style": "IPY_MODEL_7b2d1b3aa52e4d309cc4ca9ee5c80ef5",
            "_dom_classes": [],
            "description": "training routine:  50%",
            "_model_name": "FloatProgressModel",
            "bar_style": "",
            "max": 50,
            "_view_module": "@jupyter-widgets/controls",
            "_model_module_version": "1.5.0",
            "value": 25,
            "_view_count": null,
            "_view_module_version": "1.5.0",
            "orientation": "horizontal",
            "min": 0,
            "description_tooltip": null,
            "_model_module": "@jupyter-widgets/controls",
            "layout": "IPY_MODEL_141a90c948894f538d0bc747721e408c"
          }
        },
        "029624d657424cc28677a764dc519f47": {
          "model_module": "@jupyter-widgets/controls",
          "model_name": "HTMLModel",
          "state": {
            "_view_name": "HTMLView",
            "style": "IPY_MODEL_557aad79e13745a280b02223b15bce54",
            "_dom_classes": [],
            "description": "",
            "_model_name": "HTMLModel",
            "placeholder": "​",
            "_view_module": "@jupyter-widgets/controls",
            "_model_module_version": "1.5.0",
            "value": " 25/50 [15:12&lt;15:35, 37.43s/it, best_val=3.58]",
            "_view_count": null,
            "_view_module_version": "1.5.0",
            "description_tooltip": null,
            "_model_module": "@jupyter-widgets/controls",
            "layout": "IPY_MODEL_208e4c4f06184d99be90075d110ea1e3"
          }
        },
        "7b2d1b3aa52e4d309cc4ca9ee5c80ef5": {
          "model_module": "@jupyter-widgets/controls",
          "model_name": "ProgressStyleModel",
          "state": {
            "_view_name": "StyleView",
            "_model_name": "ProgressStyleModel",
            "description_width": "initial",
            "_view_module": "@jupyter-widgets/base",
            "_model_module_version": "1.5.0",
            "_view_count": null,
            "_view_module_version": "1.2.0",
            "bar_color": null,
            "_model_module": "@jupyter-widgets/controls"
          }
        },
        "141a90c948894f538d0bc747721e408c": {
          "model_module": "@jupyter-widgets/base",
          "model_name": "LayoutModel",
          "state": {
            "_view_name": "LayoutView",
            "grid_template_rows": null,
            "right": null,
            "justify_content": null,
            "_view_module": "@jupyter-widgets/base",
            "overflow": null,
            "_model_module_version": "1.2.0",
            "_view_count": null,
            "flex_flow": null,
            "width": null,
            "min_width": null,
            "border": null,
            "align_items": null,
            "bottom": null,
            "_model_module": "@jupyter-widgets/base",
            "top": null,
            "grid_column": null,
            "overflow_y": null,
            "overflow_x": null,
            "grid_auto_flow": null,
            "grid_area": null,
            "grid_template_columns": null,
            "flex": null,
            "_model_name": "LayoutModel",
            "justify_items": null,
            "grid_row": null,
            "max_height": null,
            "align_content": null,
            "visibility": null,
            "align_self": null,
            "height": null,
            "min_height": null,
            "padding": null,
            "grid_auto_rows": null,
            "grid_gap": null,
            "max_width": null,
            "order": null,
            "_view_module_version": "1.2.0",
            "grid_template_areas": null,
            "object_position": null,
            "object_fit": null,
            "grid_auto_columns": null,
            "margin": null,
            "display": null,
            "left": null
          }
        },
        "557aad79e13745a280b02223b15bce54": {
          "model_module": "@jupyter-widgets/controls",
          "model_name": "DescriptionStyleModel",
          "state": {
            "_view_name": "StyleView",
            "_model_name": "DescriptionStyleModel",
            "description_width": "",
            "_view_module": "@jupyter-widgets/base",
            "_model_module_version": "1.5.0",
            "_view_count": null,
            "_view_module_version": "1.2.0",
            "_model_module": "@jupyter-widgets/controls"
          }
        },
        "208e4c4f06184d99be90075d110ea1e3": {
          "model_module": "@jupyter-widgets/base",
          "model_name": "LayoutModel",
          "state": {
            "_view_name": "LayoutView",
            "grid_template_rows": null,
            "right": null,
            "justify_content": null,
            "_view_module": "@jupyter-widgets/base",
            "overflow": null,
            "_model_module_version": "1.2.0",
            "_view_count": null,
            "flex_flow": null,
            "width": null,
            "min_width": null,
            "border": null,
            "align_items": null,
            "bottom": null,
            "_model_module": "@jupyter-widgets/base",
            "top": null,
            "grid_column": null,
            "overflow_y": null,
            "overflow_x": null,
            "grid_auto_flow": null,
            "grid_area": null,
            "grid_template_columns": null,
            "flex": null,
            "_model_name": "LayoutModel",
            "justify_items": null,
            "grid_row": null,
            "max_height": null,
            "align_content": null,
            "visibility": null,
            "align_self": null,
            "height": null,
            "min_height": null,
            "padding": null,
            "grid_auto_rows": null,
            "grid_gap": null,
            "max_width": null,
            "order": null,
            "_view_module_version": "1.2.0",
            "grid_template_areas": null,
            "object_position": null,
            "object_fit": null,
            "grid_auto_columns": null,
            "margin": null,
            "display": null,
            "left": null
          }
        },
        "1aaba1daec424f528815ccc6760faa69": {
          "model_module": "@jupyter-widgets/controls",
          "model_name": "HBoxModel",
          "state": {
            "_view_name": "HBoxView",
            "_dom_classes": [],
            "_model_name": "HBoxModel",
            "_view_module": "@jupyter-widgets/controls",
            "_model_module_version": "1.5.0",
            "_view_count": null,
            "_view_module_version": "1.5.0",
            "box_style": "",
            "layout": "IPY_MODEL_ba1a73bfe88a4c02a5cc7ae33d0f8b81",
            "_model_module": "@jupyter-widgets/controls",
            "children": [
              "IPY_MODEL_e51913cb41a948459212afdb03ca5f3d",
              "IPY_MODEL_c7cee8a2a2c84f8e83a1d41f55864679"
            ]
          }
        },
        "ba1a73bfe88a4c02a5cc7ae33d0f8b81": {
          "model_module": "@jupyter-widgets/base",
          "model_name": "LayoutModel",
          "state": {
            "_view_name": "LayoutView",
            "grid_template_rows": null,
            "right": null,
            "justify_content": null,
            "_view_module": "@jupyter-widgets/base",
            "overflow": null,
            "_model_module_version": "1.2.0",
            "_view_count": null,
            "flex_flow": null,
            "width": null,
            "min_width": null,
            "border": null,
            "align_items": null,
            "bottom": null,
            "_model_module": "@jupyter-widgets/base",
            "top": null,
            "grid_column": null,
            "overflow_y": null,
            "overflow_x": null,
            "grid_auto_flow": null,
            "grid_area": null,
            "grid_template_columns": null,
            "flex": null,
            "_model_name": "LayoutModel",
            "justify_items": null,
            "grid_row": null,
            "max_height": null,
            "align_content": null,
            "visibility": null,
            "align_self": null,
            "height": null,
            "min_height": null,
            "padding": null,
            "grid_auto_rows": null,
            "grid_gap": null,
            "max_width": null,
            "order": null,
            "_view_module_version": "1.2.0",
            "grid_template_areas": null,
            "object_position": null,
            "object_fit": null,
            "grid_auto_columns": null,
            "margin": null,
            "display": null,
            "left": null
          }
        },
        "e51913cb41a948459212afdb03ca5f3d": {
          "model_module": "@jupyter-widgets/controls",
          "model_name": "FloatProgressModel",
          "state": {
            "_view_name": "ProgressView",
            "style": "IPY_MODEL_61410758800644e697826e534e06a6cf",
            "_dom_classes": [],
            "description": "split=train: 100%",
            "_model_name": "FloatProgressModel",
            "bar_style": "",
            "max": 285,
            "_view_module": "@jupyter-widgets/controls",
            "_model_module_version": "1.5.0",
            "value": 284,
            "_view_count": null,
            "_view_module_version": "1.5.0",
            "orientation": "horizontal",
            "min": 0,
            "description_tooltip": null,
            "_model_module": "@jupyter-widgets/controls",
            "layout": "IPY_MODEL_b44c80ec3a5a4911b184594f645c4e4a"
          }
        },
        "c7cee8a2a2c84f8e83a1d41f55864679": {
          "model_module": "@jupyter-widgets/controls",
          "model_name": "HTMLModel",
          "state": {
            "_view_name": "HTMLView",
            "style": "IPY_MODEL_9908f3fd5a344d02a4ed65264bf9e00b",
            "_dom_classes": [],
            "description": "",
            "_model_name": "HTMLModel",
            "placeholder": "​",
            "_view_module": "@jupyter-widgets/controls",
            "_model_module_version": "1.5.0",
            "value": " 284/285 [15:46&lt;00:00,  8.78it/s, acc=44.3, epoch=25, loss=3.01]",
            "_view_count": null,
            "_view_module_version": "1.5.0",
            "description_tooltip": null,
            "_model_module": "@jupyter-widgets/controls",
            "layout": "IPY_MODEL_4d40ffb021d0428688d846c5e3697c33"
          }
        },
        "61410758800644e697826e534e06a6cf": {
          "model_module": "@jupyter-widgets/controls",
          "model_name": "ProgressStyleModel",
          "state": {
            "_view_name": "StyleView",
            "_model_name": "ProgressStyleModel",
            "description_width": "initial",
            "_view_module": "@jupyter-widgets/base",
            "_model_module_version": "1.5.0",
            "_view_count": null,
            "_view_module_version": "1.2.0",
            "bar_color": null,
            "_model_module": "@jupyter-widgets/controls"
          }
        },
        "b44c80ec3a5a4911b184594f645c4e4a": {
          "model_module": "@jupyter-widgets/base",
          "model_name": "LayoutModel",
          "state": {
            "_view_name": "LayoutView",
            "grid_template_rows": null,
            "right": null,
            "justify_content": null,
            "_view_module": "@jupyter-widgets/base",
            "overflow": null,
            "_model_module_version": "1.2.0",
            "_view_count": null,
            "flex_flow": null,
            "width": null,
            "min_width": null,
            "border": null,
            "align_items": null,
            "bottom": null,
            "_model_module": "@jupyter-widgets/base",
            "top": null,
            "grid_column": null,
            "overflow_y": null,
            "overflow_x": null,
            "grid_auto_flow": null,
            "grid_area": null,
            "grid_template_columns": null,
            "flex": null,
            "_model_name": "LayoutModel",
            "justify_items": null,
            "grid_row": null,
            "max_height": null,
            "align_content": null,
            "visibility": null,
            "align_self": null,
            "height": null,
            "min_height": null,
            "padding": null,
            "grid_auto_rows": null,
            "grid_gap": null,
            "max_width": null,
            "order": null,
            "_view_module_version": "1.2.0",
            "grid_template_areas": null,
            "object_position": null,
            "object_fit": null,
            "grid_auto_columns": null,
            "margin": null,
            "display": null,
            "left": null
          }
        },
        "9908f3fd5a344d02a4ed65264bf9e00b": {
          "model_module": "@jupyter-widgets/controls",
          "model_name": "DescriptionStyleModel",
          "state": {
            "_view_name": "StyleView",
            "_model_name": "DescriptionStyleModel",
            "description_width": "",
            "_view_module": "@jupyter-widgets/base",
            "_model_module_version": "1.5.0",
            "_view_count": null,
            "_view_module_version": "1.2.0",
            "_model_module": "@jupyter-widgets/controls"
          }
        },
        "4d40ffb021d0428688d846c5e3697c33": {
          "model_module": "@jupyter-widgets/base",
          "model_name": "LayoutModel",
          "state": {
            "_view_name": "LayoutView",
            "grid_template_rows": null,
            "right": null,
            "justify_content": null,
            "_view_module": "@jupyter-widgets/base",
            "overflow": null,
            "_model_module_version": "1.2.0",
            "_view_count": null,
            "flex_flow": null,
            "width": null,
            "min_width": null,
            "border": null,
            "align_items": null,
            "bottom": null,
            "_model_module": "@jupyter-widgets/base",
            "top": null,
            "grid_column": null,
            "overflow_y": null,
            "overflow_x": null,
            "grid_auto_flow": null,
            "grid_area": null,
            "grid_template_columns": null,
            "flex": null,
            "_model_name": "LayoutModel",
            "justify_items": null,
            "grid_row": null,
            "max_height": null,
            "align_content": null,
            "visibility": null,
            "align_self": null,
            "height": null,
            "min_height": null,
            "padding": null,
            "grid_auto_rows": null,
            "grid_gap": null,
            "max_width": null,
            "order": null,
            "_view_module_version": "1.2.0",
            "grid_template_areas": null,
            "object_position": null,
            "object_fit": null,
            "grid_auto_columns": null,
            "margin": null,
            "display": null,
            "left": null
          }
        },
        "23095d8e6858473f8f21f9c8d80bc64f": {
          "model_module": "@jupyter-widgets/controls",
          "model_name": "HBoxModel",
          "state": {
            "_view_name": "HBoxView",
            "_dom_classes": [],
            "_model_name": "HBoxModel",
            "_view_module": "@jupyter-widgets/controls",
            "_model_module_version": "1.5.0",
            "_view_count": null,
            "_view_module_version": "1.5.0",
            "box_style": "",
            "layout": "IPY_MODEL_6bd9d465903e4753abbe863c3e762712",
            "_model_module": "@jupyter-widgets/controls",
            "children": [
              "IPY_MODEL_bb6985e2295d4e47ab5a9a072f2967b8",
              "IPY_MODEL_ca796efd7c884a299a972e1ac73d594f"
            ]
          }
        },
        "6bd9d465903e4753abbe863c3e762712": {
          "model_module": "@jupyter-widgets/base",
          "model_name": "LayoutModel",
          "state": {
            "_view_name": "LayoutView",
            "grid_template_rows": null,
            "right": null,
            "justify_content": null,
            "_view_module": "@jupyter-widgets/base",
            "overflow": null,
            "_model_module_version": "1.2.0",
            "_view_count": null,
            "flex_flow": null,
            "width": null,
            "min_width": null,
            "border": null,
            "align_items": null,
            "bottom": null,
            "_model_module": "@jupyter-widgets/base",
            "top": null,
            "grid_column": null,
            "overflow_y": null,
            "overflow_x": null,
            "grid_auto_flow": null,
            "grid_area": null,
            "grid_template_columns": null,
            "flex": null,
            "_model_name": "LayoutModel",
            "justify_items": null,
            "grid_row": null,
            "max_height": null,
            "align_content": null,
            "visibility": null,
            "align_self": null,
            "height": null,
            "min_height": null,
            "padding": null,
            "grid_auto_rows": null,
            "grid_gap": null,
            "max_width": null,
            "order": null,
            "_view_module_version": "1.2.0",
            "grid_template_areas": null,
            "object_position": null,
            "object_fit": null,
            "grid_auto_columns": null,
            "margin": null,
            "display": null,
            "left": null
          }
        },
        "bb6985e2295d4e47ab5a9a072f2967b8": {
          "model_module": "@jupyter-widgets/controls",
          "model_name": "FloatProgressModel",
          "state": {
            "_view_name": "ProgressView",
            "style": "IPY_MODEL_6d8f58fd09544662aeabfe7d8176a8cb",
            "_dom_classes": [],
            "description": "split=val:  98%",
            "_model_name": "FloatProgressModel",
            "bar_style": "",
            "max": 61,
            "_view_module": "@jupyter-widgets/controls",
            "_model_module_version": "1.5.0",
            "value": 60,
            "_view_count": null,
            "_view_module_version": "1.5.0",
            "orientation": "horizontal",
            "min": 0,
            "description_tooltip": null,
            "_model_module": "@jupyter-widgets/controls",
            "layout": "IPY_MODEL_c496e81a307a4165b15c72ea7f8e989b"
          }
        },
        "ca796efd7c884a299a972e1ac73d594f": {
          "model_module": "@jupyter-widgets/controls",
          "model_name": "HTMLModel",
          "state": {
            "_view_name": "HTMLView",
            "style": "IPY_MODEL_6c10d668918548f292ea3dec30670e8f",
            "_dom_classes": [],
            "description": "",
            "_model_name": "HTMLModel",
            "placeholder": "​",
            "_view_module": "@jupyter-widgets/controls",
            "_model_module_version": "1.5.0",
            "value": " 60/61 [15:50&lt;00:18, 18.13s/it, acc=43.5, epoch=25, loss=3.61]",
            "_view_count": null,
            "_view_module_version": "1.5.0",
            "description_tooltip": null,
            "_model_module": "@jupyter-widgets/controls",
            "layout": "IPY_MODEL_5b62f2472e6b4f37bf8fc72c2a4dea91"
          }
        },
        "6d8f58fd09544662aeabfe7d8176a8cb": {
          "model_module": "@jupyter-widgets/controls",
          "model_name": "ProgressStyleModel",
          "state": {
            "_view_name": "StyleView",
            "_model_name": "ProgressStyleModel",
            "description_width": "initial",
            "_view_module": "@jupyter-widgets/base",
            "_model_module_version": "1.5.0",
            "_view_count": null,
            "_view_module_version": "1.2.0",
            "bar_color": null,
            "_model_module": "@jupyter-widgets/controls"
          }
        },
        "c496e81a307a4165b15c72ea7f8e989b": {
          "model_module": "@jupyter-widgets/base",
          "model_name": "LayoutModel",
          "state": {
            "_view_name": "LayoutView",
            "grid_template_rows": null,
            "right": null,
            "justify_content": null,
            "_view_module": "@jupyter-widgets/base",
            "overflow": null,
            "_model_module_version": "1.2.0",
            "_view_count": null,
            "flex_flow": null,
            "width": null,
            "min_width": null,
            "border": null,
            "align_items": null,
            "bottom": null,
            "_model_module": "@jupyter-widgets/base",
            "top": null,
            "grid_column": null,
            "overflow_y": null,
            "overflow_x": null,
            "grid_auto_flow": null,
            "grid_area": null,
            "grid_template_columns": null,
            "flex": null,
            "_model_name": "LayoutModel",
            "justify_items": null,
            "grid_row": null,
            "max_height": null,
            "align_content": null,
            "visibility": null,
            "align_self": null,
            "height": null,
            "min_height": null,
            "padding": null,
            "grid_auto_rows": null,
            "grid_gap": null,
            "max_width": null,
            "order": null,
            "_view_module_version": "1.2.0",
            "grid_template_areas": null,
            "object_position": null,
            "object_fit": null,
            "grid_auto_columns": null,
            "margin": null,
            "display": null,
            "left": null
          }
        },
        "6c10d668918548f292ea3dec30670e8f": {
          "model_module": "@jupyter-widgets/controls",
          "model_name": "DescriptionStyleModel",
          "state": {
            "_view_name": "StyleView",
            "_model_name": "DescriptionStyleModel",
            "description_width": "",
            "_view_module": "@jupyter-widgets/base",
            "_model_module_version": "1.5.0",
            "_view_count": null,
            "_view_module_version": "1.2.0",
            "_model_module": "@jupyter-widgets/controls"
          }
        },
        "5b62f2472e6b4f37bf8fc72c2a4dea91": {
          "model_module": "@jupyter-widgets/base",
          "model_name": "LayoutModel",
          "state": {
            "_view_name": "LayoutView",
            "grid_template_rows": null,
            "right": null,
            "justify_content": null,
            "_view_module": "@jupyter-widgets/base",
            "overflow": null,
            "_model_module_version": "1.2.0",
            "_view_count": null,
            "flex_flow": null,
            "width": null,
            "min_width": null,
            "border": null,
            "align_items": null,
            "bottom": null,
            "_model_module": "@jupyter-widgets/base",
            "top": null,
            "grid_column": null,
            "overflow_y": null,
            "overflow_x": null,
            "grid_auto_flow": null,
            "grid_area": null,
            "grid_template_columns": null,
            "flex": null,
            "_model_name": "LayoutModel",
            "justify_items": null,
            "grid_row": null,
            "max_height": null,
            "align_content": null,
            "visibility": null,
            "align_self": null,
            "height": null,
            "min_height": null,
            "padding": null,
            "grid_auto_rows": null,
            "grid_gap": null,
            "max_width": null,
            "order": null,
            "_view_module_version": "1.2.0",
            "grid_template_areas": null,
            "object_position": null,
            "object_fit": null,
            "grid_auto_columns": null,
            "margin": null,
            "display": null,
            "left": null
          }
        },
        "c5b9c95b9b4247d68be92ac11f74a99e": {
          "model_module": "@jupyter-widgets/controls",
          "model_name": "HBoxModel",
          "state": {
            "_view_name": "HBoxView",
            "_dom_classes": [],
            "_model_name": "HBoxModel",
            "_view_module": "@jupyter-widgets/controls",
            "_model_module_version": "1.5.0",
            "_view_count": null,
            "_view_module_version": "1.5.0",
            "box_style": "",
            "layout": "IPY_MODEL_42f28f084cec4725a91e1c50eb0cfc64",
            "_model_module": "@jupyter-widgets/controls",
            "children": [
              "IPY_MODEL_dd7e8e6ec5a74119b871a2fb35730a67",
              "IPY_MODEL_14890aab9f6a4cdcb81a4749ae2fd737"
            ]
          }
        },
        "42f28f084cec4725a91e1c50eb0cfc64": {
          "model_module": "@jupyter-widgets/base",
          "model_name": "LayoutModel",
          "state": {
            "_view_name": "LayoutView",
            "grid_template_rows": null,
            "right": null,
            "justify_content": null,
            "_view_module": "@jupyter-widgets/base",
            "overflow": null,
            "_model_module_version": "1.2.0",
            "_view_count": null,
            "flex_flow": null,
            "width": null,
            "min_width": null,
            "border": null,
            "align_items": null,
            "bottom": null,
            "_model_module": "@jupyter-widgets/base",
            "top": null,
            "grid_column": null,
            "overflow_y": null,
            "overflow_x": null,
            "grid_auto_flow": null,
            "grid_area": null,
            "grid_template_columns": null,
            "flex": null,
            "_model_name": "LayoutModel",
            "justify_items": null,
            "grid_row": null,
            "max_height": null,
            "align_content": null,
            "visibility": null,
            "align_self": null,
            "height": null,
            "min_height": null,
            "padding": null,
            "grid_auto_rows": null,
            "grid_gap": null,
            "max_width": null,
            "order": null,
            "_view_module_version": "1.2.0",
            "grid_template_areas": null,
            "object_position": null,
            "object_fit": null,
            "grid_auto_columns": null,
            "margin": null,
            "display": null,
            "left": null
          }
        },
        "dd7e8e6ec5a74119b871a2fb35730a67": {
          "model_module": "@jupyter-widgets/controls",
          "model_name": "FloatProgressModel",
          "state": {
            "_view_name": "ProgressView",
            "style": "IPY_MODEL_e251ca2eef5e40ad8371de496a7052d2",
            "_dom_classes": [],
            "description": "training routine: 100%",
            "_model_name": "FloatProgressModel",
            "bar_style": "",
            "max": 50,
            "_view_module": "@jupyter-widgets/controls",
            "_model_module_version": "1.5.0",
            "value": 50,
            "_view_count": null,
            "_view_module_version": "1.5.0",
            "orientation": "horizontal",
            "min": 0,
            "description_tooltip": null,
            "_model_module": "@jupyter-widgets/controls",
            "layout": "IPY_MODEL_8814dc496af8407a96c79e4e82de54f2"
          }
        },
        "14890aab9f6a4cdcb81a4749ae2fd737": {
          "model_module": "@jupyter-widgets/controls",
          "model_name": "HTMLModel",
          "state": {
            "_view_name": "HTMLView",
            "style": "IPY_MODEL_6177205a9a084eb6a6b37f2b7186d5a6",
            "_dom_classes": [],
            "description": "",
            "_model_name": "HTMLModel",
            "placeholder": "​",
            "_view_module": "@jupyter-widgets/controls",
            "_model_module_version": "1.5.0",
            "value": " 50/50 [28:08&lt;00:00, 34.45s/it, best_val=3.66]",
            "_view_count": null,
            "_view_module_version": "1.5.0",
            "description_tooltip": null,
            "_model_module": "@jupyter-widgets/controls",
            "layout": "IPY_MODEL_3a048bda9dc24757ae20da2450de1981"
          }
        },
        "e251ca2eef5e40ad8371de496a7052d2": {
          "model_module": "@jupyter-widgets/controls",
          "model_name": "ProgressStyleModel",
          "state": {
            "_view_name": "StyleView",
            "_model_name": "ProgressStyleModel",
            "description_width": "initial",
            "_view_module": "@jupyter-widgets/base",
            "_model_module_version": "1.5.0",
            "_view_count": null,
            "_view_module_version": "1.2.0",
            "bar_color": null,
            "_model_module": "@jupyter-widgets/controls"
          }
        },
        "8814dc496af8407a96c79e4e82de54f2": {
          "model_module": "@jupyter-widgets/base",
          "model_name": "LayoutModel",
          "state": {
            "_view_name": "LayoutView",
            "grid_template_rows": null,
            "right": null,
            "justify_content": null,
            "_view_module": "@jupyter-widgets/base",
            "overflow": null,
            "_model_module_version": "1.2.0",
            "_view_count": null,
            "flex_flow": null,
            "width": null,
            "min_width": null,
            "border": null,
            "align_items": null,
            "bottom": null,
            "_model_module": "@jupyter-widgets/base",
            "top": null,
            "grid_column": null,
            "overflow_y": null,
            "overflow_x": null,
            "grid_auto_flow": null,
            "grid_area": null,
            "grid_template_columns": null,
            "flex": null,
            "_model_name": "LayoutModel",
            "justify_items": null,
            "grid_row": null,
            "max_height": null,
            "align_content": null,
            "visibility": null,
            "align_self": null,
            "height": null,
            "min_height": null,
            "padding": null,
            "grid_auto_rows": null,
            "grid_gap": null,
            "max_width": null,
            "order": null,
            "_view_module_version": "1.2.0",
            "grid_template_areas": null,
            "object_position": null,
            "object_fit": null,
            "grid_auto_columns": null,
            "margin": null,
            "display": null,
            "left": null
          }
        },
        "6177205a9a084eb6a6b37f2b7186d5a6": {
          "model_module": "@jupyter-widgets/controls",
          "model_name": "DescriptionStyleModel",
          "state": {
            "_view_name": "StyleView",
            "_model_name": "DescriptionStyleModel",
            "description_width": "",
            "_view_module": "@jupyter-widgets/base",
            "_model_module_version": "1.5.0",
            "_view_count": null,
            "_view_module_version": "1.2.0",
            "_model_module": "@jupyter-widgets/controls"
          }
        },
        "3a048bda9dc24757ae20da2450de1981": {
          "model_module": "@jupyter-widgets/base",
          "model_name": "LayoutModel",
          "state": {
            "_view_name": "LayoutView",
            "grid_template_rows": null,
            "right": null,
            "justify_content": null,
            "_view_module": "@jupyter-widgets/base",
            "overflow": null,
            "_model_module_version": "1.2.0",
            "_view_count": null,
            "flex_flow": null,
            "width": null,
            "min_width": null,
            "border": null,
            "align_items": null,
            "bottom": null,
            "_model_module": "@jupyter-widgets/base",
            "top": null,
            "grid_column": null,
            "overflow_y": null,
            "overflow_x": null,
            "grid_auto_flow": null,
            "grid_area": null,
            "grid_template_columns": null,
            "flex": null,
            "_model_name": "LayoutModel",
            "justify_items": null,
            "grid_row": null,
            "max_height": null,
            "align_content": null,
            "visibility": null,
            "align_self": null,
            "height": null,
            "min_height": null,
            "padding": null,
            "grid_auto_rows": null,
            "grid_gap": null,
            "max_width": null,
            "order": null,
            "_view_module_version": "1.2.0",
            "grid_template_areas": null,
            "object_position": null,
            "object_fit": null,
            "grid_auto_columns": null,
            "margin": null,
            "display": null,
            "left": null
          }
        },
        "064f285ba22f48b69a5b93fb1c4dc2ac": {
          "model_module": "@jupyter-widgets/controls",
          "model_name": "HBoxModel",
          "state": {
            "_view_name": "HBoxView",
            "_dom_classes": [],
            "_model_name": "HBoxModel",
            "_view_module": "@jupyter-widgets/controls",
            "_model_module_version": "1.5.0",
            "_view_count": null,
            "_view_module_version": "1.5.0",
            "box_style": "",
            "layout": "IPY_MODEL_b7617f21eff449f7adcf0a2722eb7f41",
            "_model_module": "@jupyter-widgets/controls",
            "children": [
              "IPY_MODEL_23122fe72a1144a0ae882173e769b5dc",
              "IPY_MODEL_4844488b5fd640df98dbd909dcc67f82"
            ]
          }
        },
        "b7617f21eff449f7adcf0a2722eb7f41": {
          "model_module": "@jupyter-widgets/base",
          "model_name": "LayoutModel",
          "state": {
            "_view_name": "LayoutView",
            "grid_template_rows": null,
            "right": null,
            "justify_content": null,
            "_view_module": "@jupyter-widgets/base",
            "overflow": null,
            "_model_module_version": "1.2.0",
            "_view_count": null,
            "flex_flow": null,
            "width": null,
            "min_width": null,
            "border": null,
            "align_items": null,
            "bottom": null,
            "_model_module": "@jupyter-widgets/base",
            "top": null,
            "grid_column": null,
            "overflow_y": null,
            "overflow_x": null,
            "grid_auto_flow": null,
            "grid_area": null,
            "grid_template_columns": null,
            "flex": null,
            "_model_name": "LayoutModel",
            "justify_items": null,
            "grid_row": null,
            "max_height": null,
            "align_content": null,
            "visibility": null,
            "align_self": null,
            "height": null,
            "min_height": null,
            "padding": null,
            "grid_auto_rows": null,
            "grid_gap": null,
            "max_width": null,
            "order": null,
            "_view_module_version": "1.2.0",
            "grid_template_areas": null,
            "object_position": null,
            "object_fit": null,
            "grid_auto_columns": null,
            "margin": null,
            "display": null,
            "left": null
          }
        },
        "23122fe72a1144a0ae882173e769b5dc": {
          "model_module": "@jupyter-widgets/controls",
          "model_name": "FloatProgressModel",
          "state": {
            "_view_name": "ProgressView",
            "style": "IPY_MODEL_db3ca27112914a15b62f686d466c136c",
            "_dom_classes": [],
            "description": "split=train: 100%",
            "_model_name": "FloatProgressModel",
            "bar_style": "",
            "max": 285,
            "_view_module": "@jupyter-widgets/controls",
            "_model_module_version": "1.5.0",
            "value": 284,
            "_view_count": null,
            "_view_module_version": "1.5.0",
            "orientation": "horizontal",
            "min": 0,
            "description_tooltip": null,
            "_model_module": "@jupyter-widgets/controls",
            "layout": "IPY_MODEL_d3e75d5b8b3942b095c03ff937ea4ae1"
          }
        },
        "4844488b5fd640df98dbd909dcc67f82": {
          "model_module": "@jupyter-widgets/controls",
          "model_name": "HTMLModel",
          "state": {
            "_view_name": "HTMLView",
            "style": "IPY_MODEL_d1fd05be4296453384d5a52825aa6d8d",
            "_dom_classes": [],
            "description": "",
            "_model_name": "HTMLModel",
            "placeholder": "​",
            "_view_module": "@jupyter-widgets/controls",
            "_model_module_version": "1.5.0",
            "value": " 284/285 [28:04&lt;00:00,  9.71it/s, acc=43.4, epoch=49, loss=3.03]",
            "_view_count": null,
            "_view_module_version": "1.5.0",
            "description_tooltip": null,
            "_model_module": "@jupyter-widgets/controls",
            "layout": "IPY_MODEL_3e8b03f057ca45979b66c4e7feeea81a"
          }
        },
        "db3ca27112914a15b62f686d466c136c": {
          "model_module": "@jupyter-widgets/controls",
          "model_name": "ProgressStyleModel",
          "state": {
            "_view_name": "StyleView",
            "_model_name": "ProgressStyleModel",
            "description_width": "initial",
            "_view_module": "@jupyter-widgets/base",
            "_model_module_version": "1.5.0",
            "_view_count": null,
            "_view_module_version": "1.2.0",
            "bar_color": null,
            "_model_module": "@jupyter-widgets/controls"
          }
        },
        "d3e75d5b8b3942b095c03ff937ea4ae1": {
          "model_module": "@jupyter-widgets/base",
          "model_name": "LayoutModel",
          "state": {
            "_view_name": "LayoutView",
            "grid_template_rows": null,
            "right": null,
            "justify_content": null,
            "_view_module": "@jupyter-widgets/base",
            "overflow": null,
            "_model_module_version": "1.2.0",
            "_view_count": null,
            "flex_flow": null,
            "width": null,
            "min_width": null,
            "border": null,
            "align_items": null,
            "bottom": null,
            "_model_module": "@jupyter-widgets/base",
            "top": null,
            "grid_column": null,
            "overflow_y": null,
            "overflow_x": null,
            "grid_auto_flow": null,
            "grid_area": null,
            "grid_template_columns": null,
            "flex": null,
            "_model_name": "LayoutModel",
            "justify_items": null,
            "grid_row": null,
            "max_height": null,
            "align_content": null,
            "visibility": null,
            "align_self": null,
            "height": null,
            "min_height": null,
            "padding": null,
            "grid_auto_rows": null,
            "grid_gap": null,
            "max_width": null,
            "order": null,
            "_view_module_version": "1.2.0",
            "grid_template_areas": null,
            "object_position": null,
            "object_fit": null,
            "grid_auto_columns": null,
            "margin": null,
            "display": null,
            "left": null
          }
        },
        "d1fd05be4296453384d5a52825aa6d8d": {
          "model_module": "@jupyter-widgets/controls",
          "model_name": "DescriptionStyleModel",
          "state": {
            "_view_name": "StyleView",
            "_model_name": "DescriptionStyleModel",
            "description_width": "",
            "_view_module": "@jupyter-widgets/base",
            "_model_module_version": "1.5.0",
            "_view_count": null,
            "_view_module_version": "1.2.0",
            "_model_module": "@jupyter-widgets/controls"
          }
        },
        "3e8b03f057ca45979b66c4e7feeea81a": {
          "model_module": "@jupyter-widgets/base",
          "model_name": "LayoutModel",
          "state": {
            "_view_name": "LayoutView",
            "grid_template_rows": null,
            "right": null,
            "justify_content": null,
            "_view_module": "@jupyter-widgets/base",
            "overflow": null,
            "_model_module_version": "1.2.0",
            "_view_count": null,
            "flex_flow": null,
            "width": null,
            "min_width": null,
            "border": null,
            "align_items": null,
            "bottom": null,
            "_model_module": "@jupyter-widgets/base",
            "top": null,
            "grid_column": null,
            "overflow_y": null,
            "overflow_x": null,
            "grid_auto_flow": null,
            "grid_area": null,
            "grid_template_columns": null,
            "flex": null,
            "_model_name": "LayoutModel",
            "justify_items": null,
            "grid_row": null,
            "max_height": null,
            "align_content": null,
            "visibility": null,
            "align_self": null,
            "height": null,
            "min_height": null,
            "padding": null,
            "grid_auto_rows": null,
            "grid_gap": null,
            "max_width": null,
            "order": null,
            "_view_module_version": "1.2.0",
            "grid_template_areas": null,
            "object_position": null,
            "object_fit": null,
            "grid_auto_columns": null,
            "margin": null,
            "display": null,
            "left": null
          }
        },
        "b48709a107ae454c89afe03d8dbcc1bc": {
          "model_module": "@jupyter-widgets/controls",
          "model_name": "HBoxModel",
          "state": {
            "_view_name": "HBoxView",
            "_dom_classes": [],
            "_model_name": "HBoxModel",
            "_view_module": "@jupyter-widgets/controls",
            "_model_module_version": "1.5.0",
            "_view_count": null,
            "_view_module_version": "1.5.0",
            "box_style": "",
            "layout": "IPY_MODEL_4d25d880ef0747a4a1fd631c84ea59d4",
            "_model_module": "@jupyter-widgets/controls",
            "children": [
              "IPY_MODEL_0ed30e18f75c4ee8b2322b1af6b6dc1e",
              "IPY_MODEL_1cee872bb9284de3ae2ae2d2903655d6"
            ]
          }
        },
        "4d25d880ef0747a4a1fd631c84ea59d4": {
          "model_module": "@jupyter-widgets/base",
          "model_name": "LayoutModel",
          "state": {
            "_view_name": "LayoutView",
            "grid_template_rows": null,
            "right": null,
            "justify_content": null,
            "_view_module": "@jupyter-widgets/base",
            "overflow": null,
            "_model_module_version": "1.2.0",
            "_view_count": null,
            "flex_flow": null,
            "width": null,
            "min_width": null,
            "border": null,
            "align_items": null,
            "bottom": null,
            "_model_module": "@jupyter-widgets/base",
            "top": null,
            "grid_column": null,
            "overflow_y": null,
            "overflow_x": null,
            "grid_auto_flow": null,
            "grid_area": null,
            "grid_template_columns": null,
            "flex": null,
            "_model_name": "LayoutModel",
            "justify_items": null,
            "grid_row": null,
            "max_height": null,
            "align_content": null,
            "visibility": null,
            "align_self": null,
            "height": null,
            "min_height": null,
            "padding": null,
            "grid_auto_rows": null,
            "grid_gap": null,
            "max_width": null,
            "order": null,
            "_view_module_version": "1.2.0",
            "grid_template_areas": null,
            "object_position": null,
            "object_fit": null,
            "grid_auto_columns": null,
            "margin": null,
            "display": null,
            "left": null
          }
        },
        "0ed30e18f75c4ee8b2322b1af6b6dc1e": {
          "model_module": "@jupyter-widgets/controls",
          "model_name": "FloatProgressModel",
          "state": {
            "_view_name": "ProgressView",
            "style": "IPY_MODEL_deec7c7273124a368507b6f90b964b68",
            "_dom_classes": [],
            "description": "split=val:  98%",
            "_model_name": "FloatProgressModel",
            "bar_style": "",
            "max": 61,
            "_view_module": "@jupyter-widgets/controls",
            "_model_module_version": "1.5.0",
            "value": 60,
            "_view_count": null,
            "_view_module_version": "1.5.0",
            "orientation": "horizontal",
            "min": 0,
            "description_tooltip": null,
            "_model_module": "@jupyter-widgets/controls",
            "layout": "IPY_MODEL_f8f0cecc94f8403786f8eddcafc90ea4"
          }
        },
        "1cee872bb9284de3ae2ae2d2903655d6": {
          "model_module": "@jupyter-widgets/controls",
          "model_name": "HTMLModel",
          "state": {
            "_view_name": "HTMLView",
            "style": "IPY_MODEL_e3bb7f3be5e9466bbdd489d2688d576e",
            "_dom_classes": [],
            "description": "",
            "_model_name": "HTMLModel",
            "placeholder": "​",
            "_view_module": "@jupyter-widgets/controls",
            "_model_module_version": "1.5.0",
            "value": " 60/61 [28:07&lt;00:00, 15.03it/s, acc=42.2, epoch=49, loss=3.71]",
            "_view_count": null,
            "_view_module_version": "1.5.0",
            "description_tooltip": null,
            "_model_module": "@jupyter-widgets/controls",
            "layout": "IPY_MODEL_c1193e7b8a4d483f9873c6ce93495269"
          }
        },
        "deec7c7273124a368507b6f90b964b68": {
          "model_module": "@jupyter-widgets/controls",
          "model_name": "ProgressStyleModel",
          "state": {
            "_view_name": "StyleView",
            "_model_name": "ProgressStyleModel",
            "description_width": "initial",
            "_view_module": "@jupyter-widgets/base",
            "_model_module_version": "1.5.0",
            "_view_count": null,
            "_view_module_version": "1.2.0",
            "bar_color": null,
            "_model_module": "@jupyter-widgets/controls"
          }
        },
        "f8f0cecc94f8403786f8eddcafc90ea4": {
          "model_module": "@jupyter-widgets/base",
          "model_name": "LayoutModel",
          "state": {
            "_view_name": "LayoutView",
            "grid_template_rows": null,
            "right": null,
            "justify_content": null,
            "_view_module": "@jupyter-widgets/base",
            "overflow": null,
            "_model_module_version": "1.2.0",
            "_view_count": null,
            "flex_flow": null,
            "width": null,
            "min_width": null,
            "border": null,
            "align_items": null,
            "bottom": null,
            "_model_module": "@jupyter-widgets/base",
            "top": null,
            "grid_column": null,
            "overflow_y": null,
            "overflow_x": null,
            "grid_auto_flow": null,
            "grid_area": null,
            "grid_template_columns": null,
            "flex": null,
            "_model_name": "LayoutModel",
            "justify_items": null,
            "grid_row": null,
            "max_height": null,
            "align_content": null,
            "visibility": null,
            "align_self": null,
            "height": null,
            "min_height": null,
            "padding": null,
            "grid_auto_rows": null,
            "grid_gap": null,
            "max_width": null,
            "order": null,
            "_view_module_version": "1.2.0",
            "grid_template_areas": null,
            "object_position": null,
            "object_fit": null,
            "grid_auto_columns": null,
            "margin": null,
            "display": null,
            "left": null
          }
        },
        "e3bb7f3be5e9466bbdd489d2688d576e": {
          "model_module": "@jupyter-widgets/controls",
          "model_name": "DescriptionStyleModel",
          "state": {
            "_view_name": "StyleView",
            "_model_name": "DescriptionStyleModel",
            "description_width": "",
            "_view_module": "@jupyter-widgets/base",
            "_model_module_version": "1.5.0",
            "_view_count": null,
            "_view_module_version": "1.2.0",
            "_model_module": "@jupyter-widgets/controls"
          }
        },
        "c1193e7b8a4d483f9873c6ce93495269": {
          "model_module": "@jupyter-widgets/base",
          "model_name": "LayoutModel",
          "state": {
            "_view_name": "LayoutView",
            "grid_template_rows": null,
            "right": null,
            "justify_content": null,
            "_view_module": "@jupyter-widgets/base",
            "overflow": null,
            "_model_module_version": "1.2.0",
            "_view_count": null,
            "flex_flow": null,
            "width": null,
            "min_width": null,
            "border": null,
            "align_items": null,
            "bottom": null,
            "_model_module": "@jupyter-widgets/base",
            "top": null,
            "grid_column": null,
            "overflow_y": null,
            "overflow_x": null,
            "grid_auto_flow": null,
            "grid_area": null,
            "grid_template_columns": null,
            "flex": null,
            "_model_name": "LayoutModel",
            "justify_items": null,
            "grid_row": null,
            "max_height": null,
            "align_content": null,
            "visibility": null,
            "align_self": null,
            "height": null,
            "min_height": null,
            "padding": null,
            "grid_auto_rows": null,
            "grid_gap": null,
            "max_width": null,
            "order": null,
            "_view_module_version": "1.2.0",
            "grid_template_areas": null,
            "object_position": null,
            "object_fit": null,
            "grid_auto_columns": null,
            "margin": null,
            "display": null,
            "left": null
          }
        }
      }
    }
  },
  "cells": [
    {
      "cell_type": "markdown",
      "metadata": {
        "id": "vmK-qKTTW9G5"
      },
      "source": [
        "# Tarea 7: Neural Machine Translation with Attention\n",
        "\n",
        "## Procesamiento del Lenguaje Natural\n",
        "\n",
        "### Esteban Reyes Saldaña"
      ]
    },
    {
      "cell_type": "code",
      "metadata": {
        "id": "osCWCTeadSa_"
      },
      "source": [
        "# Descargo datos\n",
        "# !bash get-all-data.sh"
      ],
      "execution_count": null,
      "outputs": []
    },
    {
      "cell_type": "code",
      "metadata": {
        "id": "Meq8x7tfWu2m"
      },
      "source": [
        "# Librerías\n",
        "import os\n",
        "from argparse import Namespace\n",
        "from collections import Counter\n",
        "import json\n",
        "import re\n",
        "import string\n",
        "# librería vieja\n",
        "# from tqdm import tqdm_notebook\n",
        "# librería nueva\n",
        "import tqdm\n",
        "\n",
        "import numpy as np\n",
        "import pandas as pd\n",
        "import time\n",
        "\n",
        "import torch\n",
        "import torch.nn as nn\n",
        "from torch.nn import functional as F\n",
        "from torch.nn.utils.rnn import pack_padded_sequence, pad_packed_sequence\n",
        "import torch.optim as optim\n",
        "from torch.utils.data import Dataset, DataLoader\n",
        "\n",
        "from nltk.translate import bleu_score\n",
        "import seaborn as sns\n",
        "import matplotlib.pyplot as plt\n",
        "\n",
        "chencherry = bleu_score.SmoothingFunction()"
      ],
      "execution_count": null,
      "outputs": []
    },
    {
      "cell_type": "markdown",
      "metadata": {
        "id": "OyTmE7_a6MCz"
      },
      "source": [
        "# 2. Haga una carpeta en GDrive con los datos y su notebook en colab y echelo a andar solucionando cualquier problema de versiones y software. Se proporciona la liga a código del capitulo 8."
      ]
    },
    {
      "cell_type": "markdown",
      "metadata": {
        "id": "oQQ68Z6U6P1T"
      },
      "source": [
        "Liga de carpeta\n",
        "https://drive.google.com/drive/folders/13-bdNnONvHpfnKUw_4y5zZDKqm5vYibz?usp=sharing"
      ]
    },
    {
      "cell_type": "markdown",
      "metadata": {
        "id": "6vFSF0zB_Zyd"
      },
      "source": [
        "# Preprocesamiento"
      ]
    },
    {
      "cell_type": "code",
      "metadata": {
        "id": "W3Pg-9-kYGSq"
      },
      "source": [
        "class Vocabulary(object):\n",
        "    \"\"\"Class to process text and extract vocabulary for mapping\"\"\"\n",
        "\n",
        "    def __init__(self, token_to_idx=None):\n",
        "        \"\"\"\n",
        "        Args:\n",
        "            token_to_idx (dict): a pre-existing map of tokens to indices\n",
        "        \"\"\"\n",
        "\n",
        "        if token_to_idx is None:\n",
        "            token_to_idx = {}\n",
        "        self._token_to_idx = token_to_idx\n",
        "\n",
        "        self._idx_to_token = {idx: token \n",
        "                              for token, idx in self._token_to_idx.items()}\n",
        "        \n",
        "    def to_serializable(self):\n",
        "        \"\"\" returns a dictionary that can be serialized \"\"\"\n",
        "        return {'token_to_idx': self._token_to_idx}\n",
        "\n",
        "    @classmethod\n",
        "    def from_serializable(cls, contents):\n",
        "        \"\"\" instantiates the Vocabulary from a serialized dictionary \"\"\"\n",
        "        return cls(**contents)\n",
        "\n",
        "    def add_token(self, token):\n",
        "        \"\"\"Update mapping dicts based on the token.\n",
        "\n",
        "        Args:\n",
        "            token (str): the item to add into the Vocabulary\n",
        "        Returns:\n",
        "            index (int): the integer corresponding to the token\n",
        "        \"\"\"\n",
        "        if token in self._token_to_idx:\n",
        "            index = self._token_to_idx[token]\n",
        "        else:\n",
        "            index = len(self._token_to_idx)\n",
        "            self._token_to_idx[token] = index\n",
        "            self._idx_to_token[index] = token\n",
        "        return index\n",
        "            \n",
        "    def add_many(self, tokens):\n",
        "        \"\"\"Add a list of tokens into the Vocabulary\n",
        "        \n",
        "        Args:\n",
        "            tokens (list): a list of string tokens\n",
        "        Returns:\n",
        "            indices (list): a list of indices corresponding to the tokens\n",
        "        \"\"\"\n",
        "        return [self.add_token(token) for token in tokens]\n",
        "\n",
        "    def lookup_token(self, token):\n",
        "        \"\"\"Retrieve the index associated with the token \n",
        "        \n",
        "        Args:\n",
        "            token (str): the token to look up \n",
        "        Returns:\n",
        "            index (int): the index corresponding to the token\n",
        "        \"\"\"\n",
        "        return self._token_to_idx[token]\n",
        "\n",
        "    def lookup_index(self, index):\n",
        "        \"\"\"Return the token associated with the index\n",
        "        \n",
        "        Args: \n",
        "            index (int): the index to look up\n",
        "        Returns:\n",
        "            token (str): the token corresponding to the index\n",
        "        Raises:\n",
        "            KeyError: if the index is not in the Vocabulary\n",
        "        \"\"\"\n",
        "        if index not in self._idx_to_token:\n",
        "            raise KeyError(\"the index (%d) is not in the Vocabulary\" % index)\n",
        "        return self._idx_to_token[index]\n",
        "\n",
        "    def __str__(self):\n",
        "        return \"<Vocabulary(size=%d)>\" % len(self)\n",
        "\n",
        "    def __len__(self):\n",
        "        return len(self._token_to_idx)"
      ],
      "execution_count": null,
      "outputs": []
    },
    {
      "cell_type": "code",
      "metadata": {
        "id": "Kn-yB2-bYJ5t"
      },
      "source": [
        "class SequenceVocabulary(Vocabulary):\n",
        "    def __init__(self, token_to_idx=None, unk_token=\"<UNK>\",\n",
        "                 mask_token=\"<MASK>\", begin_seq_token=\"<BEGIN>\",\n",
        "                 end_seq_token=\"<END>\"):\n",
        "\n",
        "        super(SequenceVocabulary, self).__init__(token_to_idx)\n",
        "\n",
        "        self._mask_token = mask_token\n",
        "        self._unk_token = unk_token\n",
        "        self._begin_seq_token = begin_seq_token\n",
        "        self._end_seq_token = end_seq_token\n",
        "\n",
        "        self.mask_index = self.add_token(self._mask_token)\n",
        "        self.unk_index = self.add_token(self._unk_token)\n",
        "        self.begin_seq_index = self.add_token(self._begin_seq_token)\n",
        "        self.end_seq_index = self.add_token(self._end_seq_token)\n",
        "\n",
        "    def to_serializable(self):\n",
        "        contents = super(SequenceVocabulary, self).to_serializable()\n",
        "        contents.update({'unk_token': self._unk_token,\n",
        "                         'mask_token': self._mask_token,\n",
        "                         'begin_seq_token': self._begin_seq_token,\n",
        "                         'end_seq_token': self._end_seq_token})\n",
        "        return contents\n",
        "\n",
        "    def lookup_token(self, token):\n",
        "        \"\"\"Retrieve the index associated with the token \n",
        "          or the UNK index if token isn't present.\n",
        "        \n",
        "        Args:\n",
        "            token (str): the token to look up \n",
        "        Returns:\n",
        "            index (int): the index corresponding to the token\n",
        "        Notes:\n",
        "            `unk_index` needs to be >=0 (having been added into the Vocabulary) \n",
        "              for the UNK functionality \n",
        "        \"\"\"\n",
        "        if self.unk_index >= 0:\n",
        "            return self._token_to_idx.get(token, self.unk_index)\n",
        "        else:\n",
        "            return self._token_to_idx[token]"
      ],
      "execution_count": null,
      "outputs": []
    },
    {
      "cell_type": "markdown",
      "metadata": {
        "id": "Y-z0cas5YMTk"
      },
      "source": [
        "# Constructing the NMTVectorizer"
      ]
    },
    {
      "cell_type": "code",
      "metadata": {
        "id": "NvcuEAvKhEYJ"
      },
      "source": [
        "class NMTVectorizer(object):\n",
        "    \"\"\" The Vectorizer which coordinates the Vocabularies and puts them to use\"\"\"        \n",
        "    def __init__(self, source_vocab, target_vocab, max_source_length, max_target_length):\n",
        "        \"\"\"\n",
        "        Args:\n",
        "            source_vocab (SequenceVocabulary): maps source words to integers\n",
        "            target_vocab (SequenceVocabulary): maps target words to integers\n",
        "            max_source_length (int): the longest sequence in the source dataset\n",
        "            max_target_length (int): the longest sequence in the target dataset\n",
        "        \"\"\"\n",
        "        self.source_vocab = source_vocab\n",
        "        self.target_vocab = target_vocab\n",
        "        \n",
        "        self.max_source_length = max_source_length\n",
        "        self.max_target_length = max_target_length\n",
        "        \n",
        "\n",
        "    def _vectorize(self, indices, vector_length=-1, mask_index=0):\n",
        "        \"\"\"Vectorize the provided indices\n",
        "        \n",
        "        Args:\n",
        "            indices (list): a list of integers that represent a sequence\n",
        "            vector_length (int): an argument for forcing the length of index vector\n",
        "            mask_index (int): the mask_index to use; almost always 0\n",
        "        \"\"\"\n",
        "        if vector_length < 0:\n",
        "            vector_length = len(indices)\n",
        "        \n",
        "        vector = np.zeros(vector_length, dtype=np.int64)\n",
        "        vector[:len(indices)] = indices\n",
        "        vector[len(indices):] = mask_index\n",
        "\n",
        "        return vector\n",
        "    \n",
        "    def _get_source_indices(self, text):\n",
        "        \"\"\"Return the vectorized source text\n",
        "        \n",
        "        Args:\n",
        "            text (str): the source text; tokens should be separated by spaces\n",
        "        Returns:\n",
        "            indices (list): list of integers representing the text\n",
        "        \"\"\"\n",
        "        indices = [self.source_vocab.begin_seq_index]\n",
        "        indices.extend(self.source_vocab.lookup_token(token) for token in text.split(\" \"))\n",
        "        indices.append(self.source_vocab.end_seq_index)\n",
        "        return indices\n",
        "    \n",
        "    def _get_target_indices(self, text):\n",
        "        \"\"\"Return the vectorized source text\n",
        "        \n",
        "        Args:\n",
        "            text (str): the source text; tokens should be separated by spaces\n",
        "        Returns:\n",
        "            a tuple: (x_indices, y_indices)\n",
        "                x_indices (list): list of integers representing the observations in target decoder \n",
        "                y_indices (list): list of integers representing predictions in target decoder\n",
        "        \"\"\"\n",
        "        indices = [self.target_vocab.lookup_token(token) for token in text.split(\" \")]\n",
        "        x_indices = [self.target_vocab.begin_seq_index] + indices\n",
        "        y_indices = indices + [self.target_vocab.end_seq_index]\n",
        "        return x_indices, y_indices\n",
        "        \n",
        "    def vectorize(self, source_text, target_text, use_dataset_max_lengths=True):\n",
        "        \"\"\"Return the vectorized source and target text\n",
        "        \n",
        "        The vetorized source text is just the a single vector.\n",
        "        The vectorized target text is split into two vectors in a similar style to \n",
        "            the surname modeling in Chapter 7.\n",
        "        At each timestep, the first vector is the observation and the second vector is the target. \n",
        "        \n",
        "        \n",
        "        Args:\n",
        "            source_text (str): text from the source language\n",
        "            target_text (str): text from the target language\n",
        "            use_dataset_max_lengths (bool): whether to use the global max vector lengths\n",
        "        Returns:\n",
        "            The vectorized data point as a dictionary with the keys: \n",
        "                source_vector, target_x_vector, target_y_vector, source_length\n",
        "        \"\"\"\n",
        "        source_vector_length = -1\n",
        "        target_vector_length = -1\n",
        "        \n",
        "        if use_dataset_max_lengths:\n",
        "            source_vector_length = self.max_source_length + 2\n",
        "            target_vector_length = self.max_target_length + 1\n",
        "            \n",
        "        source_indices = self._get_source_indices(source_text)\n",
        "        source_vector = self._vectorize(source_indices, \n",
        "                                        vector_length=source_vector_length, \n",
        "                                        mask_index=self.source_vocab.mask_index)\n",
        "        \n",
        "        target_x_indices, target_y_indices = self._get_target_indices(target_text)\n",
        "        target_x_vector = self._vectorize(target_x_indices,\n",
        "                                        vector_length=target_vector_length,\n",
        "                                        mask_index=self.target_vocab.mask_index)\n",
        "        target_y_vector = self._vectorize(target_y_indices,\n",
        "                                        vector_length=target_vector_length,\n",
        "                                        mask_index=self.target_vocab.mask_index)\n",
        "        return {\"source_vector\": source_vector, \n",
        "                \"target_x_vector\": target_x_vector, \n",
        "                \"target_y_vector\": target_y_vector, \n",
        "                \"source_length\": len(source_indices)}\n",
        "        \n",
        "    @classmethod\n",
        "    def from_dataframe(cls, bitext_df):\n",
        "        \"\"\"Instantiate the vectorizer from the dataset dataframe\n",
        "        \n",
        "        Args:\n",
        "            bitext_df (pandas.DataFrame): the parallel text dataset\n",
        "        Returns:\n",
        "            an instance of the NMTVectorizer\n",
        "        \"\"\"\n",
        "        source_vocab = SequenceVocabulary()\n",
        "        target_vocab = SequenceVocabulary()\n",
        "        \n",
        "        max_source_length = 0\n",
        "        max_target_length = 0\n",
        "\n",
        "        for _, row in bitext_df.iterrows():\n",
        "            source_tokens = row[\"source_language\"].split(\" \")\n",
        "            if len(source_tokens) > max_source_length:\n",
        "                max_source_length = len(source_tokens)\n",
        "            for token in source_tokens:\n",
        "                source_vocab.add_token(token)\n",
        "            \n",
        "            target_tokens = row[\"target_language\"].split(\" \")\n",
        "            if len(target_tokens) > max_target_length:\n",
        "                max_target_length = len(target_tokens)\n",
        "            for token in target_tokens:\n",
        "                target_vocab.add_token(token)\n",
        "            \n",
        "        return cls(source_vocab, target_vocab, max_source_length, max_target_length)\n",
        "\n",
        "    @classmethod\n",
        "    def from_serializable(cls, contents):\n",
        "        source_vocab = SequenceVocabulary.from_serializable(contents[\"source_vocab\"])\n",
        "        target_vocab = SequenceVocabulary.from_serializable(contents[\"target_vocab\"])\n",
        "        \n",
        "        return cls(source_vocab=source_vocab, \n",
        "                   target_vocab=target_vocab, \n",
        "                   max_source_length=contents[\"max_source_length\"], \n",
        "                   max_target_length=contents[\"max_target_length\"])\n",
        "\n",
        "    def to_serializable(self):\n",
        "        return {\"source_vocab\": self.source_vocab.to_serializable(), \n",
        "                \"target_vocab\": self.target_vocab.to_serializable(), \n",
        "                \"max_source_length\": self.max_source_length,\n",
        "                \"max_target_length\": self.max_target_length}"
      ],
      "execution_count": null,
      "outputs": []
    },
    {
      "cell_type": "code",
      "metadata": {
        "id": "2iQOmCGuZcxL"
      },
      "source": [
        "class NMTDataset(Dataset):\n",
        "    def __init__(self, text_df, vectorizer):\n",
        "        \"\"\"\n",
        "        Args:\n",
        "            surname_df (pandas.DataFrame): the dataset\n",
        "            vectorizer (SurnameVectorizer): vectorizer instatiated from dataset\n",
        "        \"\"\"\n",
        "        self.text_df = text_df\n",
        "        self._vectorizer = vectorizer\n",
        "\n",
        "        self.train_df = self.text_df[self.text_df.split=='train']\n",
        "        self.train_size = len(self.train_df)\n",
        "\n",
        "        self.val_df = self.text_df[self.text_df.split=='val']\n",
        "        self.validation_size = len(self.val_df)\n",
        "\n",
        "        self.test_df = self.text_df[self.text_df.split=='test']\n",
        "        self.test_size = len(self.test_df)\n",
        "\n",
        "        self._lookup_dict = {'train': (self.train_df, self.train_size),\n",
        "                             'val': (self.val_df, self.validation_size),\n",
        "                             'test': (self.test_df, self.test_size)}\n",
        "\n",
        "        self.set_split('train')\n",
        "\n",
        "    @classmethod\n",
        "    def load_dataset_and_make_vectorizer(cls, dataset_csv):\n",
        "        \"\"\"Load dataset and make a new vectorizer from scratch\n",
        "        \n",
        "        Args:\n",
        "            surname_csv (str): location of the dataset\n",
        "        Returns:\n",
        "            an instance of SurnameDataset\n",
        "        \"\"\"\n",
        "        text_df = pd.read_csv(dataset_csv)\n",
        "        train_subset = text_df[text_df.split=='train']\n",
        "        return cls(text_df, NMTVectorizer.from_dataframe(train_subset))\n",
        "\n",
        "    @classmethod\n",
        "    def load_dataset_and_load_vectorizer(cls, dataset_csv, vectorizer_filepath):\n",
        "        \"\"\"Load dataset and the corresponding vectorizer. \n",
        "        Used in the case in the vectorizer has been cached for re-use\n",
        "        \n",
        "        Args:\n",
        "            surname_csv (str): location of the dataset\n",
        "            vectorizer_filepath (str): location of the saved vectorizer\n",
        "        Returns:\n",
        "            an instance of SurnameDataset\n",
        "        \"\"\"\n",
        "        text_df = pd.read_csv(dataset_csv)\n",
        "        vectorizer = cls.load_vectorizer_only(vectorizer_filepath)\n",
        "        return cls(text_df, vectorizer)\n",
        "\n",
        "    @staticmethod\n",
        "    def load_vectorizer_only(vectorizer_filepath):\n",
        "        \"\"\"a static method for loading the vectorizer from file\n",
        "        \n",
        "        Args:\n",
        "            vectorizer_filepath (str): the location of the serialized vectorizer\n",
        "        Returns:\n",
        "            an instance of SurnameVectorizer\n",
        "        \"\"\"\n",
        "        with open(vectorizer_filepath) as fp:\n",
        "            return NMTVectorizer.from_serializable(json.load(fp))\n",
        "\n",
        "    def save_vectorizer(self, vectorizer_filepath):\n",
        "        \"\"\"saves the vectorizer to disk using json\n",
        "        \n",
        "        Args:\n",
        "            vectorizer_filepath (str): the location to save the vectorizer\n",
        "        \"\"\"\n",
        "        with open(vectorizer_filepath, \"w\") as fp:\n",
        "            json.dump(self._vectorizer.to_serializable(), fp)\n",
        "\n",
        "    def get_vectorizer(self):\n",
        "        \"\"\" returns the vectorizer \"\"\"\n",
        "        return self._vectorizer\n",
        "\n",
        "    def set_split(self, split=\"train\"):\n",
        "        self._target_split = split\n",
        "        self._target_df, self._target_size = self._lookup_dict[split]\n",
        "\n",
        "    def __len__(self):\n",
        "        return self._target_size\n",
        "\n",
        "    def __getitem__(self, index):\n",
        "        \"\"\"the primary entry point method for PyTorch datasets\n",
        "        \n",
        "        Args:\n",
        "            index (int): the index to the data point \n",
        "        Returns:\n",
        "            a dictionary holding the data point: (x_data, y_target, class_index)\n",
        "        \"\"\"\n",
        "        row = self._target_df.iloc[index]\n",
        "\n",
        "        vector_dict = self._vectorizer.vectorize(row.source_language, row.target_language)\n",
        "\n",
        "        return {\"x_source\": vector_dict[\"source_vector\"], \n",
        "                \"x_target\": vector_dict[\"target_x_vector\"],\n",
        "                \"y_target\": vector_dict[\"target_y_vector\"], \n",
        "                \"x_source_length\": vector_dict[\"source_length\"]}\n",
        "        \n",
        "    def get_num_batches(self, batch_size):\n",
        "        \"\"\"Given a batch size, return the number of batches in the dataset\n",
        "        \n",
        "        Args:\n",
        "            batch_size (int)\n",
        "        Returns:\n",
        "            number of batches in the dataset\n",
        "        \"\"\"\n",
        "        return len(self) // batch_size\n",
        "\n",
        "def generate_nmt_batches(dataset, batch_size, shuffle=True, \n",
        "                            drop_last=True, device=\"cpu\"):\n",
        "    \"\"\"A generator function which wraps the PyTorch DataLoader.  The NMT Version \"\"\"\n",
        "    dataloader = DataLoader(dataset=dataset, batch_size=batch_size,\n",
        "                            shuffle=shuffle, drop_last=drop_last)\n",
        "\n",
        "    for data_dict in dataloader:\n",
        "        lengths = data_dict['x_source_length'].numpy()\n",
        "        sorted_length_indices = lengths.argsort()[::-1].tolist()\n",
        "        \n",
        "        out_data_dict = {}\n",
        "        for name, tensor in data_dict.items():\n",
        "            out_data_dict[name] = data_dict[name][sorted_length_indices].to(device)\n",
        "        yield out_data_dict"
      ],
      "execution_count": null,
      "outputs": []
    },
    {
      "cell_type": "markdown",
      "metadata": {
        "id": "lCzCtQgZZ_ew"
      },
      "source": [
        "# Encoding and Decoding in the NMT Model"
      ]
    },
    {
      "cell_type": "markdown",
      "metadata": {
        "id": "zSnlFDLjaDBz"
      },
      "source": [
        "The NMTModel encapsulates and coordinates the encoder and decoder in a single\n",
        "forward() method"
      ]
    },
    {
      "cell_type": "code",
      "metadata": {
        "id": "odfzhfbXaMTs"
      },
      "source": [
        "class NMTModel(nn.Module):\n",
        "    \"\"\" The Neural Machine Translation Model \"\"\"\n",
        "    def __init__(self, source_vocab_size, source_embedding_size, \n",
        "                 target_vocab_size, target_embedding_size, encoding_size, \n",
        "                 target_bos_index, attention = 'verbose-attention'):\n",
        "        \"\"\"\n",
        "        Args:\n",
        "            source_vocab_size (int): number of unique words in source language\n",
        "            source_embedding_size (int): size of the source embedding vectors\n",
        "            target_vocab_size (int): number of unique words in target language\n",
        "            target_embedding_size (int): size of the target embedding vectors\n",
        "            encoding_size (int): the size of the encoder RNN.  \n",
        "        \"\"\"\n",
        "        super(NMTModel, self).__init__()\n",
        "        self.encoder = NMTEncoder(num_embeddings=source_vocab_size, \n",
        "                                  embedding_size=source_embedding_size,\n",
        "                                  rnn_hidden_size=encoding_size)\n",
        "        decoding_size = encoding_size * 2\n",
        "        self.decoder = NMTDecoder(num_embeddings=target_vocab_size, \n",
        "                                  embedding_size=target_embedding_size, \n",
        "                                  rnn_hidden_size=decoding_size,\n",
        "                                  bos_index=target_bos_index, \n",
        "                                  attention = attention)\n",
        "    \n",
        "    def forward(self, x_source, x_source_lengths, target_sequence, sample_probability=0.0):\n",
        "        \"\"\"The forward pass of the model\n",
        "        \n",
        "        Args:\n",
        "            x_source (torch.Tensor): the source text data tensor. \n",
        "                x_source.shape should be (batch, vectorizer.max_source_length)\n",
        "            x_source_lengths torch.Tensor): the length of the sequences in x_source \n",
        "            target_sequence (torch.Tensor): the target text data tensor\n",
        "            sample_probability (float): the schedule sampling parameter\n",
        "                probabilty of using model's predictions at each decoder step\n",
        "        Returns:\n",
        "            decoded_states (torch.Tensor): prediction vectors at each output step\n",
        "        \"\"\"\n",
        "        encoder_state, final_hidden_states = self.encoder(x_source, x_source_lengths)\n",
        "        decoded_states = self.decoder(encoder_state=encoder_state, \n",
        "                                      initial_hidden_state=final_hidden_states, \n",
        "                                      target_sequence=target_sequence, \n",
        "                                      sample_probability=sample_probability)\n",
        "        return decoded_states"
      ],
      "execution_count": null,
      "outputs": []
    },
    {
      "cell_type": "markdown",
      "metadata": {
        "id": "aawlL2RJaMEA"
      },
      "source": [
        "The encoder embeds the source words and extracts features with a bi­GRU"
      ]
    },
    {
      "cell_type": "code",
      "metadata": {
        "id": "WqeBFaKjZiDa"
      },
      "source": [
        "class NMTEncoder(nn.Module):\n",
        "    def __init__(self, num_embeddings, embedding_size, rnn_hidden_size):\n",
        "        \"\"\"\n",
        "        Args:\n",
        "            num_embeddings (int): number of embeddings is the size of source vocabulary\n",
        "            embedding_size (int): size of the embedding vectors\n",
        "            rnn_hidden_size (int): size of the RNN hidden state vectors \n",
        "        \"\"\"\n",
        "        super(NMTEncoder, self).__init__()\n",
        "    \n",
        "        self.source_embedding = nn.Embedding(num_embeddings, embedding_size, padding_idx=0)\n",
        "        self.birnn = nn.GRU(embedding_size, rnn_hidden_size, bidirectional=True, batch_first=True)\n",
        "    \n",
        "    def forward(self, x_source, x_lengths):\n",
        "        \"\"\"The forward pass of the model\n",
        "        \n",
        "        Args:\n",
        "            x_source (torch.Tensor): the input data tensor.\n",
        "                x_source.shape is (batch, seq_size)\n",
        "            x_lengths (torch.Tensor): a vector of lengths for each item in the batch\n",
        "        Returns:\n",
        "            a tuple: x_unpacked (torch.Tensor), x_birnn_h (torch.Tensor)\n",
        "                x_unpacked.shape = (batch, seq_size, rnn_hidden_size * 2)\n",
        "                x_birnn_h.shape = (batch, rnn_hidden_size * 2)\n",
        "        \"\"\"\n",
        "        x_embedded = self.source_embedding(x_source)\n",
        "        # create PackedSequence; x_packed.data.shape=(number_items, embeddign_size)\n",
        "        x_packed = pack_padded_sequence(x_embedded, x_lengths.detach().cpu().numpy(), \n",
        "                                        batch_first=True)\n",
        "        \n",
        "        # x_birnn_h.shape = (num_rnn, batch_size, feature_size)\n",
        "        x_birnn_out, x_birnn_h  = self.birnn(x_packed)\n",
        "        # permute to (batch_size, num_rnn, feature_size)\n",
        "        x_birnn_h = x_birnn_h.permute(1, 0, 2)\n",
        "        \n",
        "        # flatten features; reshape to (batch_size, num_rnn * feature_size)\n",
        "        #  (recall: -1 takes the remaining positions, \n",
        "        #           flattening the two RNN hidden vectors into 1)\n",
        "        x_birnn_h = x_birnn_h.contiguous().view(x_birnn_h.size(0), -1)\n",
        "        \n",
        "        x_unpacked, _ = pad_packed_sequence(x_birnn_out, batch_first=True)\n",
        "        \n",
        "        return x_unpacked, x_birnn_h"
      ],
      "execution_count": null,
      "outputs": []
    },
    {
      "cell_type": "markdown",
      "metadata": {
        "id": "o4B4jqo8a-8M"
      },
      "source": [
        "# The NMTDecoder constructs a target sentence from the encoded source sentence"
      ]
    },
    {
      "cell_type": "code",
      "metadata": {
        "id": "7AcjUBtgaeW2"
      },
      "source": [
        "class NMTDecoder(nn.Module):\n",
        "    def __init__(self, num_embeddings, embedding_size, rnn_hidden_size, bos_index, attention = 'verbose_attention'):\n",
        "        \"\"\"\n",
        "        Args:\n",
        "            num_embeddings (int): number of embeddings is also the number of \n",
        "                unique words in target vocabulary \n",
        "            embedding_size (int): the embedding vector size\n",
        "            rnn_hidden_size (int): size of the hidden rnn state\n",
        "            bos_index(int): begin-of-sequence index\n",
        "        \"\"\"\n",
        "        super(NMTDecoder, self).__init__()\n",
        "        self._rnn_hidden_size = rnn_hidden_size\n",
        "        self.target_embedding = nn.Embedding(num_embeddings=num_embeddings, \n",
        "                                             embedding_dim=embedding_size, \n",
        "                                             padding_idx=0)\n",
        "        self.gru_cell = nn.GRUCell(embedding_size + rnn_hidden_size, \n",
        "                                   rnn_hidden_size)\n",
        "        self.hidden_map = nn.Linear(rnn_hidden_size, rnn_hidden_size)\n",
        "        self.classifier = nn.Linear(rnn_hidden_size * 2, num_embeddings)\n",
        "        self.bos_index = bos_index\n",
        "        self._sampling_temperature = 3\n",
        "        \n",
        "        self.attention = attention\n",
        "    \n",
        "    def _init_indices(self, batch_size):\n",
        "        \"\"\" return the BEGIN-OF-SEQUENCE index vector \"\"\"\n",
        "        return torch.ones(batch_size, dtype=torch.int64) * self.bos_index\n",
        "    \n",
        "    def _init_context_vectors(self, batch_size):\n",
        "        \"\"\" return a zeros vector for initializing the context \"\"\"\n",
        "        return torch.zeros(batch_size, self._rnn_hidden_size)\n",
        "            \n",
        "    def forward(self, encoder_state, initial_hidden_state, target_sequence, sample_probability=0.0):\n",
        "        \"\"\"The forward pass of the model\n",
        "        \n",
        "        Args:\n",
        "            encoder_state (torch.Tensor): the output of the NMTEncoder\n",
        "            initial_hidden_state (torch.Tensor): The last hidden state in the  NMTEncoder\n",
        "            target_sequence (torch.Tensor): the target text data tensor\n",
        "            sample_probability (float): the schedule sampling parameter\n",
        "                probabilty of using model's predictions at each decoder step\n",
        "        Returns:\n",
        "            output_vectors (torch.Tensor): prediction vectors at each output step\n",
        "        \"\"\"\n",
        "        if target_sequence is None:\n",
        "            sample_probability = 1.0\n",
        "        else:\n",
        "            # We are making an assumption there: The batch is on first\n",
        "            # The input is (Batch, Seq)\n",
        "            # We want to iterate over sequence so we permute it to (S, B)\n",
        "            target_sequence = target_sequence.permute(1, 0)\n",
        "            output_sequence_size = target_sequence.size(0)\n",
        "        \n",
        "        # use the provided encoder hidden state as the initial hidden state\n",
        "        h_t = self.hidden_map(initial_hidden_state)\n",
        "        \n",
        "        batch_size = encoder_state.size(0)\n",
        "        # initialize context vectors to zeros\n",
        "        context_vectors = self._init_context_vectors(batch_size)\n",
        "        # initialize first y_t word as BOS\n",
        "        y_t_index = self._init_indices(batch_size)\n",
        "        \n",
        "        h_t = h_t.to(encoder_state.device)\n",
        "        y_t_index = y_t_index.to(encoder_state.device)\n",
        "        context_vectors = context_vectors.to(encoder_state.device)\n",
        "\n",
        "        output_vectors = []\n",
        "        self._cached_p_attn = []\n",
        "        self._cached_ht = []\n",
        "        self._cached_decoder_state = encoder_state.cpu().detach().numpy()\n",
        "        \n",
        "        for i in range(output_sequence_size):\n",
        "            # Schedule sampling is whe\n",
        "            use_sample = np.random.random() < sample_probability\n",
        "            if not use_sample:\n",
        "                y_t_index = target_sequence[i]\n",
        "                \n",
        "            # Step 1: Embed word and concat with previous context\n",
        "            y_input_vector = self.target_embedding(y_t_index)\n",
        "            rnn_input = torch.cat([y_input_vector, context_vectors], dim=1)\n",
        "            \n",
        "            # Step 2: Make a GRU step, getting a new hidden vector\n",
        "            h_t = self.gru_cell(rnn_input, h_t)\n",
        "            self._cached_ht.append(h_t.cpu().detach().numpy())\n",
        "            \n",
        "            # Step 3: Use the current hidden to attend to the encoder state\n",
        "            if self.attention == 'verbose-attention' :\n",
        "              context_vectors, p_attn, _ = verbose_attention(encoder_state_vectors = encoder_state, \n",
        "                                                             query_vector = h_t)\n",
        "            elif self.attention == 'soft-attention' :\n",
        "              context_vectors, p_attn, _ = soft_attention(encoder_state_vectors = encoder_state, \n",
        "                                                          query_vector = h_t)\n",
        "            elif self.attention == 'hard-attention' :\n",
        "              context_vectors, p_attn, _ = hard_attention(encoder_state_vectors = encoder_state, \n",
        "                                                          query_vector = h_t)\n",
        "            \n",
        "            # auxillary: cache the attention probabilities for visualization\n",
        "            self._cached_p_attn.append(p_attn.cpu().detach().numpy())\n",
        "            \n",
        "            # Step 4: Use the current hidden and context vectors to make a prediction to the next word\n",
        "            prediction_vector = torch.cat((context_vectors, h_t), dim=1)\n",
        "            score_for_y_t_index = self.classifier(F.dropout(prediction_vector, 0.3))\n",
        "            \n",
        "            if use_sample:\n",
        "                p_y_t_index = F.softmax(score_for_y_t_index * self._sampling_temperature, dim=1)\n",
        "                # _, y_t_index = torch.max(p_y_t_index, 1)\n",
        "                y_t_index = torch.multinomial(p_y_t_index, 1).squeeze()\n",
        "            \n",
        "            # auxillary: collect the prediction scores\n",
        "            output_vectors.append(score_for_y_t_index)\n",
        "            \n",
        "        output_vectors = torch.stack(output_vectors).permute(1, 0, 2)\n",
        "        \n",
        "        return output_vectors"
      ],
      "execution_count": null,
      "outputs": []
    },
    {
      "cell_type": "markdown",
      "metadata": {
        "id": "knPC4As0bdOO"
      },
      "source": [
        "# Attention mechanism that does element­wise multiplication and summing more explicitly"
      ]
    },
    {
      "cell_type": "code",
      "metadata": {
        "id": "lQF9UIfwbGCz"
      },
      "source": [
        "def verbose_attention(encoder_state_vectors, query_vector):\n",
        "    \"\"\"A descriptive version of the neural attention mechanism \n",
        "    \n",
        "    Args:\n",
        "        encoder_state_vectors (torch.Tensor): 3dim tensor from bi-GRU in encoder\n",
        "        query_vector (torch.Tensor): hidden state in decoder GRU\n",
        "    Returns:\n",
        "        \n",
        "    \"\"\"\n",
        "    batch_size, num_vectors, vector_size = encoder_state_vectors.size()\n",
        "    vector_scores = torch.sum(encoder_state_vectors * query_vector.view(batch_size, 1, vector_size), \n",
        "                              dim=2)\n",
        "    vector_probabilities = F.softmax(vector_scores, dim = 1)\n",
        "    weighted_vectors = encoder_state_vectors * vector_probabilities.view(batch_size, num_vectors, 1)\n",
        "    context_vectors = torch.sum(weighted_vectors, dim=1)\n",
        "    return context_vectors, vector_probabilities, vector_scores\n",
        "\n",
        "def terse_attention(encoder_state_vectors, query_vector):\n",
        "    \"\"\"A shorter and more optimized version of the neural attention mechanism\n",
        "    \n",
        "    Args:\n",
        "        encoder_state_vectors (torch.Tensor): 3dim tensor from bi-GRU in encoder\n",
        "        query_vector (torch.Tensor): hidden state\n",
        "    \"\"\"\n",
        "    vector_scores = torch.matmul(encoder_state_vectors, query_vector.unsqueeze(dim=2)).squeeze()\n",
        "    vector_probabilities = F.softmax(vector_scores, dim=-1)\n",
        "    context_vectors = torch.matmul(encoder_state_vectors.transpose(-2, -1), \n",
        "                                   vector_probabilities.unsqueeze(dim=2)).squeeze()\n",
        "    return context_vectors, vector_probabilities"
      ],
      "execution_count": null,
      "outputs": []
    },
    {
      "cell_type": "code",
      "metadata": {
        "id": "hejETmHhZnxq"
      },
      "source": [
        "def set_seed_everywhere(seed, cuda):\n",
        "    np.random.seed(seed)\n",
        "    torch.manual_seed(seed)\n",
        "    if cuda:\n",
        "        torch.cuda.manual_seed_all(seed)\n",
        "\n",
        "def handle_dirs(dirpath):\n",
        "    if not os.path.exists(dirpath):\n",
        "        os.makedirs(dirpath)\n",
        "\n",
        "def make_train_state(args):\n",
        "    return {'stop_early': False,\n",
        "            'early_stopping_step': 0,\n",
        "            'early_stopping_best_val': 1e8,\n",
        "            'learning_rate': args.learning_rate,\n",
        "            'epoch_index': 0,\n",
        "            'train_loss': [],\n",
        "            'train_acc': [],\n",
        "            'val_loss': [],\n",
        "            'val_acc': [],\n",
        "            'test_loss': -1,\n",
        "            'test_acc': -1,\n",
        "            'model_filename': args.model_state_file}\n",
        "\n",
        "def update_train_state(args, model, train_state):\n",
        "    \"\"\"Handle the training state updates.\n",
        "    Components:\n",
        "     - Early Stopping: Prevent overfitting.\n",
        "     - Model Checkpoint: Model is saved if the model is better\n",
        "    \n",
        "    :param args: main arguments\n",
        "    :param model: model to train\n",
        "    :param train_state: a dictionary representing the training state values\n",
        "    :returns:\n",
        "        a new train_state\n",
        "    \"\"\"\n",
        "\n",
        "    # Save one model at least\n",
        "    if train_state['epoch_index'] == 0:\n",
        "        torch.save(model.state_dict(), train_state['model_filename'])\n",
        "        train_state['stop_early'] = False\n",
        "\n",
        "    # Save model if performance improved\n",
        "    elif train_state['epoch_index'] >= 1:\n",
        "        loss_tm1, loss_t = train_state['val_loss'][-2:]\n",
        "         \n",
        "        # If loss worsened\n",
        "        if loss_t >= loss_tm1:\n",
        "            # Update step\n",
        "            train_state['early_stopping_step'] += 1\n",
        "        # Loss decreased\n",
        "        else:\n",
        "            # Save the best model\n",
        "            if loss_t < train_state['early_stopping_best_val']:\n",
        "                torch.save(model.state_dict(), train_state['model_filename'])\n",
        "                train_state['early_stopping_best_val'] = loss_t\n",
        "\n",
        "            # Reset early stopping step\n",
        "            train_state['early_stopping_step'] = 0\n",
        "\n",
        "        # Stop early ?\n",
        "        train_state['stop_early'] = \\\n",
        "            train_state['early_stopping_step'] >= args.early_stopping_criteria\n",
        "\n",
        "    return train_state\n",
        "\n",
        "def normalize_sizes(y_pred, y_true):\n",
        "    \"\"\"Normalize tensor sizes\n",
        "    \n",
        "    Args:\n",
        "        y_pred (torch.Tensor): the output of the model\n",
        "            If a 3-dimensional tensor, reshapes to a matrix\n",
        "        y_true (torch.Tensor): the target predictions\n",
        "            If a matrix, reshapes to be a vector\n",
        "    \"\"\"\n",
        "    if len(y_pred.size()) == 3:\n",
        "        y_pred = y_pred.contiguous().view(-1, y_pred.size(2))\n",
        "    if len(y_true.size()) == 2:\n",
        "        y_true = y_true.contiguous().view(-1)\n",
        "    return y_pred, y_true\n",
        "\n",
        "def compute_accuracy(y_pred, y_true, mask_index):\n",
        "    y_pred, y_true = normalize_sizes(y_pred, y_true)\n",
        "\n",
        "    _, y_pred_indices = y_pred.max(dim=1)\n",
        "    \n",
        "    correct_indices = torch.eq(y_pred_indices, y_true).float()\n",
        "    valid_indices = torch.ne(y_true, mask_index).float()\n",
        "    \n",
        "    n_correct = (correct_indices * valid_indices).sum().item()\n",
        "    n_valid = valid_indices.sum().item()\n",
        "\n",
        "    return n_correct / n_valid * 100\n",
        "\n",
        "def sequence_loss(y_pred, y_true, mask_index):\n",
        "    y_pred, y_true = normalize_sizes(y_pred, y_true)\n",
        "    return F.cross_entropy(y_pred, y_true, ignore_index=mask_index)"
      ],
      "execution_count": null,
      "outputs": []
    },
    {
      "cell_type": "code",
      "metadata": {
        "colab": {
          "base_uri": "https://localhost:8080/"
        },
        "id": "9kjscmD-Zq0U",
        "outputId": "7e25bb31-7520-4e6d-c7aa-209387c35f03"
      },
      "source": [
        "args = Namespace(dataset_csv      = \"/content/drive/MyDrive/CIMAT/Segundo_Semestre/Lenguaje Natural/T07/data/nmt/simplest_eng_fra.csv\",\n",
        "                 vectorizer_file  = \"/content/drive/MyDrive/CIMAT/Segundo_Semestre/Lenguaje Natural/T07/vectorizer.json\",\n",
        "                 model_state_file = \"model.pth\",\n",
        "                 save_dir         = \"/content/drive/MyDrive/CIMAT/Segundo_Semestre/Lenguaje Natural/T07/model_storage/\",\n",
        "                 reload_from_files=False,\n",
        "                 expand_filepaths_to_save_dir=True,\n",
        "                 cuda=True,\n",
        "                 seed=1337,\n",
        "                 learning_rate=5e-4,\n",
        "                 batch_size=32,\n",
        "                 num_epochs=50,\n",
        "                 early_stopping_criteria=5,              \n",
        "                 source_embedding_size=24, \n",
        "                 target_embedding_size=24,\n",
        "                 encoding_size=32,\n",
        "                 catch_keyboard_interrupt=True)\n",
        "\n",
        "if args.expand_filepaths_to_save_dir:\n",
        "    args.vectorizer_file = os.path.join(args.save_dir,\n",
        "                                        args.vectorizer_file)\n",
        "\n",
        "    args.model_state_file = os.path.join(args.save_dir,\n",
        "                                         args.model_state_file)\n",
        "    \n",
        "    print(\"Expanded filepaths: \")\n",
        "    print(\"\\t{}\".format(args.vectorizer_file))\n",
        "    print(\"\\t{}\".format(args.model_state_file))\n",
        "    \n",
        "# Check CUDA\n",
        "if not torch.cuda.is_available():\n",
        "    args.cuda = False\n",
        "\n",
        "args.device = torch.device(\"cuda\" if args.cuda else \"cpu\")\n",
        "    \n",
        "print(\"Using CUDA: {}\".format(args.cuda))\n",
        "\n",
        "# Set seed for reproducibility\n",
        "set_seed_everywhere(args.seed, args.cuda)\n"
      ],
      "execution_count": null,
      "outputs": [
        {
          "output_type": "stream",
          "text": [
            "Expanded filepaths: \n",
            "\t/content/drive/MyDrive/CIMAT/Segundo_Semestre/Lenguaje Natural/T07/vectorizer.json\n",
            "\t/content/drive/MyDrive/CIMAT/Segundo_Semestre/Lenguaje Natural/T07/model_storage/model.pth\n",
            "Using CUDA: True\n"
          ],
          "name": "stdout"
        }
      ]
    },
    {
      "cell_type": "code",
      "metadata": {
        "id": "hmwKR6xoZvPD"
      },
      "source": [
        "if args.reload_from_files and os.path.exists(args.vectorizer_file):\n",
        "    # training from a checkpoint\n",
        "    dataset = NMTDataset.load_dataset_and_load_vectorizer(args.dataset_csv,\n",
        "                                                          args.vectorizer_file)\n",
        "else:\n",
        "    # create dataset and vectorizer\n",
        "    dataset = NMTDataset.load_dataset_and_make_vectorizer(args.dataset_csv)\n",
        "    dataset.save_vectorizer(args.vectorizer_file)\n",
        "\n",
        "vectorizer = dataset.get_vectorizer()"
      ],
      "execution_count": null,
      "outputs": []
    },
    {
      "cell_type": "code",
      "metadata": {
        "colab": {
          "base_uri": "https://localhost:8080/"
        },
        "id": "ZKEryn4BcP2h",
        "outputId": "b22ecca5-15f2-4a8b-d5bd-f07300fa9188"
      },
      "source": [
        "model = NMTModel(source_vocab_size     = len(vectorizer.source_vocab), \n",
        "                 source_embedding_size = args.source_embedding_size, \n",
        "                 target_vocab_size     = len(vectorizer.target_vocab),\n",
        "                 target_embedding_size = args.target_embedding_size, \n",
        "                 encoding_size         = args.encoding_size,\n",
        "                 target_bos_index      = vectorizer.target_vocab.begin_seq_index, \n",
        "                 attention = 'verbose-attention')\n",
        "\n",
        "if args.reload_from_files and os.path.exists(args.model_state_file):\n",
        "    model.load_state_dict(torch.load(args.model_state_file))\n",
        "    print(\"Reloaded model\")\n",
        "else:\n",
        "    print(\"New model\")"
      ],
      "execution_count": null,
      "outputs": [
        {
          "output_type": "stream",
          "text": [
            "New model\n"
          ],
          "name": "stdout"
        }
      ]
    },
    {
      "cell_type": "code",
      "metadata": {
        "colab": {
          "base_uri": "https://localhost:8080/",
          "height": 113,
          "referenced_widgets": [
            "4aad728f38af4bb3b8c74dcef7e9f1f9",
            "b217204afd284155b17b9d14adb86cf9",
            "c2d85162bcf047fa8217425d70024b2c",
            "393bec1e3db64e1590b2fbad2e6ea752",
            "3cf8048bfcc34bbea861840c60816bdd",
            "2162328094bf401e872923b7ba7c01e2",
            "f55639372381437e83b0f5fa083f9e5a",
            "adeafc5b25c34a878a551a669450258a",
            "f5da37099e43418db09f51fd3d5df4df",
            "c07f5e206510459c80fd2ed117ffcaac",
            "9de70f9dda46474db89642e7bcc6adf4",
            "7b14a9bc5be64fcb96df01820da83202",
            "a4ad0322c98541f0865bc4738ea9e771",
            "0037d8202324441e94b305c48f181ce9",
            "e4e2299173694426ad9e095fe19e85ab",
            "674e2a1a3bef43e6baf86b71646e2269",
            "906f1d35a0fa4a718f15f796fd0a9397",
            "50d934d461e94c40b33769b30adfa1ef",
            "55e4aa37861144ecb14f1794520bd2e9",
            "3ba05c432032402cabe2d5c5f4d53d4f",
            "c445678494644d4abac665e861b2aac8",
            "1b222401c94643618eec1389aeba5983",
            "20868e213e184939804ae3a126790dc8",
            "b85ba7e77fff4d188b1df24055a747cb"
          ]
        },
        "id": "CIkCEazyfvr0",
        "outputId": "92815b2f-7c50-454d-eb9c-e6984be1ef26"
      },
      "source": [
        "model = model.to(args.device)\n",
        "\n",
        "optimizer = optim.Adam(model.parameters(), lr = args.learning_rate)\n",
        "scheduler = optim.lr_scheduler.ReduceLROnPlateau(optimizer = optimizer,\n",
        "                                           mode = 'min', factor = 0.5,\n",
        "                                           patience=1)\n",
        "mask_index = vectorizer.target_vocab.mask_index\n",
        "train_state = make_train_state(args)\n",
        "\n",
        "epoch_bar = tqdm.notebook.tqdm(desc = 'training routine', \n",
        "                          total = args.num_epochs,\n",
        "                          position = 0)\n",
        "\n",
        "dataset.set_split('train')\n",
        "train_bar = tqdm.notebook.tqdm(desc='split=train',\n",
        "                          total = dataset.get_num_batches(args.batch_size), \n",
        "                          position = 1, \n",
        "                          leave = True)\n",
        "dataset.set_split('val')\n",
        "val_bar = tqdm.notebook.tqdm(desc = 'split=val',\n",
        "                        total = dataset.get_num_batches(args.batch_size), \n",
        "                        position=1, \n",
        "                        leave=True)\n",
        "\n",
        "try:\n",
        "    for epoch_index in range(args.num_epochs):\n",
        "        sample_probability = (20 + epoch_index) / args.num_epochs\n",
        "        \n",
        "        train_state['epoch_index'] = epoch_index\n",
        "\n",
        "        # Iterate over training dataset\n",
        "\n",
        "        # setup: batch generator, set loss and acc to 0, set train mode on\n",
        "        dataset.set_split('train')\n",
        "        batch_generator = generate_nmt_batches(dataset, \n",
        "                                               batch_size=args.batch_size, \n",
        "                                               device=args.device)\n",
        "        running_loss = 0.0\n",
        "        running_acc = 0.0\n",
        "        model.train()\n",
        "        \n",
        "        for batch_index, batch_dict in enumerate(batch_generator):\n",
        "            # the training routine is these 5 steps:\n",
        "\n",
        "            # --------------------------------------    \n",
        "            # step 1. zero the gradients\n",
        "            optimizer.zero_grad()\n",
        "\n",
        "            # step 2. compute the output\n",
        "            y_pred = model(batch_dict['x_source'], \n",
        "                           batch_dict['x_source_length'], \n",
        "                           batch_dict['x_target'],\n",
        "                           sample_probability=sample_probability)\n",
        "\n",
        "            # step 3. compute the loss\n",
        "            loss = sequence_loss(y_pred, batch_dict['y_target'], mask_index)\n",
        "\n",
        "            # step 4. use loss to produce gradients\n",
        "            loss.backward()\n",
        "\n",
        "            # step 5. use optimizer to take gradient step\n",
        "            optimizer.step()\n",
        "\n",
        "            # -----------------------------------------\n",
        "            # compute the running loss and running accuracy\n",
        "            running_loss += (loss.item() - running_loss) / (batch_index + 1)\n",
        "\n",
        "            acc_t = compute_accuracy(y_pred, batch_dict['y_target'], mask_index)\n",
        "            running_acc += (acc_t - running_acc) / (batch_index + 1)\n",
        "\n",
        "            # update bar\n",
        "            train_bar.set_postfix(loss=running_loss, acc=running_acc, \n",
        "                                  epoch=epoch_index)\n",
        "            train_bar.update()\n",
        "\n",
        "        train_state['train_loss'].append(running_loss)\n",
        "        train_state['train_acc'].append(running_acc)\n",
        "\n",
        "        # Iterate over val dataset\n",
        "\n",
        "        # setup: batch generator, set loss and acc to 0; set eval mode on\n",
        "        dataset.set_split('val')\n",
        "        batch_generator = generate_nmt_batches(dataset, \n",
        "                                               batch_size=args.batch_size, \n",
        "                                               device=args.device)\n",
        "        running_loss = 0.\n",
        "        running_acc = 0.\n",
        "        model.eval()\n",
        "\n",
        "        for batch_index, batch_dict in enumerate(batch_generator):\n",
        "            # compute the output\n",
        "            y_pred = model(batch_dict['x_source'], \n",
        "                           batch_dict['x_source_length'], \n",
        "                           batch_dict['x_target'],\n",
        "                           sample_probability=sample_probability)\n",
        "\n",
        "            # step 3. compute the loss\n",
        "            loss = sequence_loss(y_pred, batch_dict['y_target'], mask_index)\n",
        "\n",
        "            # compute the running loss and accuracy\n",
        "            running_loss += (loss.item() - running_loss) / (batch_index + 1)\n",
        "            \n",
        "            acc_t = compute_accuracy(y_pred, batch_dict['y_target'], mask_index)\n",
        "            running_acc += (acc_t - running_acc) / (batch_index + 1)\n",
        "            \n",
        "            # Update bar\n",
        "            val_bar.set_postfix(loss=running_loss, acc=running_acc, \n",
        "                            epoch=epoch_index)\n",
        "            val_bar.update()\n",
        "\n",
        "        train_state['val_loss'].append(running_loss)\n",
        "        train_state['val_acc'].append(running_acc)\n",
        "\n",
        "        train_state = update_train_state(args=args, model=model, \n",
        "                                         train_state=train_state)\n",
        "\n",
        "        scheduler.step(train_state['val_loss'][-1])\n",
        "\n",
        "        if train_state['stop_early']:\n",
        "            break\n",
        "        \n",
        "        train_bar.n = 0\n",
        "        val_bar.n = 0\n",
        "        epoch_bar.set_postfix(best_val=train_state['early_stopping_best_val'])\n",
        "        epoch_bar.update()\n",
        "        \n",
        "except KeyboardInterrupt:\n",
        "    print(\"Exiting loop\")"
      ],
      "execution_count": null,
      "outputs": [
        {
          "output_type": "display_data",
          "data": {
            "application/vnd.jupyter.widget-view+json": {
              "model_id": "4aad728f38af4bb3b8c74dcef7e9f1f9",
              "version_minor": 0,
              "version_major": 2
            },
            "text/plain": [
              "HBox(children=(FloatProgress(value=0.0, description='training routine', style=ProgressStyle(description_width=…"
            ]
          },
          "metadata": {
            "tags": []
          }
        },
        {
          "output_type": "display_data",
          "data": {
            "application/vnd.jupyter.widget-view+json": {
              "model_id": "f5da37099e43418db09f51fd3d5df4df",
              "version_minor": 0,
              "version_major": 2
            },
            "text/plain": [
              "HBox(children=(FloatProgress(value=0.0, description='split=train', max=285.0, style=ProgressStyle(description_…"
            ]
          },
          "metadata": {
            "tags": []
          }
        },
        {
          "output_type": "display_data",
          "data": {
            "application/vnd.jupyter.widget-view+json": {
              "model_id": "906f1d35a0fa4a718f15f796fd0a9397",
              "version_minor": 0,
              "version_major": 2
            },
            "text/plain": [
              "HBox(children=(FloatProgress(value=0.0, description='split=val', max=61.0, style=ProgressStyle(description_wid…"
            ]
          },
          "metadata": {
            "tags": []
          }
        }
      ]
    },
    {
      "cell_type": "code",
      "metadata": {
        "id": "u2FSJx_xgKrt"
      },
      "source": [
        "def sentence_from_indices(indices, vocab, strict=True, return_string=True):\n",
        "    ignore_indices = set([vocab.mask_index, vocab.begin_seq_index, vocab.end_seq_index])\n",
        "    out = []\n",
        "    for index in indices:\n",
        "        if index == vocab.begin_seq_index and strict:\n",
        "            continue\n",
        "        elif index == vocab.end_seq_index and strict:\n",
        "            break\n",
        "        else:\n",
        "            out.append(vocab.lookup_index(index))\n",
        "    if return_string:\n",
        "        return \" \".join(out)\n",
        "    else:\n",
        "        return out\n",
        "    \n",
        "class NMTSampler:\n",
        "    def __init__(self, vectorizer, model):\n",
        "        self.vectorizer = vectorizer\n",
        "        self.model = model\n",
        "    \n",
        "    def apply_to_batch(self, batch_dict):\n",
        "        self._last_batch = batch_dict\n",
        "        y_pred = self.model(x_source=batch_dict['x_source'], \n",
        "                            x_source_lengths=batch_dict['x_source_length'], \n",
        "                            target_sequence=batch_dict['x_target'])\n",
        "        self._last_batch['y_pred'] = y_pred\n",
        "        \n",
        "        attention_batched = np.stack(self.model.decoder._cached_p_attn).transpose(1, 0, 2)\n",
        "        self._last_batch['attention'] = attention_batched\n",
        "        \n",
        "    def _get_source_sentence(self, index, return_string=True):\n",
        "        indices = self._last_batch['x_source'][index].cpu().detach().numpy()\n",
        "        vocab = self.vectorizer.source_vocab\n",
        "        return sentence_from_indices(indices, vocab, return_string=return_string)\n",
        "\n",
        "    def _get_reference_sentence(self, index, return_string=True):\n",
        "        indices = self._last_batch['y_target'][index].cpu().detach().numpy()\n",
        "        vocab = self.vectorizer.target_vocab\n",
        "        return sentence_from_indices(indices, vocab, return_string=return_string)\n",
        "    \n",
        "    def _get_sampled_sentence(self, index, return_string=True):\n",
        "        _, all_indices = torch.max(self._last_batch['y_pred'], dim=2)\n",
        "        sentence_indices = all_indices[index].cpu().detach().numpy()\n",
        "        vocab = self.vectorizer.target_vocab\n",
        "        return sentence_from_indices(sentence_indices, vocab, return_string=return_string)\n",
        "\n",
        "    def get_ith_item(self, index, return_string=True):\n",
        "        output = {\"source\": self._get_source_sentence(index, return_string=return_string), \n",
        "                  \"reference\": self._get_reference_sentence(index, return_string=return_string), \n",
        "                  \"sampled\": self._get_sampled_sentence(index, return_string=return_string),\n",
        "                  \"attention\": self._last_batch['attention'][index]}\n",
        "        \n",
        "        reference = output['reference']\n",
        "        hypothesis = output['sampled']\n",
        "        \n",
        "        if not return_string:\n",
        "            reference = \" \".join(reference)\n",
        "            hypothesis = \" \".join(hypothesis)\n",
        "        \n",
        "        output['bleu-4'] = bleu_score.sentence_bleu(references=[reference],\n",
        "                                                    hypothesis=hypothesis,\n",
        "                                                    smoothing_function=chencherry.method1)\n",
        "        \n",
        "        return output"
      ],
      "execution_count": null,
      "outputs": []
    },
    {
      "cell_type": "code",
      "metadata": {
        "id": "_J1WL6F9gMu1"
      },
      "source": [
        "model = model.eval().to(args.device)\n",
        "\n",
        "sampler = NMTSampler(vectorizer, model)\n",
        "\n",
        "dataset.set_split('test')\n",
        "batch_generator = generate_nmt_batches(dataset, \n",
        "                                       batch_size=args.batch_size, \n",
        "                                       device=args.device)\n",
        "\n",
        "test_results = []\n",
        "for batch_dict in batch_generator:\n",
        "    sampler.apply_to_batch(batch_dict)\n",
        "    for i in range(args.batch_size):\n",
        "        test_results.append(sampler.get_ith_item(i, False))"
      ],
      "execution_count": null,
      "outputs": []
    },
    {
      "cell_type": "code",
      "metadata": {
        "colab": {
          "base_uri": "https://localhost:8080/",
          "height": 282
        },
        "id": "_CSwqzYvgN3j",
        "outputId": "93eb9c6a-e524-4495-ae5e-714f5012b714"
      },
      "source": [
        "plt.hist([r['bleu-4'] for r in test_results], bins=100);\n",
        "np.mean([r['bleu-4'] for r in test_results]), np.median([r['bleu-4'] for r in test_results])"
      ],
      "execution_count": null,
      "outputs": [
        {
          "output_type": "execute_result",
          "data": {
            "text/plain": [
              "(0.3669313489891221, 0.35703914399806813)"
            ]
          },
          "metadata": {
            "tags": []
          },
          "execution_count": 89
        },
        {
          "output_type": "display_data",
          "data": {
            "image/png": "[encoded data removed]",
            "text/plain": [
              "<Figure size 432x288 with 1 Axes>"
            ]
          },
          "metadata": {
            "tags": [],
            "needs_background": "light"
          }
        }
      ]
    },
    {
      "cell_type": "code",
      "metadata": {
        "id": "UZE0H0uggPyL"
      },
      "source": [
        "dataset.set_split('val')\n",
        "batch_generator = generate_nmt_batches(dataset, \n",
        "                                       batch_size=args.batch_size, \n",
        "                                       device=args.device)\n",
        "batch_dict = next(batch_generator)\n",
        "\n",
        "model = model.eval().to(args.device)\n",
        "sampler = NMTSampler(vectorizer, model)\n",
        "sampler.apply_to_batch(batch_dict)"
      ],
      "execution_count": null,
      "outputs": []
    },
    {
      "cell_type": "code",
      "metadata": {
        "id": "zjU2gsplgTYZ"
      },
      "source": [
        "all_results = []\n",
        "for i in range(args.batch_size):\n",
        "    all_results.append(sampler.get_ith_item(i, False))"
      ],
      "execution_count": null,
      "outputs": []
    },
    {
      "cell_type": "code",
      "metadata": {
        "colab": {
          "base_uri": "https://localhost:8080/"
        },
        "id": "eFOmfMpugVDB",
        "outputId": "06577066-78af-4037-e726-d73cd5b19b19"
      },
      "source": [
        "top_results = [x for x in all_results if x['bleu-4']>0.5]\n",
        "len(top_results)"
      ],
      "execution_count": null,
      "outputs": [
        {
          "output_type": "execute_result",
          "data": {
            "text/plain": [
              "5"
            ]
          },
          "metadata": {
            "tags": []
          },
          "execution_count": 92
        }
      ]
    },
    {
      "cell_type": "code",
      "metadata": {
        "id": "s1K7E6odgWde",
        "colab": {
          "base_uri": "https://localhost:8080/",
          "height": 1000
        },
        "outputId": "1206ed7f-8801-4835-f78b-960df7fdc658"
      },
      "source": [
        "for sample in top_results:\n",
        "    plt.figure()\n",
        "    target_len = len(sample['sampled'])\n",
        "    source_len = len(sample['source'])\n",
        "\n",
        "    attention_matrix = sample['attention'][:target_len, :source_len+2].transpose()#[::-1]\n",
        "    ax = sns.heatmap(attention_matrix, center=0.0)\n",
        "    ylabs = [\"<BOS>\"]+sample['source']+[\"<EOS>\"]\n",
        "    #ylabs = sample['source']\n",
        "    #ylabs = ylabs[::-1]\n",
        "    ax.set_yticklabels(ylabs, rotation=0)\n",
        "    ax.set_xticklabels(sample['sampled'], rotation=90)\n",
        "    ax.set_xlabel(\"Target Sentence\")\n",
        "    ax.set_ylabel(\"Source Sentence\\n\\n\")"
      ],
      "execution_count": null,
      "outputs": [
        {
          "output_type": "display_data",
          "data": {
            "image/png": "[encoded data removed]",
            "text/plain": [
              "<Figure size 432x288 with 2 Axes>"
            ]
          },
          "metadata": {
            "tags": [],
            "needs_background": "light"
          }
        },
        {
          "output_type": "display_data",
          "data": {
            "image/png": "[encoded data removed]",
            "text/plain": [
              "<Figure size 432x288 with 2 Axes>"
            ]
          },
          "metadata": {
            "tags": [],
            "needs_background": "light"
          }
        },
        {
          "output_type": "display_data",
          "data": {
            "image/png": "[encoded data removed]",
            "text/plain": [
              "<Figure size 432x288 with 2 Axes>"
            ]
          },
          "metadata": {
            "tags": [],
            "needs_background": "light"
          }
        },
        {
          "output_type": "display_data",
          "data": {
            "image/png": "[encoded data removed]",
            "text/plain": [
              "<Figure size 432x288 with 2 Axes>"
            ]
          },
          "metadata": {
            "tags": [],
            "needs_background": "light"
          }
        },
        {
          "output_type": "display_data",
          "data": {
            "image/png": "[encoded data removed]",
            "text/plain": [
              "<Figure size 432x288 with 2 Axes>"
            ]
          },
          "metadata": {
            "tags": [],
            "needs_background": "light"
          }
        }
      ]
    },
    {
      "cell_type": "code",
      "metadata": {
        "id": "jGxlbKGPzhs8"
      },
      "source": [
        "# Guarda valores\n",
        "results = []"
      ],
      "execution_count": null,
      "outputs": []
    },
    {
      "cell_type": "markdown",
      "metadata": {
        "id": "Q2AMeI5u4wkg"
      },
      "source": [
        "# 3.  Adaptelo para hacer una implementación de \"Hard Attention\" en lugar del que el modelo tiene.\n"
      ]
    },
    {
      "cell_type": "code",
      "metadata": {
        "id": "s8BN1yNdgYCZ"
      },
      "source": [
        "def hard_attention(encoder_state_vectors, query_vector):\n",
        "    \"\"\"A descriptive version of the neural attention mechanism \n",
        "    \n",
        "    Args:\n",
        "        encoder_state_vectors (torch.Tensor): 3dim tensor from bi-GRU in encoder\n",
        "        query_vector (torch.Tensor): hidden state in decoder GRU\n",
        "    Returns:\n",
        "        \n",
        "    \"\"\"\n",
        "    vector_scores        = torch.matmul(encoder_state_vectors, query_vector.unsqueeze(dim = 2)).squeeze()\n",
        "    vector_probabilities = F.softmax(vector_scores, dim = -1)\n",
        "\n",
        "    norms                = torch.norm(vector_scores, dim = 0)\n",
        "    #Get position of vector with highest score \n",
        "    index                = norms.argmax()\n",
        "    # Return only vector of highest score\n",
        "    context_vectors      = encoder_state_vectors[:,index]   \n",
        "                   \n",
        "    return context_vectors, vector_probabilities, vector_scores"
      ],
      "execution_count": null,
      "outputs": []
    },
    {
      "cell_type": "markdown",
      "metadata": {
        "id": "iSSfjzSU48Su"
      },
      "source": [
        "# Create Model"
      ]
    },
    {
      "cell_type": "code",
      "metadata": {
        "id": "-_9fm1kF-r0N"
      },
      "source": [
        "if args.reload_from_files and os.path.exists(args.vectorizer_file):\n",
        "    # training from a checkpoint\n",
        "    dataset = NMTDataset.load_dataset_and_load_vectorizer(args.dataset_csv,\n",
        "                                                          args.vectorizer_file)\n",
        "else:\n",
        "    # create dataset and vectorizer\n",
        "    dataset = NMTDataset.load_dataset_and_make_vectorizer(args.dataset_csv)\n",
        "    dataset.save_vectorizer(args.vectorizer_file)\n",
        "\n",
        "vectorizer = dataset.get_vectorizer()"
      ],
      "execution_count": null,
      "outputs": []
    },
    {
      "cell_type": "code",
      "metadata": {
        "colab": {
          "base_uri": "https://localhost:8080/"
        },
        "id": "A174K8nU4yqT",
        "outputId": "c730c265-85b9-4c77-81b7-4d74d9be5c0f"
      },
      "source": [
        "model_ha = NMTModel(source_vocab_size     = len(vectorizer.source_vocab), \n",
        "                 source_embedding_size = args.source_embedding_size, \n",
        "                 target_vocab_size     = len(vectorizer.target_vocab),\n",
        "                 target_embedding_size = args.target_embedding_size, \n",
        "                 encoding_size         = args.encoding_size,\n",
        "                 target_bos_index      = vectorizer.target_vocab.begin_seq_index, \n",
        "                 attention = 'hard-attention')\n",
        "\n",
        "if args.reload_from_files and os.path.exists(args.model_state_file):\n",
        "    model_ha.load_state_dict(torch.load(args.model_state_file))\n",
        "    print(\"Reloaded model\")\n",
        "else:\n",
        "    print(\"New model\")"
      ],
      "execution_count": null,
      "outputs": [
        {
          "output_type": "stream",
          "text": [
            "New model\n"
          ],
          "name": "stdout"
        }
      ]
    },
    {
      "cell_type": "code",
      "metadata": {
        "colab": {
          "base_uri": "https://localhost:8080/",
          "height": 113,
          "referenced_widgets": [
            "cd7e44f6afc6433bbd71437b0add3995",
            "f740f9bdb08143fcb9a46a5caf8461c3",
            "77d974de8f6046cbbdd98d49e47b4789",
            "7a80d98c62784dab94feb146c3e59cb4",
            "4d57c25fb65b4fcfbddcbff59b2ce5bd",
            "335b6608dfd74772829572ae3daa74fb",
            "6743709a5b9b4e4c9e779ec343aeef9c",
            "3c3948f379a7455a8d897df5532a11e5",
            "78a38663e63641dcb7cf1656f4370be7",
            "7ef04dad614c4e329b9c6f1c241fd3c4",
            "c3f2c306c2af46918d0a7f771c294197",
            "f89e1dea3ecf41ea8e2bc036893f5546",
            "ded82cf91f8248419889c8c625c9468d",
            "71f75330ccaa4fafa1bb3d13d7e8b09a",
            "153f5bad31fb4d36b457f853ed03b7d8",
            "654fa3c16eec46a4aeec6de48b3541df",
            "244861a76c0c43a88b292f7540d4d1aa",
            "1cef1e1dd1d540339205d907b4f77cef",
            "e0f7756e930c498096b0902aa0540a2c",
            "175cadf7fefb4611bffd18b37d9ccc4f",
            "0edb6ee8047b46ad80cd268038bd6074",
            "696ac974f2e04abfab05db476eeb58b8",
            "4aec06bb68df49bf862c82e65f60ba58",
            "236f0bfa24234ec1b8bb8b23964a52a8"
          ]
        },
        "id": "sh3AjWFGF5pE",
        "outputId": "94de5eb4-18d2-433a-a9b8-70226928801b"
      },
      "source": [
        "model_ha = model_ha.to(args.device)\n",
        "\n",
        "optimizer = optim.Adam(model_ha.parameters(), lr = args.learning_rate)\n",
        "scheduler = optim.lr_scheduler.ReduceLROnPlateau(optimizer = optimizer,\n",
        "                                           mode = 'min', factor = 0.5,\n",
        "                                           patience=1)\n",
        "mask_index = vectorizer.target_vocab.mask_index\n",
        "train_state = make_train_state(args)\n",
        "\n",
        "epoch_bar = tqdm.notebook.tqdm(desc = 'training routine', \n",
        "                          total = args.num_epochs,\n",
        "                          position = 0)\n",
        "\n",
        "dataset.set_split('train')\n",
        "train_bar = tqdm.notebook.tqdm(desc='split=train',\n",
        "                          total = dataset.get_num_batches(args.batch_size), \n",
        "                          position = 1, \n",
        "                          leave = True)\n",
        "dataset.set_split('val')\n",
        "val_bar = tqdm.notebook.tqdm(desc = 'split=val',\n",
        "                        total = dataset.get_num_batches(args.batch_size), \n",
        "                        position=1, \n",
        "                        leave=True)\n",
        "\n",
        "star = time.time()\n",
        "\n",
        "try:\n",
        "    for epoch_index in range(args.num_epochs):\n",
        "        sample_probability = (20 + epoch_index) / args.num_epochs\n",
        "        \n",
        "        train_state['epoch_index'] = epoch_index\n",
        "\n",
        "        # Iterate over training dataset\n",
        "\n",
        "        # setup: batch generator, set loss and acc to 0, set train mode on\n",
        "        dataset.set_split('train')\n",
        "        batch_generator = generate_nmt_batches(dataset, \n",
        "                                               batch_size=args.batch_size, \n",
        "                                               device=args.device)\n",
        "        running_loss = 0.0\n",
        "        running_acc = 0.0\n",
        "        model_ha.train()\n",
        "        \n",
        "        for batch_index, batch_dict in enumerate(batch_generator):\n",
        "            # the training routine is these 5 steps:\n",
        "\n",
        "            # --------------------------------------    \n",
        "            # step 1. zero the gradients\n",
        "            optimizer.zero_grad()\n",
        "\n",
        "            # step 2. compute the output\n",
        "            y_pred = model_ha(batch_dict['x_source'], \n",
        "                           batch_dict['x_source_length'], \n",
        "                           batch_dict['x_target'],\n",
        "                           sample_probability=sample_probability)\n",
        "\n",
        "            # step 3. compute the loss\n",
        "            loss = sequence_loss(y_pred, batch_dict['y_target'], mask_index)\n",
        "\n",
        "            # step 4. use loss to produce gradients\n",
        "            loss.backward()\n",
        "\n",
        "            # step 5. use optimizer to take gradient step\n",
        "            optimizer.step()\n",
        "\n",
        "            # -----------------------------------------\n",
        "            # compute the running loss and running accuracy\n",
        "            running_loss += (loss.item() - running_loss) / (batch_index + 1)\n",
        "\n",
        "            acc_t = compute_accuracy(y_pred, batch_dict['y_target'], mask_index)\n",
        "            running_acc += (acc_t - running_acc) / (batch_index + 1)\n",
        "\n",
        "            # update bar\n",
        "            train_bar.set_postfix(loss=running_loss, acc=running_acc, \n",
        "                                  epoch=epoch_index)\n",
        "            train_bar.update()\n",
        "\n",
        "        train_state['train_loss'].append(running_loss)\n",
        "        train_state['train_acc'].append(running_acc)\n",
        "\n",
        "        # Iterate over val dataset\n",
        "\n",
        "        # setup: batch generator, set loss and acc to 0; set eval mode on\n",
        "        dataset.set_split('val')\n",
        "        batch_generator = generate_nmt_batches(dataset, \n",
        "                                               batch_size=args.batch_size, \n",
        "                                               device=args.device)\n",
        "        running_loss = 0.\n",
        "        running_acc = 0.\n",
        "        model_ha.eval()\n",
        "\n",
        "        for batch_index, batch_dict in enumerate(batch_generator):\n",
        "            # compute the output\n",
        "            y_pred = model_ha(batch_dict['x_source'], \n",
        "                           batch_dict['x_source_length'], \n",
        "                           batch_dict['x_target'],\n",
        "                           sample_probability=sample_probability)\n",
        "\n",
        "            # step 3. compute the loss\n",
        "            loss = sequence_loss(y_pred, batch_dict['y_target'], mask_index)\n",
        "\n",
        "            # compute the running loss and accuracy\n",
        "            running_loss += (loss.item() - running_loss) / (batch_index + 1)\n",
        "            \n",
        "            acc_t = compute_accuracy(y_pred, batch_dict['y_target'], mask_index)\n",
        "            running_acc += (acc_t - running_acc) / (batch_index + 1)\n",
        "            \n",
        "            # Update bar\n",
        "            val_bar.set_postfix(loss=running_loss, acc=running_acc, \n",
        "                            epoch=epoch_index)\n",
        "            val_bar.update()\n",
        "\n",
        "        train_state['val_loss'].append(running_loss)\n",
        "        train_state['val_acc'].append(running_acc)\n",
        "\n",
        "        train_state = update_train_state(args=args, model=model_ha, \n",
        "                                         train_state=train_state)\n",
        "\n",
        "        scheduler.step(train_state['val_loss'][-1])\n",
        "\n",
        "        if train_state['stop_early']:\n",
        "            break\n",
        "        \n",
        "        train_bar.n = 0\n",
        "        val_bar.n = 0\n",
        "        epoch_bar.set_postfix(best_val=train_state['early_stopping_best_val'])\n",
        "        epoch_bar.update()\n",
        "        \n",
        "except KeyboardInterrupt:\n",
        "    print(\"Exiting loop\")\n",
        "\n",
        "r = [time.time() - star]"
      ],
      "execution_count": null,
      "outputs": [
        {
          "output_type": "display_data",
          "data": {
            "application/vnd.jupyter.widget-view+json": {
              "model_id": "cd7e44f6afc6433bbd71437b0add3995",
              "version_minor": 0,
              "version_major": 2
            },
            "text/plain": [
              "HBox(children=(FloatProgress(value=0.0, description='training routine', max=50.0, style=ProgressStyle(descript…"
            ]
          },
          "metadata": {
            "tags": []
          }
        },
        {
          "output_type": "display_data",
          "data": {
            "application/vnd.jupyter.widget-view+json": {
              "model_id": "78a38663e63641dcb7cf1656f4370be7",
              "version_minor": 0,
              "version_major": 2
            },
            "text/plain": [
              "HBox(children=(FloatProgress(value=0.0, description='split=train', max=285.0, style=ProgressStyle(description_…"
            ]
          },
          "metadata": {
            "tags": []
          }
        },
        {
          "output_type": "display_data",
          "data": {
            "application/vnd.jupyter.widget-view+json": {
              "model_id": "244861a76c0c43a88b292f7540d4d1aa",
              "version_minor": 0,
              "version_major": 2
            },
            "text/plain": [
              "HBox(children=(FloatProgress(value=0.0, description='split=val', max=61.0, style=ProgressStyle(description_wid…"
            ]
          },
          "metadata": {
            "tags": []
          }
        }
      ]
    },
    {
      "cell_type": "markdown",
      "metadata": {
        "id": "R7UiNWWp6rOp"
      },
      "source": [
        "# 4. Adaptelo para hacer una implementacion de \"Soft-Attention\" de Bahdanau: https://arxiv.org/pdf/1409.0473.pdf"
      ]
    },
    {
      "cell_type": "markdown",
      "metadata": {
        "id": "M9qpqjPcRhG5"
      },
      "source": [
        "Para este punto le pedí ayuda a Javier. En la parte que tuve dificultad fue agregando las capas lineales para aprender los valores de a dada por una FNN. "
      ]
    },
    {
      "cell_type": "code",
      "metadata": {
        "id": "dRZKCApwDVl3"
      },
      "source": [
        "class NMTDecoder(nn.Module):\n",
        "    def __init__(self, num_embeddings, embedding_size, rnn_hidden_size, bos_index, attention = 'verbose_attention'):\n",
        "        \"\"\"\n",
        "        Args:\n",
        "            num_embeddings (int): number of embeddings is also the number of \n",
        "                unique words in target vocabulary \n",
        "            embedding_size (int): the embedding vector size\n",
        "            rnn_hidden_size (int): size of the hidden rnn state\n",
        "            bos_index(int): begin-of-sequence index\n",
        "        \"\"\"\n",
        "        super(NMTDecoder, self).__init__()\n",
        "        self._rnn_hidden_size = rnn_hidden_size\n",
        "        self.attention = attention\n",
        "\n",
        "        self.target_embedding = nn.Embedding(num_embeddings=num_embeddings, \n",
        "                                             embedding_dim=embedding_size, \n",
        "                                             padding_idx=0)\n",
        "        self.gru_cell = nn.GRUCell(embedding_size + rnn_hidden_size, \n",
        "                                   rnn_hidden_size)\n",
        "        self.hidden_map = nn.Linear(rnn_hidden_size, rnn_hidden_size)\n",
        "        self.classifier = nn.Linear(rnn_hidden_size * 2, num_embeddings)\n",
        "        self.bos_index = bos_index\n",
        "        self._sampling_temperature = 3\n",
        "        \n",
        "        # Paramaters for a_weigths\n",
        "        self.W = nn.Linear(rnn_hidden_size, rnn_hidden_size)\n",
        "        self.U = nn.Linear(rnn_hidden_size, rnn_hidden_size)\n",
        "        self.V = nn.Linear(rnn_hidden_size, 1)\n",
        "\n",
        "    def _init_indices(self, batch_size):\n",
        "        \"\"\" return the BEGIN-OF-SEQUENCE index vector \"\"\"\n",
        "        return torch.ones(batch_size, dtype=torch.int64) * self.bos_index\n",
        "    \n",
        "    def _init_context_vectors(self, batch_size):\n",
        "        \"\"\" return a zeros vector for initializing the context \"\"\"\n",
        "        return torch.zeros(batch_size, self._rnn_hidden_size)\n",
        "\n",
        "    def soft_attention(self, encoder_state_vectors, query_vector) :\n",
        "        batch_size, num_vectors, vector_size = encoder_state_vectors.size()\n",
        "        q_batch_size, q_vector_size          = query_vector.size()\n",
        "        encoder_state_vectors                = encoder_state_vectors.contiguous().view(batch_size *num_vectors, vector_size)\n",
        "        \n",
        "\n",
        "        U = self.U(encoder_state_vectors)\n",
        "        W = self.W(query_vector)\n",
        "\n",
        "        \n",
        "\n",
        "        # W_a s_{i-1} + U h_j\n",
        "        a = U.contiguous().view(batch_size, num_vectors, vector_size) + W.view(q_batch_size, 1, q_vector_size) \n",
        "        a = torch.tanh(a)\n",
        "\n",
        "        batch_size, num_vectors, vector_size = a.size()\n",
        "        a = a.contiguous().view(batch_size * num_vectors, vector_size)\n",
        "        a = self.V(a)\n",
        "        \n",
        "        vector_scores         = a.contiguous().view(batch_size, num_vectors)\n",
        "        encoder_state_vectors = encoder_state_vectors.contiguous().view(batch_size, num_vectors, vector_size)\n",
        "        # Get alpha weights\n",
        "        vector_probabilities  = torch.exp(vector_scores)\n",
        "        vector_probabilities  = vector_probabilities / torch.sum(vector_probabilities, dim = 0)\n",
        "        weighted_vectors      = encoder_state_vectors * vector_probabilities.view(batch_size, num_vectors, 1)\n",
        "        context_vectors       = torch.sum(weighted_vectors, dim = 1)\n",
        "\n",
        "        return  context_vectors, vector_probabilities, vector_scores\n",
        "\n",
        "    def forward(self, encoder_state, initial_hidden_state, target_sequence, sample_probability=0.0):\n",
        "        \"\"\"The forward pass of the model\n",
        "        \n",
        "        Args:\n",
        "            encoder_state (torch.Tensor): the output of the NMTEncoder\n",
        "            initial_hidden_state (torch.Tensor): The last hidden state in the  NMTEncoder\n",
        "            target_sequence (torch.Tensor): the target text data tensor\n",
        "            sample_probability (float): the schedule sampling parameter\n",
        "                probabilty of using model's predictions at each decoder step\n",
        "        Returns:\n",
        "            output_vectors (torch.Tensor): prediction vectors at each output step\n",
        "        \"\"\"\n",
        "        if target_sequence is None:\n",
        "            sample_probability = 1.0\n",
        "        else:\n",
        "            # We are making an assumption there: The batch is on first\n",
        "            # The input is (Batch, Seq)\n",
        "            # We want to iterate over sequence so we permute it to (S, B)\n",
        "            target_sequence = target_sequence.permute(1, 0)\n",
        "            output_sequence_size = target_sequence.size(0)\n",
        "        \n",
        "        # use the provided encoder hidden state as the initial hidden state\n",
        "        h_t = self.hidden_map(initial_hidden_state)\n",
        "        \n",
        "        batch_size = encoder_state.size(0)\n",
        "        # initialize context vectors to zeros\n",
        "        context_vectors = self._init_context_vectors(batch_size)\n",
        "        # initialize first y_t word as BOS\n",
        "        y_t_index = self._init_indices(batch_size)\n",
        "        \n",
        "        h_t = h_t.to(encoder_state.device)\n",
        "        y_t_index = y_t_index.to(encoder_state.device)\n",
        "        context_vectors = context_vectors.to(encoder_state.device)\n",
        "\n",
        "        output_vectors = []\n",
        "        self._cached_p_attn = []\n",
        "        self._cached_ht = []\n",
        "        self._cached_decoder_state = encoder_state.cpu().detach().numpy()\n",
        "        \n",
        "        for i in range(output_sequence_size):\n",
        "            # Schedule sampling is whe\n",
        "            use_sample = np.random.random() < sample_probability\n",
        "            if not use_sample:\n",
        "                y_t_index = target_sequence[i]\n",
        "                \n",
        "            # Step 1: Embed word and concat with previous context\n",
        "            y_input_vector = self.target_embedding(y_t_index)\n",
        "            rnn_input = torch.cat([y_input_vector, context_vectors], dim=1)\n",
        "            \n",
        "            # Step 2: Make a GRU step, getting a new hidden vector\n",
        "            h_t = self.gru_cell(rnn_input, h_t)\n",
        "            self._cached_ht.append(h_t.cpu().detach().numpy())\n",
        "            \n",
        "            # Step 3: Use the current hidden to attend to the encoder state\n",
        "            if self.attention == 'verbose-attention' :\n",
        "              context_vectors, p_attn, _ = verbose_attention(encoder_state_vectors = encoder_state, \n",
        "                                                             query_vector = h_t)\n",
        "            elif self.attention == 'soft-attention' :\n",
        "              context_vectors, p_attn, _ = self.soft_attention(encoder_state_vectors = encoder_state, \n",
        "                                                          query_vector = h_t)\n",
        "            elif self.attention == 'hard-attention' :\n",
        "              context_vectors, p_attn, _ = hard_attention(encoder_state_vectors = encoder_state, \n",
        "                                                          query_vector = h_t)\n",
        "            \n",
        "            # auxillary: cache the attention probabilities for visualization\n",
        "            self._cached_p_attn.append(p_attn.cpu().detach().numpy())\n",
        "            \n",
        "            # Step 4: Use the current hidden and context vectors to make a prediction to the next word\n",
        "            prediction_vector = torch.cat((context_vectors, h_t), dim=1)\n",
        "            score_for_y_t_index = self.classifier(F.dropout(prediction_vector, 0.3))\n",
        "            \n",
        "            if use_sample:\n",
        "                p_y_t_index = F.softmax(score_for_y_t_index * self._sampling_temperature, dim=1)\n",
        "                # _, y_t_index = torch.max(p_y_t_index, 1)\n",
        "                y_t_index = torch.multinomial(p_y_t_index, 1).squeeze()\n",
        "            \n",
        "            # auxillary: collect the prediction scores\n",
        "            output_vectors.append(score_for_y_t_index)\n",
        "            \n",
        "        output_vectors = torch.stack(output_vectors).permute(1, 0, 2)\n",
        "        \n",
        "        return output_vectors"
      ],
      "execution_count": null,
      "outputs": []
    },
    {
      "cell_type": "markdown",
      "metadata": {
        "id": "_asDvTDd_T1W"
      },
      "source": [
        "## Creo Modelo"
      ]
    },
    {
      "cell_type": "code",
      "metadata": {
        "id": "SyxcN9ex_SOy"
      },
      "source": [
        "if args.reload_from_files and os.path.exists(args.vectorizer_file):\n",
        "    # training from a checkpoint\n",
        "    dataset = NMTDataset.load_dataset_and_load_vectorizer(args.dataset_csv,\n",
        "                                                          args.vectorizer_file)\n",
        "else:\n",
        "    # create dataset and vectorizer\n",
        "    dataset = NMTDataset.load_dataset_and_make_vectorizer(args.dataset_csv)\n",
        "    dataset.save_vectorizer(args.vectorizer_file)\n",
        "\n",
        "vectorizer = dataset.get_vectorizer()"
      ],
      "execution_count": null,
      "outputs": []
    },
    {
      "cell_type": "code",
      "metadata": {
        "colab": {
          "base_uri": "https://localhost:8080/"
        },
        "id": "N0avAqvq_QLO",
        "outputId": "99bc3606-4142-416e-e594-8cbceedeb6ee"
      },
      "source": [
        "model_sa = NMTModel(source_vocab_size     = len(vectorizer.source_vocab),\n",
        "                 source_embedding_size = args.source_embedding_size, \n",
        "                 target_vocab_size     = len(vectorizer.target_vocab),\n",
        "                 target_embedding_size = args.target_embedding_size, \n",
        "                 encoding_size         = args.encoding_size,\n",
        "                 target_bos_index      = vectorizer.target_vocab.begin_seq_index, \n",
        "                 attention = 'soft-attention')\n",
        "\n",
        "if args.reload_from_files and os.path.exists(args.model_state_file):\n",
        "    model_sa.load_state_dict(torch.load(args.model_state_file))\n",
        "    print(\"Reloaded model\")\n",
        "else:\n",
        "    print(\"New model\")"
      ],
      "execution_count": null,
      "outputs": [
        {
          "output_type": "stream",
          "text": [
            "New model\n"
          ],
          "name": "stdout"
        }
      ]
    },
    {
      "cell_type": "code",
      "metadata": {
        "colab": {
          "base_uri": "https://localhost:8080/",
          "height": 113,
          "referenced_widgets": [
            "ce235524638146e19ebafbdbcf561d46",
            "1a9db3d5885a47269e9c59fa71b812fb",
            "4eb77c334e7c43c7877caed84eaa6f79",
            "029624d657424cc28677a764dc519f47",
            "7b2d1b3aa52e4d309cc4ca9ee5c80ef5",
            "141a90c948894f538d0bc747721e408c",
            "557aad79e13745a280b02223b15bce54",
            "208e4c4f06184d99be90075d110ea1e3",
            "1aaba1daec424f528815ccc6760faa69",
            "ba1a73bfe88a4c02a5cc7ae33d0f8b81",
            "e51913cb41a948459212afdb03ca5f3d",
            "c7cee8a2a2c84f8e83a1d41f55864679",
            "61410758800644e697826e534e06a6cf",
            "b44c80ec3a5a4911b184594f645c4e4a",
            "9908f3fd5a344d02a4ed65264bf9e00b",
            "4d40ffb021d0428688d846c5e3697c33",
            "23095d8e6858473f8f21f9c8d80bc64f",
            "6bd9d465903e4753abbe863c3e762712",
            "bb6985e2295d4e47ab5a9a072f2967b8",
            "ca796efd7c884a299a972e1ac73d594f",
            "6d8f58fd09544662aeabfe7d8176a8cb",
            "c496e81a307a4165b15c72ea7f8e989b",
            "6c10d668918548f292ea3dec30670e8f",
            "5b62f2472e6b4f37bf8fc72c2a4dea91"
          ]
        },
        "id": "Nhcue1MCLFM6",
        "outputId": "92d9909d-6c6e-4a4c-a0f4-36f6c3eaa6b8"
      },
      "source": [
        "star = time.time()\n",
        "\n",
        "model_sa = model_sa.to(args.device)\n",
        "\n",
        "optimizer = optim.Adam(model_sa.parameters(), lr = args.learning_rate)\n",
        "scheduler = optim.lr_scheduler.ReduceLROnPlateau(optimizer = optimizer,\n",
        "                                           mode = 'min', factor = 0.5,\n",
        "                                           patience=1)\n",
        "mask_index = vectorizer.target_vocab.mask_index\n",
        "train_state = make_train_state(args)\n",
        "\n",
        "epoch_bar = tqdm.notebook.tqdm(desc = 'training routine', \n",
        "                          total = args.num_epochs,\n",
        "                          position = 0)\n",
        "\n",
        "dataset.set_split('train')\n",
        "train_bar = tqdm.notebook.tqdm(desc='split=train',\n",
        "                          total = dataset.get_num_batches(args.batch_size), \n",
        "                          position = 1, \n",
        "                          leave = True)\n",
        "dataset.set_split('val')\n",
        "val_bar = tqdm.notebook.tqdm(desc = 'split=val',\n",
        "                        total = dataset.get_num_batches(args.batch_size), \n",
        "                        position=1, \n",
        "                        leave=True)\n",
        "\n",
        "try:\n",
        "    for epoch_index in range(args.num_epochs):\n",
        "        sample_probability = (20 + epoch_index) / args.num_epochs\n",
        "        \n",
        "        train_state['epoch_index'] = epoch_index\n",
        "\n",
        "        # Iterate over training dataset\n",
        "\n",
        "        # setup: batch generator, set loss and acc to 0, set train mode on\n",
        "        dataset.set_split('train')\n",
        "        batch_generator = generate_nmt_batches(dataset, \n",
        "                                               batch_size=args.batch_size, \n",
        "                                               device=args.device)\n",
        "        running_loss = 0.0\n",
        "        running_acc = 0.0\n",
        "        model_sa.train()\n",
        "        \n",
        "        for batch_index, batch_dict in enumerate(batch_generator):\n",
        "            # the training routine is these 5 steps:\n",
        "\n",
        "            # --------------------------------------    \n",
        "            # step 1. zero the gradients\n",
        "            optimizer.zero_grad()\n",
        "\n",
        "            # step 2. compute the output\n",
        "            y_pred = model_sa(batch_dict['x_source'], \n",
        "                           batch_dict['x_source_length'], \n",
        "                           batch_dict['x_target'],\n",
        "                           sample_probability=sample_probability)\n",
        "\n",
        "            # step 3. compute the loss\n",
        "            loss = sequence_loss(y_pred, batch_dict['y_target'], mask_index)\n",
        "\n",
        "            # step 4. use loss to produce gradients\n",
        "            loss.backward()\n",
        "\n",
        "            # step 5. use optimizer to take gradient step\n",
        "            optimizer.step()\n",
        "\n",
        "            # -----------------------------------------\n",
        "            # compute the running loss and running accuracy\n",
        "            running_loss += (loss.item() - running_loss) / (batch_index + 1)\n",
        "\n",
        "            acc_t = compute_accuracy(y_pred, batch_dict['y_target'], mask_index)\n",
        "            running_acc += (acc_t - running_acc) / (batch_index + 1)\n",
        "\n",
        "            # update bar\n",
        "            train_bar.set_postfix(loss=running_loss, acc=running_acc, \n",
        "                                  epoch=epoch_index)\n",
        "            train_bar.update()\n",
        "\n",
        "        train_state['train_loss'].append(running_loss)\n",
        "        train_state['train_acc'].append(running_acc)\n",
        "\n",
        "        # Iterate over val dataset\n",
        "\n",
        "        # setup: batch generator, set loss and acc to 0; set eval mode on\n",
        "        dataset.set_split('val')\n",
        "        batch_generator = generate_nmt_batches(dataset, \n",
        "                                               batch_size=args.batch_size, \n",
        "                                               device=args.device)\n",
        "        running_loss = 0.\n",
        "        running_acc = 0.\n",
        "        model_sa.eval()\n",
        "\n",
        "        for batch_index, batch_dict in enumerate(batch_generator):\n",
        "            # compute the output\n",
        "            y_pred = model_sa(batch_dict['x_source'], \n",
        "                           batch_dict['x_source_length'], \n",
        "                           batch_dict['x_target'],\n",
        "                           sample_probability=sample_probability)\n",
        "\n",
        "            # step 3. compute the loss\n",
        "            loss = sequence_loss(y_pred, batch_dict['y_target'], mask_index)\n",
        "\n",
        "            # compute the running loss and accuracy\n",
        "            running_loss += (loss.item() - running_loss) / (batch_index + 1)\n",
        "            \n",
        "            acc_t = compute_accuracy(y_pred, batch_dict['y_target'], mask_index)\n",
        "            running_acc += (acc_t - running_acc) / (batch_index + 1)\n",
        "            \n",
        "            # Update bar\n",
        "            val_bar.set_postfix(loss=running_loss, acc=running_acc, \n",
        "                            epoch=epoch_index)\n",
        "            val_bar.update()\n",
        "\n",
        "        train_state['val_loss'].append(running_loss)\n",
        "        train_state['val_acc'].append(running_acc)\n",
        "\n",
        "        train_state = update_train_state(args=args, model=model_sa, \n",
        "                                         train_state=train_state)\n",
        "\n",
        "        scheduler.step(train_state['val_loss'][-1])\n",
        "\n",
        "        if train_state['stop_early']:\n",
        "            break\n",
        "        \n",
        "        train_bar.n = 0\n",
        "        val_bar.n = 0\n",
        "        epoch_bar.set_postfix(best_val=train_state['early_stopping_best_val'])\n",
        "        epoch_bar.update()\n",
        "        \n",
        "except KeyboardInterrupt:\n",
        "    print(\"Exiting loop\")\n",
        "\n",
        "r = [time.time() - star]"
      ],
      "execution_count": null,
      "outputs": [
        {
          "output_type": "display_data",
          "data": {
            "application/vnd.jupyter.widget-view+json": {
              "model_id": "ce235524638146e19ebafbdbcf561d46",
              "version_minor": 0,
              "version_major": 2
            },
            "text/plain": [
              "HBox(children=(FloatProgress(value=0.0, description='training routine', max=50.0, style=ProgressStyle(descript…"
            ]
          },
          "metadata": {
            "tags": []
          }
        },
        {
          "output_type": "display_data",
          "data": {
            "application/vnd.jupyter.widget-view+json": {
              "model_id": "1aaba1daec424f528815ccc6760faa69",
              "version_minor": 0,
              "version_major": 2
            },
            "text/plain": [
              "HBox(children=(FloatProgress(value=0.0, description='split=train', max=285.0, style=ProgressStyle(description_…"
            ]
          },
          "metadata": {
            "tags": []
          }
        },
        {
          "output_type": "display_data",
          "data": {
            "application/vnd.jupyter.widget-view+json": {
              "model_id": "23095d8e6858473f8f21f9c8d80bc64f",
              "version_minor": 0,
              "version_major": 2
            },
            "text/plain": [
              "HBox(children=(FloatProgress(value=0.0, description='split=val', max=61.0, style=ProgressStyle(description_wid…"
            ]
          },
          "metadata": {
            "tags": []
          }
        }
      ]
    },
    {
      "cell_type": "markdown",
      "metadata": {
        "id": "B-eok6Ag6wtn"
      },
      "source": [
        "# 5. Adaptelo para implementar el \"Local Attention\": https://arxiv.org/pdf/1508.04025.pdf"
      ]
    },
    {
      "cell_type": "code",
      "metadata": {
        "id": "SmTBg4LNZow1"
      },
      "source": [
        "class NMTDecoder(nn.Module):\n",
        "    def __init__(self, num_embeddings, embedding_size, rnn_hidden_size, bos_index, attention = 'verbose_attention'):\n",
        "        \"\"\"\n",
        "        Args:\n",
        "            num_embeddings (int): number of embeddings is also the number of \n",
        "                unique words in target vocabulary \n",
        "            embedding_size (int): the embedding vector size\n",
        "            rnn_hidden_size (int): size of the hidden rnn state\n",
        "            bos_index(int): begin-of-sequence index\n",
        "        \"\"\"\n",
        "        super(NMTDecoder, self).__init__()\n",
        "        self._rnn_hidden_size = rnn_hidden_size\n",
        "        self.target_embedding = nn.Embedding(num_embeddings=num_embeddings, \n",
        "                                             embedding_dim=embedding_size, \n",
        "                                             padding_idx=0)\n",
        "        self.gru_cell = nn.GRUCell(embedding_size + rnn_hidden_size, \n",
        "                                   rnn_hidden_size)\n",
        "        self.hidden_map = nn.Linear(rnn_hidden_size, rnn_hidden_size)\n",
        "        self.classifier = nn.Linear(rnn_hidden_size * 2, num_embeddings)\n",
        "        self.bos_index = bos_index\n",
        "        self._sampling_temperature = 3\n",
        "        \n",
        "        self.attention = attention\n",
        "        self.U = nn.Linear(rnn_hidden_size, rnn_hidden_size, bias = False)\n",
        "    \n",
        "    def _init_indices(self, batch_size):\n",
        "        \"\"\" return the BEGIN-OF-SEQUENCE index vector \"\"\"\n",
        "        return torch.ones(batch_size, dtype=torch.int64) * self.bos_index\n",
        "    \n",
        "    def _init_context_vectors(self, batch_size):\n",
        "        \"\"\" return a zeros vector for initializing the context \"\"\"\n",
        "        return torch.zeros(batch_size, self._rnn_hidden_size)\n",
        "\n",
        "    def local_attention(self, encoder_state_vectors, query_vector) :\n",
        "        batch_size, num_vectors, vector_size = encoder_state_vectors.size()\n",
        "        q_batch_size, q_vector_size          = query_vector.size()\n",
        "        encoder_state_vectors                = encoder_state_vectors.contiguous().view(batch_size *num_vectors, vector_size)\n",
        "      \n",
        "        U = self.U(encoder_state_vectors)\n",
        "        # U h_j\n",
        "        a = U.contiguous().view(batch_size, num_vectors, vector_size)\n",
        "\n",
        "        batch_size, num_vectors, vector_size = a.size()\n",
        "        vector_scores = torch.matmul(a, query_vector.unsqueeze(dim = 2)).squeeze()\n",
        "        encoder_state_vectors = encoder_state_vectors.contiguous().view(batch_size, num_vectors, vector_size)\n",
        "        # Get alpha weights\n",
        "        vector_probabilities  = torch.exp(vector_scores)\n",
        "        vector_probabilities  = vector_probabilities / torch.sum(vector_probabilities, dim = 0)\n",
        "        weighted_vectors      = encoder_state_vectors * vector_probabilities.view(batch_size, num_vectors, 1)\n",
        "        context_vectors       = torch.sum(weighted_vectors, dim = 1)\n",
        "\n",
        "        return  context_vectors, vector_probabilities, vector_scores\n",
        "\n",
        "    def forward(self, encoder_state, initial_hidden_state, target_sequence, sample_probability=0.0):\n",
        "        \"\"\"The forward pass of the model\n",
        "        \n",
        "        Args:\n",
        "            encoder_state (torch.Tensor): the output of the NMTEncoder\n",
        "            initial_hidden_state (torch.Tensor): The last hidden state in the  NMTEncoder\n",
        "            target_sequence (torch.Tensor): the target text data tensor\n",
        "            sample_probability (float): the schedule sampling parameter\n",
        "                probabilty of using model's predictions at each decoder step\n",
        "        Returns:\n",
        "            output_vectors (torch.Tensor): prediction vectors at each output step\n",
        "        \"\"\"\n",
        "        if target_sequence is None:\n",
        "            sample_probability = 1.0\n",
        "        else:\n",
        "            # We are making an assumption there: The batch is on first\n",
        "            # The input is (Batch, Seq)\n",
        "            # We want to iterate over sequence so we permute it to (S, B)\n",
        "            target_sequence = target_sequence.permute(1, 0)\n",
        "            output_sequence_size = target_sequence.size(0)\n",
        "        \n",
        "        # use the provided encoder hidden state as the initial hidden state\n",
        "        h_t = self.hidden_map(initial_hidden_state)\n",
        "        \n",
        "        batch_size = encoder_state.size(0)\n",
        "        # initialize context vectors to zeros\n",
        "        context_vectors = self._init_context_vectors(batch_size)\n",
        "        # initialize first y_t word as BOS\n",
        "        y_t_index = self._init_indices(batch_size)\n",
        "        \n",
        "        h_t = h_t.to(encoder_state.device)\n",
        "        y_t_index = y_t_index.to(encoder_state.device)\n",
        "        context_vectors = context_vectors.to(encoder_state.device)\n",
        "\n",
        "        output_vectors = []\n",
        "        self._cached_p_attn = []\n",
        "        self._cached_ht = []\n",
        "        self._cached_decoder_state = encoder_state.cpu().detach().numpy()\n",
        "        \n",
        "        for i in range(output_sequence_size):\n",
        "            # Schedule sampling is whe\n",
        "            use_sample = np.random.random() < sample_probability\n",
        "            if not use_sample:\n",
        "                y_t_index = target_sequence[i]\n",
        "                \n",
        "            # Step 1: Embed word and concat with previous context\n",
        "            y_input_vector = self.target_embedding(y_t_index)\n",
        "            rnn_input = torch.cat([y_input_vector, context_vectors], dim=1)\n",
        "            \n",
        "            # Step 2: Make a GRU step, getting a new hidden vector\n",
        "            h_t = self.gru_cell(rnn_input, h_t)\n",
        "            self._cached_ht.append(h_t.cpu().detach().numpy())\n",
        "            \n",
        "            # Step 3: Use the current hidden to attend to the encoder state\n",
        "            if self.attention == 'verbose-attention' :\n",
        "              context_vectors, p_attn, _ = verbose_attention(encoder_state_vectors = encoder_state, \n",
        "                                                             query_vector = h_t)\n",
        "            elif self.attention == 'soft-attention' :\n",
        "              context_vectors, p_attn, _ = self.soft_attention(encoder_state_vectors = encoder_state, \n",
        "                                                          query_vector = h_t)\n",
        "            elif self.attention == 'local-attention' :\n",
        "              context_vectors, p_attn, _ = self.local_attention(encoder_state_vectors = encoder_state, \n",
        "                                                          query_vector = h_t)\n",
        "            elif self.attention == 'hard-attention' :\n",
        "              context_vectors, p_attn, _ = hard_attention(encoder_state_vectors = encoder_state, \n",
        "                                                          query_vector = h_t)\n",
        "            \n",
        "            # auxillary: cache the attention probabilities for visualization\n",
        "            self._cached_p_attn.append(p_attn.cpu().detach().numpy())\n",
        "            \n",
        "            # Step 4: Use the current hidden and context vectors to make a prediction to the next word\n",
        "            prediction_vector = torch.cat((context_vectors, h_t), dim=1)\n",
        "            score_for_y_t_index = self.classifier(F.dropout(prediction_vector, 0.3))\n",
        "            \n",
        "            if use_sample:\n",
        "                p_y_t_index = F.softmax(score_for_y_t_index * self._sampling_temperature, dim=1)\n",
        "                # _, y_t_index = torch.max(p_y_t_index, 1)\n",
        "                y_t_index = torch.multinomial(p_y_t_index, 1).squeeze()\n",
        "            \n",
        "            # auxillary: collect the prediction scores\n",
        "            output_vectors.append(score_for_y_t_index)\n",
        "            \n",
        "        output_vectors = torch.stack(output_vectors).permute(1, 0, 2)\n",
        "        \n",
        "        return output_vectors"
      ],
      "execution_count": null,
      "outputs": []
    },
    {
      "cell_type": "markdown",
      "metadata": {
        "id": "vSd6NfUF_es5"
      },
      "source": [
        "## Creo Modelo"
      ]
    },
    {
      "cell_type": "code",
      "metadata": {
        "colab": {
          "base_uri": "https://localhost:8080/"
        },
        "id": "hoe67AsnZi56",
        "outputId": "22657b45-3126-44df-ecfa-2930b6d36847"
      },
      "source": [
        "model_la = NMTModel(source_vocab_size     = len(vectorizer.source_vocab),\n",
        "                 source_embedding_size = args.source_embedding_size, \n",
        "                 target_vocab_size     = len(vectorizer.target_vocab),\n",
        "                 target_embedding_size = args.target_embedding_size, \n",
        "                 encoding_size         = args.encoding_size,\n",
        "                 target_bos_index      = vectorizer.target_vocab.begin_seq_index, \n",
        "                 attention = 'local-attention')\n",
        "\n",
        "if args.reload_from_files and os.path.exists(args.model_state_file):\n",
        "    model_la.load_state_dict(torch.load(args.model_state_file))\n",
        "    print(\"Reloaded model\")\n",
        "else:\n",
        "    print(\"New model\")"
      ],
      "execution_count": null,
      "outputs": [
        {
          "output_type": "stream",
          "text": [
            "New model\n"
          ],
          "name": "stdout"
        }
      ]
    },
    {
      "cell_type": "code",
      "metadata": {
        "id": "Mo6r47rR6vxW",
        "colab": {
          "base_uri": "https://localhost:8080/",
          "height": 113,
          "referenced_widgets": [
            "c5b9c95b9b4247d68be92ac11f74a99e",
            "42f28f084cec4725a91e1c50eb0cfc64",
            "dd7e8e6ec5a74119b871a2fb35730a67",
            "14890aab9f6a4cdcb81a4749ae2fd737",
            "e251ca2eef5e40ad8371de496a7052d2",
            "8814dc496af8407a96c79e4e82de54f2",
            "6177205a9a084eb6a6b37f2b7186d5a6",
            "3a048bda9dc24757ae20da2450de1981",
            "064f285ba22f48b69a5b93fb1c4dc2ac",
            "b7617f21eff449f7adcf0a2722eb7f41",
            "23122fe72a1144a0ae882173e769b5dc",
            "4844488b5fd640df98dbd909dcc67f82",
            "db3ca27112914a15b62f686d466c136c",
            "d3e75d5b8b3942b095c03ff937ea4ae1",
            "d1fd05be4296453384d5a52825aa6d8d",
            "3e8b03f057ca45979b66c4e7feeea81a",
            "b48709a107ae454c89afe03d8dbcc1bc",
            "4d25d880ef0747a4a1fd631c84ea59d4",
            "0ed30e18f75c4ee8b2322b1af6b6dc1e",
            "1cee872bb9284de3ae2ae2d2903655d6",
            "deec7c7273124a368507b6f90b964b68",
            "f8f0cecc94f8403786f8eddcafc90ea4",
            "e3bb7f3be5e9466bbdd489d2688d576e",
            "c1193e7b8a4d483f9873c6ce93495269"
          ]
        },
        "outputId": "abbe2e05-1226-4aec-d966-21dc25374629"
      },
      "source": [
        "star = time.time()\n",
        "\n",
        "model_la = model_la.to(args.device)\n",
        "\n",
        "optimizer = optim.Adam(model_la.parameters(), lr = args.learning_rate)\n",
        "scheduler = optim.lr_scheduler.ReduceLROnPlateau(optimizer = optimizer,\n",
        "                                           mode = 'min', factor = 0.5,\n",
        "                                           patience=1)\n",
        "mask_index = vectorizer.target_vocab.mask_index\n",
        "train_state = make_train_state(args)\n",
        "\n",
        "epoch_bar = tqdm.notebook.tqdm(desc = 'training routine', \n",
        "                          total = args.num_epochs,\n",
        "                          position = 0)\n",
        "\n",
        "dataset.set_split('train')\n",
        "train_bar = tqdm.notebook.tqdm(desc='split=train',\n",
        "                          total = dataset.get_num_batches(args.batch_size), \n",
        "                          position = 1, \n",
        "                          leave = True)\n",
        "dataset.set_split('val')\n",
        "val_bar = tqdm.notebook.tqdm(desc = 'split=val',\n",
        "                        total = dataset.get_num_batches(args.batch_size), \n",
        "                        position=1, \n",
        "                        leave=True)\n",
        "\n",
        "try:\n",
        "    for epoch_index in range(args.num_epochs):\n",
        "        sample_probability = (20 + epoch_index) / args.num_epochs\n",
        "        \n",
        "        train_state['epoch_index'] = epoch_index\n",
        "\n",
        "        # Iterate over training dataset\n",
        "\n",
        "        # setup: batch generator, set loss and acc to 0, set train mode on\n",
        "        dataset.set_split('train')\n",
        "        batch_generator = generate_nmt_batches(dataset, \n",
        "                                               batch_size=args.batch_size, \n",
        "                                               device=args.device)\n",
        "        running_loss = 0.0\n",
        "        running_acc = 0.0\n",
        "        model_la.train()\n",
        "        \n",
        "        for batch_index, batch_dict in enumerate(batch_generator):\n",
        "            # the training routine is these 5 steps:\n",
        "\n",
        "            # --------------------------------------    \n",
        "            # step 1. zero the gradients\n",
        "            optimizer.zero_grad()\n",
        "\n",
        "            # step 2. compute the output\n",
        "            y_pred = model_la(batch_dict['x_source'], \n",
        "                           batch_dict['x_source_length'], \n",
        "                           batch_dict['x_target'],\n",
        "                           sample_probability=sample_probability)\n",
        "\n",
        "            # step 3. compute the loss\n",
        "            loss = sequence_loss(y_pred, batch_dict['y_target'], mask_index)\n",
        "\n",
        "            # step 4. use loss to produce gradients\n",
        "            loss.backward()\n",
        "\n",
        "            # step 5. use optimizer to take gradient step\n",
        "            optimizer.step()\n",
        "\n",
        "            # -----------------------------------------\n",
        "            # compute the running loss and running accuracy\n",
        "            running_loss += (loss.item() - running_loss) / (batch_index + 1)\n",
        "\n",
        "            acc_t = compute_accuracy(y_pred, batch_dict['y_target'], mask_index)\n",
        "            running_acc += (acc_t - running_acc) / (batch_index + 1)\n",
        "\n",
        "            # update bar\n",
        "            train_bar.set_postfix(loss=running_loss, acc=running_acc, \n",
        "                                  epoch=epoch_index)\n",
        "            train_bar.update()\n",
        "\n",
        "        train_state['train_loss'].append(running_loss)\n",
        "        train_state['train_acc'].append(running_acc)\n",
        "\n",
        "        # Iterate over val dataset\n",
        "\n",
        "        # setup: batch generator, set loss and acc to 0; set eval mode on\n",
        "        dataset.set_split('val')\n",
        "        batch_generator = generate_nmt_batches(dataset, \n",
        "                                               batch_size=args.batch_size, \n",
        "                                               device=args.device)\n",
        "        running_loss = 0.\n",
        "        running_acc = 0.\n",
        "        model_la.eval()\n",
        "\n",
        "        for batch_index, batch_dict in enumerate(batch_generator):\n",
        "            # compute the output\n",
        "            y_pred = model_la(batch_dict['x_source'], \n",
        "                           batch_dict['x_source_length'], \n",
        "                           batch_dict['x_target'],\n",
        "                           sample_probability=sample_probability)\n",
        "\n",
        "            # step 3. compute the loss\n",
        "            loss = sequence_loss(y_pred, batch_dict['y_target'], mask_index)\n",
        "\n",
        "            # compute the running loss and accuracy\n",
        "            running_loss += (loss.item() - running_loss) / (batch_index + 1)\n",
        "            \n",
        "            acc_t = compute_accuracy(y_pred, batch_dict['y_target'], mask_index)\n",
        "            running_acc += (acc_t - running_acc) / (batch_index + 1)\n",
        "            \n",
        "            # Update bar\n",
        "            val_bar.set_postfix(loss=running_loss, acc=running_acc, \n",
        "                            epoch=epoch_index)\n",
        "            val_bar.update()\n",
        "\n",
        "        train_state['val_loss'].append(running_loss)\n",
        "        train_state['val_acc'].append(running_acc)\n",
        "\n",
        "        train_state = update_train_state(args=args, model=model_la, \n",
        "                                         train_state=train_state)\n",
        "\n",
        "        scheduler.step(train_state['val_loss'][-1])\n",
        "\n",
        "        if train_state['stop_early']:\n",
        "            break\n",
        "        \n",
        "        train_bar.n = 0\n",
        "        val_bar.n = 0\n",
        "        epoch_bar.set_postfix(best_val=train_state['early_stopping_best_val'])\n",
        "        epoch_bar.update()\n",
        "        \n",
        "except KeyboardInterrupt:\n",
        "    print(\"Exiting loop\")\n",
        "\n",
        "r = [time.time() - star]"
      ],
      "execution_count": null,
      "outputs": [
        {
          "output_type": "display_data",
          "data": {
            "application/vnd.jupyter.widget-view+json": {
              "model_id": "c5b9c95b9b4247d68be92ac11f74a99e",
              "version_minor": 0,
              "version_major": 2
            },
            "text/plain": [
              "HBox(children=(FloatProgress(value=0.0, description='training routine', max=50.0, style=ProgressStyle(descript…"
            ]
          },
          "metadata": {
            "tags": []
          }
        },
        {
          "output_type": "display_data",
          "data": {
            "application/vnd.jupyter.widget-view+json": {
              "model_id": "064f285ba22f48b69a5b93fb1c4dc2ac",
              "version_minor": 0,
              "version_major": 2
            },
            "text/plain": [
              "HBox(children=(FloatProgress(value=0.0, description='split=train', max=285.0, style=ProgressStyle(description_…"
            ]
          },
          "metadata": {
            "tags": []
          }
        },
        {
          "output_type": "display_data",
          "data": {
            "application/vnd.jupyter.widget-view+json": {
              "model_id": "b48709a107ae454c89afe03d8dbcc1bc",
              "version_minor": 0,
              "version_major": 2
            },
            "text/plain": [
              "HBox(children=(FloatProgress(value=0.0, description='split=val', max=61.0, style=ProgressStyle(description_wid…"
            ]
          },
          "metadata": {
            "tags": []
          }
        }
      ]
    },
    {
      "cell_type": "markdown",
      "metadata": {
        "id": "F-HU7cxV6zVk"
      },
      "source": [
        "# 6. Visualice cada una de las atenciones anteriores."
      ]
    },
    {
      "cell_type": "markdown",
      "metadata": {
        "id": "W4d_lQM2FBKv"
      },
      "source": [
        "## Evaluate Hard Attention"
      ]
    },
    {
      "cell_type": "code",
      "metadata": {
        "id": "jPYijNTCFBKx"
      },
      "source": [
        "model_ha = model_ha.eval().to(args.device)\n",
        "\n",
        "sampler = NMTSampler(vectorizer, model_ha)\n",
        "\n",
        "dataset.set_split('test')\n",
        "batch_generator = generate_nmt_batches(dataset, \n",
        "                                       batch_size=args.batch_size, \n",
        "                                       device=args.device)\n",
        "\n",
        "test_results = []\n",
        "for batch_dict in batch_generator:\n",
        "    sampler.apply_to_batch(batch_dict)\n",
        "    for i in range(args.batch_size):\n",
        "        test_results.append(sampler.get_ith_item(i, False))"
      ],
      "execution_count": null,
      "outputs": []
    },
    {
      "cell_type": "code",
      "metadata": {
        "colab": {
          "base_uri": "https://localhost:8080/",
          "height": 282
        },
        "id": "dKQoLuP-FBKy",
        "outputId": "3e73088a-4cc9-471d-ea33-a14b5cb3c7c8"
      },
      "source": [
        "plt.hist([r['bleu-4'] for r in test_results], bins=100);\n",
        "mean   = np.mean([r['bleu-4'] for r in test_results])\n",
        "median = np.median([r['bleu-4'] for r in test_results])\n",
        "\n",
        "r.append(mean)\n",
        "r.append(median)\n",
        "\n",
        "mean, median"
      ],
      "execution_count": null,
      "outputs": [
        {
          "output_type": "execute_result",
          "data": {
            "text/plain": [
              "(0.3226346733080488, 0.3078188554928451)"
            ]
          },
          "metadata": {
            "tags": []
          },
          "execution_count": 69
        },
        {
          "output_type": "display_data",
          "data": {
            "image/png": "[encoded data removed]",
            "text/plain": [
              "<Figure size 432x288 with 1 Axes>"
            ]
          },
          "metadata": {
            "tags": [],
            "needs_background": "light"
          }
        }
      ]
    },
    {
      "cell_type": "code",
      "metadata": {
        "id": "3P_YQbrSFBKz"
      },
      "source": [
        "# Agrego a resultados principales\n",
        "results.append(r)"
      ],
      "execution_count": null,
      "outputs": []
    },
    {
      "cell_type": "code",
      "metadata": {
        "id": "cYlFeKzZFBKz"
      },
      "source": [
        "dataset.set_split('val')\n",
        "batch_generator = generate_nmt_batches(dataset, \n",
        "                                       batch_size=args.batch_size, \n",
        "                                       device=args.device)\n",
        "batch_dict = next(batch_generator)\n",
        "\n",
        "model_ha = model_ha.eval().to(args.device)\n",
        "sampler = NMTSampler(vectorizer, model_ha)\n",
        "sampler.apply_to_batch(batch_dict)"
      ],
      "execution_count": null,
      "outputs": []
    },
    {
      "cell_type": "code",
      "metadata": {
        "id": "4RAu2m8XFBK0"
      },
      "source": [
        "all_results = []\n",
        "for i in range(args.batch_size):\n",
        "    all_results.append(sampler.get_ith_item(i, False))"
      ],
      "execution_count": null,
      "outputs": []
    },
    {
      "cell_type": "code",
      "metadata": {
        "colab": {
          "base_uri": "https://localhost:8080/"
        },
        "id": "7UKb93TpFBK1",
        "outputId": "b40e62c5-5740-4ee3-d608-556fef1991e0"
      },
      "source": [
        "top_results = [x for x in all_results if x['bleu-4'] > 0.5]\n",
        "len(top_results)"
      ],
      "execution_count": null,
      "outputs": [
        {
          "output_type": "execute_result",
          "data": {
            "text/plain": [
              "9"
            ]
          },
          "metadata": {
            "tags": []
          },
          "execution_count": 73
        }
      ]
    },
    {
      "cell_type": "code",
      "metadata": {
        "colab": {
          "base_uri": "https://localhost:8080/",
          "height": 1000
        },
        "id": "UGV4CK0oFBK1",
        "outputId": "c62eac33-03e2-4972-f15f-8881f9fcbdbd"
      },
      "source": [
        "for sample in top_results:\n",
        "    plt.figure()\n",
        "    target_len = len(sample['sampled'])\n",
        "    source_len = len(sample['source'])\n",
        "\n",
        "    attention_matrix = sample['attention'][:target_len, :source_len+2].transpose()#[::-1]\n",
        "    ax = sns.heatmap(attention_matrix, center=0.0)\n",
        "    ylabs = [\"<BOS>\"]+sample['source']+[\"<EOS>\"]\n",
        "    #ylabs = sample['source']\n",
        "    #ylabs = ylabs[::-1]\n",
        "    ax.set_yticklabels(ylabs, rotation=0)\n",
        "    ax.set_xticklabels(sample['sampled'], rotation=90)\n",
        "    ax.set_xlabel(\"Target Sentence\")\n",
        "    ax.set_ylabel(\"Source Sentence\\n\\n\")"
      ],
      "execution_count": null,
      "outputs": [
        {
          "output_type": "display_data",
          "data": {
            "image/png": "[encoded data removed]",
            "text/plain": [
              "<Figure size 432x288 with 2 Axes>"
            ]
          },
          "metadata": {
            "tags": [],
            "needs_background": "light"
          }
        },
        {
          "output_type": "display_data",
          "data": {
            "image/png": "[encoded data removed]",
            "text/plain": [
              "<Figure size 432x288 with 2 Axes>"
            ]
          },
          "metadata": {
            "tags": [],
            "needs_background": "light"
          }
        },
        {
          "output_type": "display_data",
          "data": {
            "image/png": "[encoded data removed]",
            "text/plain": [
              "<Figure size 432x288 with 2 Axes>"
            ]
          },
          "metadata": {
            "tags": [],
            "needs_background": "light"
          }
        },
        {
          "output_type": "display_data",
          "data": {
            "image/png": "[encoded data removed]",
            "text/plain": [
              "<Figure size 432x288 with 2 Axes>"
            ]
          },
          "metadata": {
            "tags": [],
            "needs_background": "light"
          }
        },
        {
          "output_type": "display_data",
          "data": {
            "image/png": "[encoded data removed]",
            "text/plain": [
              "<Figure size 432x288 with 2 Axes>"
            ]
          },
          "metadata": {
            "tags": [],
            "needs_background": "light"
          }
        },
        {
          "output_type": "display_data",
          "data": {
            "image/png": "[encoded data removed]",
            "text/plain": [
              "<Figure size 432x288 with 2 Axes>"
            ]
          },
          "metadata": {
            "tags": [],
            "needs_background": "light"
          }
        },
        {
          "output_type": "display_data",
          "data": {
            "image/png": "[encoded data removed]",
            "text/plain": [
              "<Figure size 432x288 with 2 Axes>"
            ]
          },
          "metadata": {
            "tags": [],
            "needs_background": "light"
          }
        },
        {
          "output_type": "display_data",
          "data": {
            "image/png": "[encoded data removed]",
            "text/plain": [
              "<Figure size 432x288 with 2 Axes>"
            ]
          },
          "metadata": {
            "tags": [],
            "needs_background": "light"
          }
        },
        {
          "output_type": "display_data",
          "data": {
            "image/png": "[encoded data removed]",
            "text/plain": [
              "<Figure size 432x288 with 2 Axes>"
            ]
          },
          "metadata": {
            "tags": [],
            "needs_background": "light"
          }
        }
      ]
    },
    {
      "cell_type": "markdown",
      "metadata": {
        "id": "hnyO1zGQFBK2"
      },
      "source": [
        "## Evaluate Soft Attention"
      ]
    },
    {
      "cell_type": "code",
      "metadata": {
        "id": "crYwSmh7FBK2"
      },
      "source": [
        "model_sa = model_sa.eval().to(args.device)\n",
        "\n",
        "sampler = NMTSampler(vectorizer, model_sa)\n",
        "\n",
        "dataset.set_split('test')\n",
        "batch_generator = generate_nmt_batches(dataset, \n",
        "                                       batch_size=args.batch_size, \n",
        "                                       device=args.device)\n",
        "\n",
        "test_results = []\n",
        "for batch_dict in batch_generator:\n",
        "    sampler.apply_to_batch(batch_dict)\n",
        "    for i in range(args.batch_size):\n",
        "        test_results.append(sampler.get_ith_item(i, False))"
      ],
      "execution_count": null,
      "outputs": []
    },
    {
      "cell_type": "code",
      "metadata": {
        "colab": {
          "base_uri": "https://localhost:8080/",
          "height": 282
        },
        "id": "_ZC2slCPFBK3",
        "outputId": "07f4860e-ce64-4f0f-ffb5-82223fb0c96c"
      },
      "source": [
        "plt.hist([r['bleu-4'] for r in test_results], bins=100);\n",
        "mean   = np.mean([r['bleu-4'] for r in test_results])\n",
        "median = np.median([r['bleu-4'] for r in test_results])\n",
        "\n",
        "r.append(mean)\n",
        "r.append(median)\n",
        "\n",
        "mean, median"
      ],
      "execution_count": null,
      "outputs": [
        {
          "output_type": "execute_result",
          "data": {
            "text/plain": [
              "(0.31400972964596996, 0.30098669155282154)"
            ]
          },
          "metadata": {
            "tags": []
          },
          "execution_count": 81
        },
        {
          "output_type": "display_data",
          "data": {
            "image/png": "[encoded data removed]",
            "text/plain": [
              "<Figure size 432x288 with 1 Axes>"
            ]
          },
          "metadata": {
            "tags": [],
            "needs_background": "light"
          }
        }
      ]
    },
    {
      "cell_type": "code",
      "metadata": {
        "id": "k_etw-7kFBK3"
      },
      "source": [
        "# Agrego a resultados principales\n",
        "results.append(r)"
      ],
      "execution_count": null,
      "outputs": []
    },
    {
      "cell_type": "code",
      "metadata": {
        "id": "ccXa6_-ZFBK4"
      },
      "source": [
        "dataset.set_split('val')\n",
        "batch_generator = generate_nmt_batches(dataset, \n",
        "                                       batch_size=args.batch_size, \n",
        "                                       device=args.device)\n",
        "batch_dict = next(batch_generator)\n",
        "\n",
        "model_sa = model_sa.eval().to(args.device)\n",
        "sampler = NMTSampler(vectorizer, model_sa)\n",
        "sampler.apply_to_batch(batch_dict)"
      ],
      "execution_count": null,
      "outputs": []
    },
    {
      "cell_type": "code",
      "metadata": {
        "id": "5BjTOCDFFBK4"
      },
      "source": [
        "all_results = []\n",
        "for i in range(args.batch_size):\n",
        "    all_results.append(sampler.get_ith_item(i, False))"
      ],
      "execution_count": null,
      "outputs": []
    },
    {
      "cell_type": "code",
      "metadata": {
        "colab": {
          "base_uri": "https://localhost:8080/"
        },
        "id": "gVWwG_VeFBK4",
        "outputId": "8a8cc412-200a-4a8e-ce89-d699910fcd22"
      },
      "source": [
        "top_results = [x for x in all_results if x['bleu-4']>0.5]\n",
        "len(top_results)"
      ],
      "execution_count": null,
      "outputs": [
        {
          "output_type": "execute_result",
          "data": {
            "text/plain": [
              "10"
            ]
          },
          "metadata": {
            "tags": []
          },
          "execution_count": 85
        }
      ]
    },
    {
      "cell_type": "code",
      "metadata": {
        "colab": {
          "base_uri": "https://localhost:8080/",
          "height": 1000
        },
        "id": "6AshRWIcFBK5",
        "outputId": "5afd843c-3050-4d25-d4b7-7f0ad6258c3e"
      },
      "source": [
        "for sample in top_results:\n",
        "    plt.figure()\n",
        "    target_len = len(sample['sampled'])\n",
        "    source_len = len(sample['source'])\n",
        "\n",
        "    attention_matrix = sample['attention'][:target_len, :source_len+2].transpose()#[::-1]\n",
        "    ax = sns.heatmap(attention_matrix, center=0.0)\n",
        "    ylabs = [\"<BOS>\"]+sample['source']+[\"<EOS>\"]\n",
        "    #ylabs = sample['source']\n",
        "    #ylabs = ylabs[::-1]\n",
        "    ax.set_yticklabels(ylabs, rotation=0)\n",
        "    ax.set_xticklabels(sample['sampled'], rotation=90)\n",
        "    ax.set_xlabel(\"Target Sentence\")\n",
        "    ax.set_ylabel(\"Source Sentence\\n\\n\")"
      ],
      "execution_count": null,
      "outputs": [
        {
          "output_type": "display_data",
          "data": {
            "image/png": "[encoded data removed]",
            "text/plain": [
              "<Figure size 432x288 with 2 Axes>"
            ]
          },
          "metadata": {
            "tags": [],
            "needs_background": "light"
          }
        },
        {
          "output_type": "display_data",
          "data": {
            "image/png": "[encoded data removed]",
            "text/plain": [
              "<Figure size 432x288 with 2 Axes>"
            ]
          },
          "metadata": {
            "tags": [],
            "needs_background": "light"
          }
        },
        {
          "output_type": "display_data",
          "data": {
            "image/png": "[encoded data removed]",
            "text/plain": [
              "<Figure size 432x288 with 2 Axes>"
            ]
          },
          "metadata": {
            "tags": [],
            "needs_background": "light"
          }
        },
        {
          "output_type": "display_data",
          "data": {
            "image/png": "[encoded data removed]",
            "text/plain": [
              "<Figure size 432x288 with 2 Axes>"
            ]
          },
          "metadata": {
            "tags": [],
            "needs_background": "light"
          }
        },
        {
          "output_type": "display_data",
          "data": {
            "image/png": "[encoded data removed]",
            "text/plain": [
              "<Figure size 432x288 with 2 Axes>"
            ]
          },
          "metadata": {
            "tags": [],
            "needs_background": "light"
          }
        },
        {
          "output_type": "display_data",
          "data": {
            "image/png": "[encoded data removed]",
            "text/plain": [
              "<Figure size 432x288 with 2 Axes>"
            ]
          },
          "metadata": {
            "tags": [],
            "needs_background": "light"
          }
        },
        {
          "output_type": "display_data",
          "data": {
            "image/png": "[encoded data removed]",
            "text/plain": [
              "<Figure size 432x288 with 2 Axes>"
            ]
          },
          "metadata": {
            "tags": [],
            "needs_background": "light"
          }
        },
        {
          "output_type": "display_data",
          "data": {
            "image/png": "[encoded data removed]",
            "text/plain": [
              "<Figure size 432x288 with 2 Axes>"
            ]
          },
          "metadata": {
            "tags": [],
            "needs_background": "light"
          }
        },
        {
          "output_type": "display_data",
          "data": {
            "image/png": "[encoded data removed]",
            "text/plain": [
              "<Figure size 432x288 with 2 Axes>"
            ]
          },
          "metadata": {
            "tags": [],
            "needs_background": "light"
          }
        },
        {
          "output_type": "display_data",
          "data": {
            "image/png": "[encoded data removed]",
            "text/plain": [
              "<Figure size 432x288 with 2 Axes>"
            ]
          },
          "metadata": {
            "tags": [],
            "needs_background": "light"
          }
        }
      ]
    },
    {
      "cell_type": "markdown",
      "metadata": {
        "id": "kd9Kd26iFBK5"
      },
      "source": [
        "## Evaluate Local Attention"
      ]
    },
    {
      "cell_type": "code",
      "metadata": {
        "id": "ZiF15fkoFBK6"
      },
      "source": [
        "model_la = model_la.eval().to(args.device)\n",
        "\n",
        "sampler = NMTSampler(vectorizer, model_la)\n",
        "\n",
        "dataset.set_split('test')\n",
        "batch_generator = generate_nmt_batches(dataset, \n",
        "                                       batch_size=args.batch_size, \n",
        "                                       device=args.device)\n",
        "\n",
        "test_results = []\n",
        "for batch_dict in batch_generator:\n",
        "    sampler.apply_to_batch(batch_dict)\n",
        "    for i in range(args.batch_size):\n",
        "        test_results.append(sampler.get_ith_item(i, False))"
      ],
      "execution_count": null,
      "outputs": []
    },
    {
      "cell_type": "code",
      "metadata": {
        "colab": {
          "base_uri": "https://localhost:8080/",
          "height": 282
        },
        "id": "qVEeLlf3FBK6",
        "outputId": "94706be8-13c4-4f67-ee6f-ef8cec7ebd51"
      },
      "source": [
        "plt.hist([r['bleu-4'] for r in test_results], bins=100);\n",
        "mean   = np.mean([r['bleu-4'] for r in test_results])\n",
        "median = np.median([r['bleu-4'] for r in test_results])\n",
        "\n",
        "r.append(mean)\n",
        "r.append(median)\n",
        "\n",
        "mean, median"
      ],
      "execution_count": null,
      "outputs": [
        {
          "output_type": "execute_result",
          "data": {
            "text/plain": [
              "(0.30733168019302604, 0.2917659969969817)"
            ]
          },
          "metadata": {
            "tags": []
          },
          "execution_count": 92
        },
        {
          "output_type": "display_data",
          "data": {
            "image/png": "[encoded data removed]",
            "text/plain": [
              "<Figure size 432x288 with 1 Axes>"
            ]
          },
          "metadata": {
            "tags": [],
            "needs_background": "light"
          }
        }
      ]
    },
    {
      "cell_type": "code",
      "metadata": {
        "id": "x0tp8DSZFBK7"
      },
      "source": [
        "# Agrego a resultados principales\n",
        "results.append(r)"
      ],
      "execution_count": null,
      "outputs": []
    },
    {
      "cell_type": "code",
      "metadata": {
        "id": "kmD6nwjVFBK7"
      },
      "source": [
        "dataset.set_split('val')\n",
        "batch_generator = generate_nmt_batches(dataset, \n",
        "                                       batch_size=args.batch_size, \n",
        "                                       device=args.device)\n",
        "batch_dict = next(batch_generator)\n",
        "\n",
        "model_la = model_la.eval().to(args.device)\n",
        "sampler = NMTSampler(vectorizer, model_la)\n",
        "sampler.apply_to_batch(batch_dict)"
      ],
      "execution_count": null,
      "outputs": []
    },
    {
      "cell_type": "code",
      "metadata": {
        "id": "vagZ6TS-FBK7"
      },
      "source": [
        "all_results = []\n",
        "for i in range(args.batch_size):\n",
        "    all_results.append(sampler.get_ith_item(i, False))"
      ],
      "execution_count": null,
      "outputs": []
    },
    {
      "cell_type": "code",
      "metadata": {
        "colab": {
          "base_uri": "https://localhost:8080/"
        },
        "id": "oI_mQ0iKFBK7",
        "outputId": "78903029-fcbd-4dab-9f0d-e44539d6863d"
      },
      "source": [
        "top_results = [x for x in all_results if x['bleu-4']>0.5]\n",
        "len(top_results)"
      ],
      "execution_count": null,
      "outputs": [
        {
          "output_type": "execute_result",
          "data": {
            "text/plain": [
              "6"
            ]
          },
          "metadata": {
            "tags": []
          },
          "execution_count": 96
        }
      ]
    },
    {
      "cell_type": "code",
      "metadata": {
        "colab": {
          "base_uri": "https://localhost:8080/",
          "height": 1000
        },
        "id": "a-cZFLTJFBK8",
        "outputId": "b63fd095-cfaf-426f-acad-c259dd64bfc4"
      },
      "source": [
        "for sample in top_results:\n",
        "    plt.figure()\n",
        "    target_len = len(sample['sampled'])\n",
        "    source_len = len(sample['source'])\n",
        "\n",
        "    attention_matrix = sample['attention'][:target_len, :source_len+2].transpose()#[::-1]\n",
        "    ax = sns.heatmap(attention_matrix, center=0.0)\n",
        "    ylabs = [\"<BOS>\"]+sample['source']+[\"<EOS>\"]\n",
        "    #ylabs = sample['source']\n",
        "    #ylabs = ylabs[::-1]\n",
        "    ax.set_yticklabels(ylabs, rotation=0)\n",
        "    ax.set_xticklabels(sample['sampled'], rotation=90)\n",
        "    ax.set_xlabel(\"Target Sentence\")\n",
        "    ax.set_ylabel(\"Source Sentence\\n\\n\")"
      ],
      "execution_count": null,
      "outputs": [
        {
          "output_type": "display_data",
          "data": {
            "image/png": "[encoded data removed]",
            "text/plain": [
              "<Figure size 432x288 with 2 Axes>"
            ]
          },
          "metadata": {
            "tags": [],
            "needs_background": "light"
          }
        },
        {
          "output_type": "display_data",
          "data": {
            "image/png": "[encoded data removed]",
            "text/plain": [
              "<Figure size 432x288 with 2 Axes>"
            ]
          },
          "metadata": {
            "tags": [],
            "needs_background": "light"
          }
        },
        {
          "output_type": "display_data",
          "data": {
            "image/png": "[encoded data removed]",
            "text/plain": [
              "<Figure size 432x288 with 2 Axes>"
            ]
          },
          "metadata": {
            "tags": [],
            "needs_background": "light"
          }
        },
        {
          "output_type": "display_data",
          "data": {
            "image/png": "[encoded data removed]",
            "text/plain": [
              "<Figure size 432x288 with 2 Axes>"
            ]
          },
          "metadata": {
            "tags": [],
            "needs_background": "light"
          }
        },
        {
          "output_type": "display_data",
          "data": {
            "image/png": "[encoded data removed]",
            "text/plain": [
              "<Figure size 432x288 with 2 Axes>"
            ]
          },
          "metadata": {
            "tags": [],
            "needs_background": "light"
          }
        },
        {
          "output_type": "display_data",
          "data": {
            "image/png": "[encoded data removed]",
            "text/plain": [
              "<Figure size 432x288 with 2 Axes>"
            ]
          },
          "metadata": {
            "tags": [],
            "needs_background": "light"
          }
        }
      ]
    },
    {
      "cell_type": "markdown",
      "metadata": {
        "id": "UE6O_kCg66Hl"
      },
      "source": [
        "# 7. Compare el Rendimiento de las atenciones anteriores."
      ]
    },
    {
      "cell_type": "code",
      "metadata": {
        "colab": {
          "base_uri": "https://localhost:8080/",
          "height": 142
        },
        "id": "6r8jr64P55fB",
        "outputId": "1590f31b-341f-4712-e548-c2f31b86ec6a"
      },
      "source": [
        "training = {'Hard-Attention': {'Time': results[0][0], 'bleu-mean': results[0][1],'bleu-median': results[0][2]}, \n",
        "            'Soft-Attention': {'Time': results[1][0], 'bleu-mean': results[1][1],'bleu-median': results[1][2]}, \n",
        "            'Local-Attention': {'Time': results[2][0], 'bleu-mean': results[2][1],'bleu-median': results[2][2]}\n",
        "            }\n",
        "pd.DataFrame(training).T"
      ],
      "execution_count": null,
      "outputs": [
        {
          "output_type": "execute_result",
          "data": {
            "text/html": [
              "<div>\n",
              "<style scoped>\n",
              "    .dataframe tbody tr th:only-of-type {\n",
              "        vertical-align: middle;\n",
              "    }\n",
              "\n",
              "    .dataframe tbody tr th {\n",
              "        vertical-align: top;\n",
              "    }\n",
              "\n",
              "    .dataframe thead th {\n",
              "        text-align: right;\n",
              "    }\n",
              "</style>\n",
              "<table border=\"1\" class=\"dataframe\">\n",
              "  <thead>\n",
              "    <tr style=\"text-align: right;\">\n",
              "      <th></th>\n",
              "      <th>Time</th>\n",
              "      <th>bleu-mean</th>\n",
              "      <th>bleu-median</th>\n",
              "    </tr>\n",
              "  </thead>\n",
              "  <tbody>\n",
              "    <tr>\n",
              "      <th>Hard-Attention</th>\n",
              "      <td>1525.573618</td>\n",
              "      <td>0.322635</td>\n",
              "      <td>0.307819</td>\n",
              "    </tr>\n",
              "    <tr>\n",
              "      <th>Soft-Attention</th>\n",
              "      <td>950.445974</td>\n",
              "      <td>0.314010</td>\n",
              "      <td>0.300987</td>\n",
              "    </tr>\n",
              "    <tr>\n",
              "      <th>Local-Attention</th>\n",
              "      <td>1688.071329</td>\n",
              "      <td>0.307332</td>\n",
              "      <td>0.291766</td>\n",
              "    </tr>\n",
              "  </tbody>\n",
              "</table>\n",
              "</div>"
            ],
            "text/plain": [
              "                        Time  bleu-mean  bleu-median\n",
              "Hard-Attention   1525.573618   0.322635     0.307819\n",
              "Soft-Attention    950.445974   0.314010     0.300987\n",
              "Local-Attention  1688.071329   0.307332     0.291766"
            ]
          },
          "metadata": {
            "tags": []
          },
          "execution_count": 102
        }
      ]
    },
    {
      "cell_type": "markdown",
      "metadata": {
        "id": "1hoBqTnG6_59"
      },
      "source": [
        "# 8. Elabore una discusión en el notebook de entre 250 y 400 palabras de lo que observo y su interpretación."
      ]
    },
    {
      "cell_type": "markdown",
      "metadata": {
        "id": "X-yGhkEbJ8Eg"
      },
      "source": [
        "En Soft-Attention se consideran todos los estados ocultos del codificador para obtener la matriz de pesos del decodificador. Además la importancia de cada estado oculto se aprende al mismo tiempo que la red e entrena, lo que hace más costoso el entrenamiento.\n",
        "\n",
        "En Hard Attention sólo se considera el estado oculto de mayor relevancia, por ejemplo, con mayor score. Para esta imlementanción se obtuvo el score con el producto punto y luego se eligió el de norma mayor.\n",
        "\n",
        "Local attention es una combinación de hard y soft attention. Donde se usa una ventana pequeña de los estados ocultos del encoder para calcular el contexto. Aquí también se aprende la matriz de pesos para ponderar los estados ocultos. Por lo que el entrenamiento es costoso en términos de recursos computacionales.\n",
        "\n",
        "En cuanto a acurracy se observó un resultados similar para los tres métodos pero hard attention obtuvo en mejor rsultado en cuando al blue-score. En términos de tiempo de entrenamiento, Soft-Attention fue el que obtuvo mejor rendimiento. Como se esperaba, local attention fue el que más tiempo de entrenamiento tomó.\n",
        "\n",
        "En cuanto a los mapas de calor, los resultados más favorables fueron obtenidos por soft-attention, donde se observan más entradas distintas de cero.\n",
        "\n"
      ]
    }
  ]
}