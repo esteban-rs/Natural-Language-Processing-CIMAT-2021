{
 "cells": [
  {
   "cell_type": "code",
   "execution_count": 1,
   "metadata": {},
   "outputs": [
    {
     "name": "stdout",
     "output_type": "stream",
     "text": [
      "Requirement already satisfied: wget in c:\\users\\esteb\\anaconda3\\lib\\site-packages (3.2)\n",
      "Note: you may need to restart the kernel to use updated packages.\n"
     ]
    }
   ],
   "source": [
    "pip install wget"
   ]
  },
  {
   "cell_type": "code",
   "execution_count": 1,
   "metadata": {},
   "outputs": [],
   "source": [
    "import wget"
   ]
  },
  {
   "cell_type": "code",
   "execution_count": 2,
   "metadata": {},
   "outputs": [],
   "source": [
    "import glob\n",
    "import io\n",
    "\n",
    "# Extraer páginas\n",
    "url_pagina_i = \"https://presidente.gob.mx/secciones/version-estenografica/page/\"\n",
    "num_paginas = 69\n",
    "\n",
    "for i in range(num_paginas):\n",
    "    wget.download(url = url_pagina_i + str(i+1) + \"/\", out=\"./paginas/\" + str(i+1) + \".txt\")\n",
    "    "
   ]
  },
  {
   "cell_type": "code",
   "execution_count": 4,
   "metadata": {},
   "outputs": [],
   "source": [
    "import re\n",
    "#lista para guardar conferencias\n",
    "urls_conf = []\n",
    "\n",
    "for f_pagina in glob.glob(\"./paginas/*\"):\n",
    "    #print(f_pagina)\n",
    "    urls_conf += [path for protocol, domain, path in \n",
    "                  re.findall('(http|ftp|https)://([\\w_-]+(?:(?:\\.[\\w_-]+)+))([\\w.,@?^=%&:/~+#-]*[\\w@?^=%&/~+#-])?',\n",
    "                            open(f_pagina, \"r\", encoding=\"utf-8\").read())\n",
    "                if \"estenografica-de-la\" in path]"
   ]
  },
  {
   "cell_type": "code",
   "execution_count": 5,
   "metadata": {},
   "outputs": [
    {
     "data": {
      "text/plain": [
       "['/version-estenografica-de-la-conferencia-de-prensa-matutina-del-presidente-andres-manuel-lopez-obrador-13/',\n",
       " '/version-estenografica-de-la-conferencia-de-prensa-matutina-del-presidente-andres-manuel-lopez-obrador-13/',\n",
       " '/version-estenografica-de-la-conferencia-de-prensa-matutina-del-presidente-andres-manuel-lopez-obrador-12/']"
      ]
     },
     "execution_count": 5,
     "metadata": {},
     "output_type": "execute_result"
    }
   ],
   "source": [
    "urls_conf[:3]"
   ]
  },
  {
   "cell_type": "code",
   "execution_count": 6,
   "metadata": {},
   "outputs": [
    {
     "data": {
      "text/plain": [
       "535"
      ]
     },
     "execution_count": 6,
     "metadata": {},
     "output_type": "execute_result"
    }
   ],
   "source": [
    "len(set(urls_conf))"
   ]
  },
  {
   "cell_type": "code",
   "execution_count": 8,
   "metadata": {},
   "outputs": [],
   "source": [
    "urls_conf_set = list(set(urls_conf))"
   ]
  },
  {
   "cell_type": "code",
   "execution_count": 10,
   "metadata": {},
   "outputs": [],
   "source": [
    "for path in urls_conf_set:\n",
    "    f = wget.download(url = \"https://presidente.gob.mx\" + path,\n",
    "                   out = \"./estenograficas/\" + path.replace(\"/\",\"-\"))[0]"
   ]
  },
  {
   "cell_type": "code",
   "execution_count": 11,
   "metadata": {},
   "outputs": [],
   "source": [
    "# Limpiar html\n",
    "from bs4 import BeautifulSoup\n",
    "\n",
    "for f_pagina in glob.glob(\"./estenograficas/*\"):\n",
    "    soup = BeautifulSoup(open(f_pagina, \"r\", encoding = \"utf-8\").read(), 'html.parser')\n",
    "    open(\"./estenograficas_limpias/\" + f_pagina.replace(\"./estenograficas/\",\"\"),\n",
    "         \"w\",\n",
    "        encoding = \"utf-8\").write(soup.get_text())"
   ]
  },
  {
   "cell_type": "code",
   "execution_count": 14,
   "metadata": {},
   "outputs": [
    {
     "name": "stdout",
     "output_type": "stream",
     "text": [
      "SEGUNDA: ./estenograficas_limpias/-version-estenografica-de-la-conferencia-de-prensa-matutina-del-presidente-andres-manuel-lopez-obrador-19-\n",
      "RARO:  ./estenograficas_limpias/-29-0920-version-estenografica-de-la-conferencia-de-prensa-matutina-del-presidente-andres-manuel-lopez-obrador-\n",
      "SEGUNDA: ./estenograficas_limpias/-version-estenografica-de-la-conferencia-de-prensa-extraordinaria-del-presidente-andres-manuel-lopez-obrador-2-\n",
      "RARO:  ./estenograficas_limpias/-08-1020-version-estenografica-de-la-conferencia-de-prensa-matutina-del-presidente-andres-manuel-lopez-obrador-\n",
      "RARO:  ./estenograficas_limpias/-version-estenografica-de-la-conferencia-de-prensa-matutina-del-presidente-andres-manuel-lopez-obrador-67-\n",
      "SEGUNDA: ./estenograficas_limpias/-version-estenografica-de-la-conferencia-de-prensa-matutina-del-presidente-andres-manuel-lopez-obrador-21-\n",
      "SEGUNDA: ./estenograficas_limpias/-version-estenografica-de-la-inauguracion-de-las-oficinas-del-imss-en-morelia-michoacan-\n",
      "TERCERA: ./estenograficas_limpias/-version-estenografica-de-la-conferencia-de-prensa-extraordinaria-del-presidente-andres-manuel-lopez-obrador-\n",
      "SEGUNDA: ./estenograficas_limpias/-29-05-19-version-estenografica-de-la-conferencia-de-prensa-matutina-del-presidente-andres-manuel-lopez-obrador-2-\n"
     ]
    }
   ],
   "source": [
    "import os\n",
    "from datetime import datetime\n",
    "\n",
    "fechas_conferencia = []\n",
    "\n",
    "def normaliza(str_fecha):\n",
    "    datetimeobject = datetime.strptime(str_fecha[:6] + \"20\" + str_fecha[6:],'%d.%m.%Y')\n",
    "    newformat = datetimeobject.strftime('%Y-%m-%d')\n",
    "    return newformat\n",
    "\n",
    "for f_pagina in glob.glob(\"./estenograficas_limpias/*\"):\n",
    "    texto = open(f_pagina,\"r\", encoding = \"utf-8\").read()\n",
    "    fechas_en_archivo = re.findall('[0-9][0-9]\\.[0-9][0-9]\\.[0-9][0-9]', texto)\n",
    "    #print(fechas_en_archivo)\n",
    "    \n",
    "    # if len(fechas_en_archivo) == 5:\n",
    "    if len(fechas_en_archivo) == 4:\n",
    "        if not os.path.isfile(\"./estenograficas_limpias_por_fecha/\" + normaliza(fechas_en_archivo[0])):\n",
    "            open(\"./estenograficas_limpias_por_fecha/\" + normaliza(fechas_en_archivo[0]), \"w\", encoding = \"utf-8\").write(texto)\n",
    "            fechas_conferencia += [normaliza(fechas_en_archivo[0])]\n",
    "        elif not os.path.isfile(\"./estenograficas_limpias_por_fecha/\" + normaliza(fechas_en_archivo[0])+ \"_2da\"):\n",
    "            open(\"./estenograficas_limpias_por_fecha/\" + normaliza(fechas_en_archivo[0]) + \"_2da\", \"w\", encoding = \"utf-8\").write(texto)\n",
    "            fechas_conferencia += [normaliza(fechas_en_archivo[0])]\n",
    "            print(\"SEGUNDA: \" + f_pagina)\n",
    "        elif not os.path.isfile(\"./estenograficas_limpias_por_fecha/\" + normaliza(fechas_en_archivo[0])+ \"_3ra\"):\n",
    "            open(\"./estenograficas_limpias_por_fecha/\" + normaliza(fechas_en_archivo[0]) + \"_3ra\", \"w\", encoding = \"utf-8\").write(texto)\n",
    "            fechas_conferencia += [normaliza(fechas_en_archivo[0])]\n",
    "            print(\"TERCERA: \" + f_pagina)\n",
    "    else: \n",
    "        print(\"RARO: \", f_pagina)"
   ]
  }
 ],
 "metadata": {
  "kernelspec": {
   "display_name": "Python 3",
   "language": "python",
   "name": "python3"
  },
  "language_info": {
   "codemirror_mode": {
    "name": "ipython",
    "version": 3
   },
   "file_extension": ".py",
   "mimetype": "text/x-python",
   "name": "python",
   "nbconvert_exporter": "python",
   "pygments_lexer": "ipython3",
   "version": "3.8.5"
  }
 },
 "nbformat": 4,
 "nbformat_minor": 4
}
