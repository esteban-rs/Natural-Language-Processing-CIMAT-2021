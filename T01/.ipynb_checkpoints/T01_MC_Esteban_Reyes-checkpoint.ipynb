{
 "cells": [
  {
   "cell_type": "markdown",
   "metadata": {},
   "source": [
    "# 1 Construcción de Corupus"
   ]
  },
  {
   "cell_type": "markdown",
   "metadata": {},
   "source": [
    "https://drive.google.com/drive/folders/18oQsSpSUbIZ0N1TZugmvwLnQ4c_PrAKH?usp=sharing"
   ]
  },
  {
   "cell_type": "markdown",
   "metadata": {},
   "source": [
    "# 2 Vistazo a los datos"
   ]
  },
  {
   "cell_type": "markdown",
   "metadata": {},
   "source": [
    "1. Cargue todas las conferencias en un string y aplique la función split para generar tokens fácilmente"
   ]
  },
  {
   "cell_type": "code",
   "execution_count": 1,
   "metadata": {},
   "outputs": [
    {
     "data": {
      "text/plain": [
       "['10.04.20',\n",
       " 'Versión',\n",
       " 'estenográfica',\n",
       " 'de',\n",
       " 'la',\n",
       " 'conferencia',\n",
       " 'de',\n",
       " 'prensa',\n",
       " 'matutina',\n",
       " 'del']"
      ]
     },
     "execution_count": 1,
     "metadata": {},
     "output_type": "execute_result"
    }
   ],
   "source": [
    "import glob\n",
    "import io\n",
    "\n",
    "# Creo String vacío\n",
    "conferencias_str = \"\"\n",
    "\n",
    "for my_file in glob.glob(\"./estenograficas_limpias_por_fecha/*\"):\n",
    "    conferencias_str += open(my_file, \"r\", encoding = \"utf-8\").read()\n",
    "\n",
    "# Genero tokens\n",
    "conferencias = conferencias_str.split()\n",
    "# Ver los primeros elementos\n",
    "conferencias[:10]"
   ]
  },
  {
   "cell_type": "markdown",
   "metadata": {},
   "source": [
    "2. Mida la cantidad de palabras en todas las conferencias."
   ]
  },
  {
   "cell_type": "code",
   "execution_count": 2,
   "metadata": {},
   "outputs": [
    {
     "data": {
      "text/plain": [
       "5499741"
      ]
     },
     "execution_count": 2,
     "metadata": {},
     "output_type": "execute_result"
    }
   ],
   "source": [
    "len(conferencias)"
   ]
  },
  {
   "cell_type": "markdown",
   "metadata": {},
   "source": [
    "3. Extraer el vocabulario y mostrar su longitud."
   ]
  },
  {
   "cell_type": "code",
   "execution_count": 3,
   "metadata": {},
   "outputs": [
    {
     "data": {
      "text/plain": [
       "139735"
      ]
     },
     "execution_count": 3,
     "metadata": {},
     "output_type": "execute_result"
    }
   ],
   "source": [
    "vocabulario = set(conferencias)\n",
    "len(vocabulario)"
   ]
  },
  {
   "cell_type": "markdown",
   "metadata": {},
   "source": [
    "4. Mida la riqueza del vocabulario de alguna forma en todos los documentos."
   ]
  },
  {
   "cell_type": "code",
   "execution_count": 134,
   "metadata": {},
   "outputs": [
    {
     "data": {
      "text/plain": [
       "0.025407560101466595"
      ]
     },
     "execution_count": 134,
     "metadata": {},
     "output_type": "execute_result"
    }
   ],
   "source": [
    "len(vocabulario)/len(conferencias)"
   ]
  },
  {
   "cell_type": "markdown",
   "metadata": {},
   "source": [
    "5. Haga lo mismo que los 4 puntos anteriores pero con todo el texto en minúsculas. Vea\n",
    "las diferencias."
   ]
  },
  {
   "cell_type": "code",
   "execution_count": 5,
   "metadata": {},
   "outputs": [],
   "source": [
    "# Utilizo conferencias_str de la primera parte para no volver a cargar todos los datos"
   ]
  },
  {
   "cell_type": "code",
   "execution_count": 6,
   "metadata": {},
   "outputs": [],
   "source": [
    "conf_min = [ w.lower() for w in conferencias]"
   ]
  },
  {
   "cell_type": "markdown",
   "metadata": {},
   "source": [
    "a. Mida la cantidad de palabras en todas las conferencias."
   ]
  },
  {
   "cell_type": "code",
   "execution_count": 7,
   "metadata": {},
   "outputs": [
    {
     "data": {
      "text/plain": [
       "5499741"
      ]
     },
     "execution_count": 7,
     "metadata": {},
     "output_type": "execute_result"
    }
   ],
   "source": [
    "len(conf_min)"
   ]
  },
  {
   "cell_type": "markdown",
   "metadata": {},
   "source": [
    "b. Extraer el vocabulario y mostrar su longitud."
   ]
  },
  {
   "cell_type": "code",
   "execution_count": 8,
   "metadata": {},
   "outputs": [
    {
     "data": {
      "text/plain": [
       "128953"
      ]
     },
     "execution_count": 8,
     "metadata": {},
     "output_type": "execute_result"
    }
   ],
   "source": [
    "len(set(conf_min))"
   ]
  },
  {
   "cell_type": "markdown",
   "metadata": {},
   "source": [
    "c. Mida la riqueza del vocabulario de alguna forma en todos los documentos."
   ]
  },
  {
   "cell_type": "code",
   "execution_count": 135,
   "metadata": {},
   "outputs": [
    {
     "data": {
      "text/plain": [
       "0.02344710414544976"
      ]
     },
     "execution_count": 135,
     "metadata": {},
     "output_type": "execute_result"
    }
   ],
   "source": [
    "len(set(conf_min))/len(conf_min)"
   ]
  },
  {
   "cell_type": "markdown",
   "metadata": {},
   "source": [
    "6. Haga lo mismo que los puntos 1, 2 y 3 usando el tokenizador RegExp de NLTK, con una\n",
    "expresión regular que trate de sacar solo palabras que pueden contener solo mayúsculas\n",
    "y minúsculas. Después cargue los tokens en un objeto Text de NLTK en lugar de una\n",
    "lista de Python."
   ]
  },
  {
   "cell_type": "code",
   "execution_count": 10,
   "metadata": {},
   "outputs": [],
   "source": [
    "import nltk"
   ]
  },
  {
   "cell_type": "code",
   "execution_count": 11,
   "metadata": {},
   "outputs": [],
   "source": [
    "# Utilizo conferencias_str de la primera parte para no volver a cargar todos los datos"
   ]
  },
  {
   "cell_type": "code",
   "execution_count": 12,
   "metadata": {},
   "outputs": [
    {
     "data": {
      "text/plain": [
       "['Versión',\n",
       " 'estenográfica',\n",
       " 'de',\n",
       " 'la',\n",
       " 'conferencia',\n",
       " 'de',\n",
       " 'prensa',\n",
       " 'matutina',\n",
       " 'del',\n",
       " 'presidente']"
      ]
     },
     "execution_count": 12,
     "metadata": {},
     "output_type": "execute_result"
    }
   ],
   "source": [
    "# Creo objeto para tokenizar por mayúsculas y minúsculas\n",
    "tokenizer = nltk.RegexpTokenizer('[A-Z]\\w+|[a-z]\\w+')\n",
    "\n",
    "conferencias_may_min = tokenizer.tokenize(conferencias_str)\n",
    "\n",
    "# Muestra algunos elementos\n",
    "conferencias_may_min[:10]"
   ]
  },
  {
   "cell_type": "markdown",
   "metadata": {},
   "source": [
    "a. Mida la cantidad de palabras en todas las conferencias."
   ]
  },
  {
   "cell_type": "code",
   "execution_count": 13,
   "metadata": {},
   "outputs": [
    {
     "data": {
      "text/plain": [
       "5130010"
      ]
     },
     "execution_count": 13,
     "metadata": {},
     "output_type": "execute_result"
    }
   ],
   "source": [
    "len(conferencias_may_min)"
   ]
  },
  {
   "cell_type": "markdown",
   "metadata": {},
   "source": [
    "b. Extraer el vocabulario y mostrar su longitud."
   ]
  },
  {
   "cell_type": "code",
   "execution_count": 14,
   "metadata": {},
   "outputs": [
    {
     "data": {
      "text/plain": [
       "139735"
      ]
     },
     "execution_count": 14,
     "metadata": {},
     "output_type": "execute_result"
    }
   ],
   "source": [
    "len(set(conferencias))"
   ]
  },
  {
   "cell_type": "markdown",
   "metadata": {},
   "source": [
    "7. Haga todo el texto minúsculas. Haga los mismo que los puntos 1, 2, y 3 usando el\n",
    "tokenizador TweetTokenizer. Haga el resto de esta tarea asumiendo haber hecho este\n",
    "punto."
   ]
  },
  {
   "cell_type": "code",
   "execution_count": 15,
   "metadata": {},
   "outputs": [],
   "source": [
    "# Utilizo conferencias_str de la primera parte para no volver a cargar todos los datos"
   ]
  },
  {
   "cell_type": "code",
   "execution_count": 16,
   "metadata": {},
   "outputs": [],
   "source": [
    "# Texto en minúsculas\n",
    "conferencias_str_lower = conferencias_str.lower()"
   ]
  },
  {
   "cell_type": "code",
   "execution_count": 17,
   "metadata": {},
   "outputs": [],
   "source": [
    "from nltk.tokenize import TweetTokenizer\n",
    "tknzr = TweetTokenizer()"
   ]
  },
  {
   "cell_type": "code",
   "execution_count": 18,
   "metadata": {},
   "outputs": [],
   "source": [
    "# Tokenizo\n",
    "tokens_tweet = tknzr.tokenize(conferencias_str_lower)"
   ]
  },
  {
   "cell_type": "markdown",
   "metadata": {},
   "source": [
    "Cantidad de palabras"
   ]
  },
  {
   "cell_type": "code",
   "execution_count": 19,
   "metadata": {},
   "outputs": [
    {
     "data": {
      "text/plain": [
       "6341664"
      ]
     },
     "execution_count": 19,
     "metadata": {},
     "output_type": "execute_result"
    }
   ],
   "source": [
    "len(tokens_tweet)"
   ]
  },
  {
   "cell_type": "markdown",
   "metadata": {},
   "source": [
    "vocabulario y longitud"
   ]
  },
  {
   "cell_type": "code",
   "execution_count": 20,
   "metadata": {},
   "outputs": [
    {
     "data": {
      "text/plain": [
       "61172"
      ]
     },
     "execution_count": 20,
     "metadata": {},
     "output_type": "execute_result"
    }
   ],
   "source": [
    "vocabulario_tweet = set(tokens_tweet)\n",
    "len(vocabulario_tweet)"
   ]
  },
  {
   "cell_type": "markdown",
   "metadata": {},
   "source": [
    "# 3.  Funciones NLTK"
   ]
  },
  {
   "cell_type": "markdown",
   "metadata": {},
   "source": [
    "1. Use la función concordance para ver el contexto de 5 palabras que usted elija."
   ]
  },
  {
   "cell_type": "code",
   "execution_count": 21,
   "metadata": {},
   "outputs": [],
   "source": [
    "# Cargo texto como lista con esteroides\n",
    "mytext = nltk.Text(tokens_tweet)"
   ]
  },
  {
   "cell_type": "code",
   "execution_count": 22,
   "metadata": {},
   "outputs": [
    {
     "name": "stdout",
     "output_type": "stream",
     "text": [
      "Displaying 25 of 16321 matches:\n",
      "anuel lópez obrador – presidente de méxico inicio sala de prensa boletines tra\n",
      "formar sobre dos temas al pueblo de méxico y vamos también a hacer a esta conf\n",
      "stán en la opep y en la no opep , y méxico va a contribuir a estabilizar los p\n",
      " . dice el presidente trump que por méxico , para compensar . esto lo notifica\n",
      " y consideramos de mucha utilidad . méxico está aportando . en general es el 5\n",
      " que quiero transmitir al pueblo de méxico es que aproveché la conversación co\n",
      "ara pedirle en nombre del pueblo de méxico que nos ayuden vendiéndonos 10 mil \n",
      "e este tema en general al pueblo de méxico , sobre un balance general de cómo \n",
      "s , tres . pregunta : presidente de méxico , carlos pozos , reportero de petró\n",
      "ducción de combustibles , y también méxico era un ejemplo en cuanto a producci\n",
      "ente todo nuestro petróleo crudo en méxico , darle valor agregado a nuestra ma\n",
      "se han incrementado las reservas en méxico en el tiempo que llevamos . y busca\n",
      "eguir con la política de refinar en méxico . interlocutor : mi segunda pregunt\n",
      " abren los mercados en américa , en méxico en particular , hubo un periódico y\n",
      "buenos días . esteban durán , grupo méxico publica , diario ; y jalisco public\n",
      "sidente ? , por lo que menos quiere méxico es que usted tenga esta situación ,\n",
      "rgieron , incluso de la posición de méxico ante el mundo ; y al final , si con\n",
      "e habían aceptado , y dice : ‘ sólo méxico no aceptó ’ . y ya le expliqué el p\n",
      " ciudadanos alertadores gobierno de méxico inapam instituto de salud para el b\n",
      " manuel lópez obrador presidente de méxico t . 5093 4900 t . 01800 080 1127 pu\n",
      " s / n , colonia centro , ciudad de méxico , c . p . 06066 aviso de privacidad\n",
      "anuel lópez obrador – presidente de méxico inicio sala de prensa boletines tra\n",
      "el tratado comercial entre canadá , méxico y estados unidos , hicimos el acuer\n",
      ", que lo que se pactó es bueno para méxico y fue aceptado por estados unidos y\n",
      "an 40 mil marchando en la ciudad de méxico con bloqueos como medida de presión\n"
     ]
    }
   ],
   "source": [
    "mytext.concordance(\"México\")"
   ]
  },
  {
   "cell_type": "code",
   "execution_count": 23,
   "metadata": {},
   "outputs": [
    {
     "name": "stdout",
     "output_type": "stream",
     "text": [
      "Displaying 25 of 81 matches:\n",
      "í nos los ha dicho el subsecretario gatell , que la enfermedad pega más a dond\n",
      " para comprarlo . yo veía al doctor gatell ahí aguantar a la señora lilly téll\n",
      ". interlocutora : entonces , doctor gatell , para que quede claro , entonces h\n",
      "caba de decir que le dijo el doctor gatell que no es indispensable . el gobier\n",
      " llegado con ellos . el doctor hugo gatell ha dicho que incluso tiene manera d\n",
      " esa denuncia , presidente , doctor gatell ? presidente andrés manuel lópez ob\n",
      "esto fue que , pese a que el doctor gatell ha mencionado que esas actividades \n",
      "a , la semana pasada el doctor hugo gatell había comentado que al menos 30 por\n",
      "máforos y al mismo tiempo el doctor gatell ha dicho también que va a ser una e\n",
      "tigación ya abierta . hoy el doctor gatell informó sobre este tema en la reuni\n",
      "regunta sería para el subsecretario gatell . preguntarle , en la página que ha\n",
      " de la compañera pastrana al doctor gatell y mencionaba que esta era una concl\n",
      "vacuna quiero preguntarle al doctor gatell . decía que en las próximas horas l\n",
      "ortaban en la conferencia el doctor gatell un incremento en la movilidad y hab\n",
      "para comer bien . por ahí el doctor gatell , regularmente cuando acudimos a su\n",
      " se mencionaba por parte del doctor gatell que iba a haber un puente internaci\n",
      "erían unas preguntas para el doctor gatell y luego , si me permite , también p\n",
      "o rodríguez . preguntarle al doctor gatell si a partir de que venga ya la vacu\n",
      " la pandemia , el viernes el doctor gatell empezó su informe técnico diciendo \n",
      "ar el semáforo por - dijo el doctor gatell - por falta de información de los e\n",
      "asado con lo que ha estado diciendo gatell , parece que por fin se reconoce qu\n",
      "na me puede dar la palabra que esté gatell , porque tengo algo sobre la pandem\n",
      "qué vacuna va a verificar el doctor gatell ? presidente andrés manuel lópez ob\n",
      "ión de salud ? ayer decía el doctor gatell que se ha estabilizado la pandemia \n",
      ". en base a lo que el subsecretario gatell explicaba de la infraestructura de \n"
     ]
    }
   ],
   "source": [
    "mytext.concordance(\"gatell\")"
   ]
  },
  {
   "cell_type": "code",
   "execution_count": 24,
   "metadata": {},
   "outputs": [
    {
     "name": "stdout",
     "output_type": "stream",
     "text": [
      "Displaying 25 of 5398 matches:\n",
      "vamos a informar sobre dos temas al pueblo de méxico y vamos también a hacer a\n",
      "tengo que estar . la información al pueblo es en el sentido de que participamo\n",
      "nformación que quiero transmitir al pueblo de méxico es que aproveché la conve\n",
      "ciones , para pedirle en nombre del pueblo de méxico que nos ayuden vendiéndon\n",
      "ormar sobre este tema en general al pueblo de méxico , sobre un balance genera\n",
      "esino , íntegro , honesto , leal al pueblo . vamos a tener una ceremonia para \n",
      " popular . primero el bienestar del pueblo , después el bienestar del pueblo y\n",
      "l pueblo , después el bienestar del pueblo y al final y siempre el bienestar d\n",
      "al final y siempre el bienestar del pueblo . bueno , nos quedamos para mañana \n",
      "na representación que nos otorgó el pueblo de méxico y que la ejercemos con in\n",
      "osible , se ponga a disposición del pueblo de méxico todo el expediente que no\n",
      "ma al gobierno de la república y al pueblo de méxico que la conclusión de lo q\n",
      "os los trabajadores al servicio del pueblo , al servicio del estado y de la na\n",
      "mos perdido algunos compañeros . el pueblo de nuevo león se lo agradece . y ho\n",
      "ero cuando se trata de la salud del pueblo , de la seguridad del pueblo , tene\n",
      "ud del pueblo , de la seguridad del pueblo , tenemos que trabajar o seguir tra\n",
      "erno de méxico , con usted , con el pueblo , y la satisfacción que no da es re\n",
      "r presidente , un saludo de todo el pueblo de hidalgo . soy el doctor francisc\n",
      "plicar , y seguiremos actuando . el pueblo de hidalgo le agradece profundament\n",
      "sonal de este hospital y de todo el pueblo de hidalgo . buenos días . presiden\n",
      "acunas . muchas gracias , saludo al pueblo de hidalgo . adiós , adiós . interv\n",
      "ador : bueno , yo le puedo decir al pueblo de méxico que tenemos que procurar \n",
      "más simpatizantes de la dea que del pueblo de méxico , de nuestra nación . ent\n",
      "la verdad y no le vamos a fallar al pueblo . y también yo sé que hay mucho int\n",
      ". creemos firmemente que la voz del pueblo es la que realizará o será una verd\n"
     ]
    }
   ],
   "source": [
    "mytext.concordance(\"pueblo\")"
   ]
  },
  {
   "cell_type": "code",
   "execution_count": 25,
   "metadata": {},
   "outputs": [
    {
     "name": "stdout",
     "output_type": "stream",
     "text": [
      "Displaying 25 of 288 matches:\n",
      " se tiene una estrategia contra el huachicol , contra las adicciones en la segu\n",
      "a estar involucrado en el tema del huachicol y esto indirectamente podría tambi\n",
      "pasado nada . y otra pregunta , el huachicol son unas bandas que parecen muy se\n",
      "dió cuando decidimos acabar con el huachicol - los que sacaban provecho de este\n",
      "des que aquí cuando hablábamos del huachicol un técnico habló de la molécula , \n",
      "n que iban a poder , eso es lo del huachicol que les decía . entonces , si hace\n",
      "mbate al robo de combustibles , al huachicol . no nos vamos a detener . estoy c\n",
      ", eran intocables . en el caso del huachicol , lo mismo . el que por necesidad \n",
      "nada . entonces , ya no va a haber huachicol ni arriba ni abajo , es parejo , p\n",
      "an los moches , ya no se acepta el huachicol ni arriba ni abajo , y por eso hay\n",
      "mos problemas , porque también hay huachicol en el gas y eso es mucho más riesg\n",
      "r presidente . aprovechando lo del huachicol . yo hice una denuncia hace poco d\n",
      "que están amafiadas en el robo del huachicol donde el líder se autocompró la co\n",
      "os que se hacían a los ductos , el huachicol . si había 15 mil millones de exce\n",
      "e los ductos de pemex - o sea , el huachicol - de modo - dice - que quedan tres\n",
      "an las cuentas , por eso digo , el huachicol estaba en el presupuesto , lo cont\n",
      "e a partir del éxito de detener el huachicol en esa región , sobre todo acultzi\n",
      "ía robo a trenes y el comercio del huachicol , cuando se logra detener eso algu\n",
      "e ha dicho aquí , en este tema del huachicol . y ahora que se han ya cerrado o \n",
      " , en qué colonia está apoyando al huachicol , porque eso significaría que tuvi\n",
      "delincuentes que están apoyando al huachicol . eso resulta muy complicado . sin\n",
      "lación que está relacionada con el huachicol . la idea es que juntos , coordina\n",
      " proporciones lo que pasaba con el huachicol , de que : ‘ ¿ por qué no voy yo a\n",
      "a parte más crítica del combate al huachicol , porque habría que señalar que en\n",
      "en los energéticos . el combate al huachicol , que también ha tenido obviamente\n"
     ]
    }
   ],
   "source": [
    "mytext.concordance(\"huachicol\")"
   ]
  },
  {
   "cell_type": "code",
   "execution_count": 26,
   "metadata": {},
   "outputs": [
    {
     "name": "stdout",
     "output_type": "stream",
     "text": [
      "Displaying 25 of 505 matches:\n",
      "ad económica y social , combatir la pobreza , combatir la desintegración de las\n",
      "ara los cielos en un país con tanta pobreza , con tanta desigualdad , y veían c\n",
      "e votos , que no se trafique con la pobreza de la gente , que no se repartan de\n",
      "y social . aquí la desigualdad y la pobreza en méxico no se produjo sólo por la\n",
      " no se quita , sostienen que si hay pobreza es porque el pueblo es flojo , porq\n",
      "gobierno nos permitieron reducir la pobreza extrema en más de la mitad ; sin em\n",
      "o , se tomaba en cuenta el nivel de pobreza de los estados para el reparto y se\n",
      "ación , a crecimiento económico , a pobreza . entonces , yo lo que les planteé \n",
      " los que tienen más carencias , más pobreza , a los que tienen más población o \n",
      "inamiento por la necesidad , por la pobreza ; y sobre todo pues no es lo mismo \n",
      "tosina , uno de los lugares con más pobreza en el país , y ya está funcionando \n",
      "iene oportunidades de trabajo , hay pobreza , hay inseguridad , hay violencia .\n",
      "s como la montaña , donde hay mucha pobreza . entonces , en este estado se deci\n",
      "diendo el problema lamentable de la pobreza como nunca , hay control en la infl\n",
      "pero también con las condiciones de pobreza y de marginación y de desigualdad e\n",
      "diendo migrar lo están haciendo por pobreza principalmente , que sean apoyadas \n",
      "es entonces eso se va a traducir en pobreza , en más inseguridad , más violenci\n",
      "usteridad republicana , va a ser la pobreza franciscana ahora . no , austeridad\n",
      " y que no es una casualidad , es la pobreza que hay en el sur sureste y en cent\n",
      "s partes , un flujo motivado por la pobreza y un negocio inmenso que son seis b\n",
      "onómica , por la corrupción tenemos pobreza , por la corrupción hay una monstru\n",
      "timos la corrupción , combatimos la pobreza , combatimos la desigualdad , comba\n",
      "re 18 y 21 millones de mexicanos en pobreza extrema a causa de la pandemia del \n",
      "de que con el covid puede crecer la pobreza , lo que está diciendo es : ‘ hay q\n",
      "migajas , que no se trafique con la pobreza del pueblo . nosotros estamos oblig\n"
     ]
    }
   ],
   "source": [
    "mytext.concordance(\"pobreza\")"
   ]
  },
  {
   "cell_type": "markdown",
   "metadata": {},
   "source": [
    "2. Elija una palabra que le parezca interesante y muestre palabras con uso similar. Muestre\n",
    "tambien los contextos comunes.\n"
   ]
  },
  {
   "cell_type": "code",
   "execution_count": 27,
   "metadata": {},
   "outputs": [
    {
     "name": "stdout",
     "output_type": "stream",
     "text": [
      "país gobierno estado presidente año que trabajo día presupuesto mundo\n",
      "tiempo caso programa dinero apoyo tema covid y plan bienestar\n"
     ]
    }
   ],
   "source": [
    "mytext.similar(\"pueblo\")"
   ]
  },
  {
   "cell_type": "code",
   "execution_count": 28,
   "metadata": {},
   "outputs": [
    {
     "name": "stdout",
     "output_type": "stream",
     "text": [
      "de_y de_en en_y de_que de_no de_de de_por en_que de_entonces de_como\n",
      "por_y por_o\n"
     ]
    }
   ],
   "source": [
    "mytext.common_contexts([\"México\",\"pobreza\", \"pueblo\"])"
   ]
  },
  {
   "cell_type": "markdown",
   "metadata": {},
   "source": [
    "3. Haciendo uso de alguna librerı́a time de Python: organice todos los archivos de las\n",
    "conferencias desde la más antigua hasta la más nueva, y cárguelos en un objeto Text\n",
    "para generar un dispersion plot de las siguientes palabras: prian, corrupción, mafia,\n",
    "narco, gasolina, pipas, conacyt, ciencia, turismo, pandemia, coronavirus, covid. y otras\n",
    "tres palabras de su elección."
   ]
  },
  {
   "cell_type": "code",
   "execution_count": 29,
   "metadata": {},
   "outputs": [
    {
     "name": "stdout",
     "output_type": "stream",
     "text": [
      "33026373\n"
     ]
    }
   ],
   "source": [
    "from datetime import datetime \n",
    "\n",
    "dates = [my_file.replace(\"./estenograficas_limpias_por_fecha/\",\"\") \n",
    "         for my_file in glob.glob(\"./estenograficas_limpias_por_fecha/*\")]\n",
    "\n",
    "# Guardo posiciones de _2da y _3ra\n",
    "labels = []\n",
    "for date in dates:\n",
    "    if (date.find(\"_2da\") > 0):\n",
    "        # print(date)\n",
    "        labels.append([date.replace(\"_2da\", \"\"), 2])\n",
    "    elif (date.find(\"_3ra\") > 0):\n",
    "        # print(date)\n",
    "        labels.append([date.replace(\"_3ra\", \"\"), 3])\n",
    "\n",
    "        \n",
    "# limpio formato para ordenar\n",
    "dates_clean = [date.replace(\"_2da\", \"\") for date in dates]\n",
    "dates_clean = [date.replace(\"_3ra\", \"\") for date in dates_clean]\n",
    "\n",
    "\n",
    "dates_clean.sort(key = lambda date: datetime.strptime(date, '%Y-%m-%d'))\n",
    "# Remuevo etiquetas repetidas\n",
    "dates_set = set(dates_clean)\n",
    "\n",
    "tmp_srt = \"\"\n",
    "counter = 0\n",
    "# Recorro set de fechas, cargo archivo y luego busco si tiene segunda o tercera\n",
    "for date in dates_set:\n",
    "    tmp_srt += open(\"./estenograficas_limpias_por_fecha/\" + date, \"r\", encoding = \"utf-8\").read()\n",
    "    counter = counter + 1\n",
    "    for i in labels:\n",
    "        if (date == i[0]):\n",
    "            if (i[1] == 2):\n",
    "                tmp_srt += open(\"./estenograficas_limpias_por_fecha/\" + date + \"_2da\", \"r\", encoding = \"utf-8\").read()\n",
    "                counter = counter + 1\n",
    "            elif(i[1] == 3):\n",
    "                tmp_srt += open(\"./estenograficas_limpias_por_fecha/\" + date + \"_3ra\", \"r\", encoding = \"utf-8\").read()\n",
    "                counter = counter + 1\n",
    "# print(counter)  \n",
    "print(len(tmp_srt))"
   ]
  },
  {
   "cell_type": "code",
   "execution_count": 30,
   "metadata": {},
   "outputs": [
    {
     "data": {
      "text/plain": [
       "6341664"
      ]
     },
     "execution_count": 30,
     "metadata": {},
     "output_type": "execute_result"
    }
   ],
   "source": [
    "#tokenizo y guardo en Text\n",
    "tmp = tknzr.tokenize(tmp_srt.lower())\n",
    "text = nltk.Text(tmp)\n",
    "len(text)"
   ]
  },
  {
   "cell_type": "code",
   "execution_count": 31,
   "metadata": {},
   "outputs": [
    {
     "data": {
      "text/plain": [
       "61172"
      ]
     },
     "execution_count": 31,
     "metadata": {},
     "output_type": "execute_result"
    }
   ],
   "source": [
    "len(set(tmp))"
   ]
  },
  {
   "cell_type": "markdown",
   "metadata": {},
   "source": [
    "## Gráfica de Dispersión"
   ]
  },
  {
   "cell_type": "code",
   "execution_count": 32,
   "metadata": {},
   "outputs": [
    {
     "data": {
      "image/png": "[encoded data removed]",
      "text/plain": [
       "<Figure size 432x288 with 1 Axes>"
      ]
     },
     "metadata": {
      "needs_background": "light"
     },
     "output_type": "display_data"
    }
   ],
   "source": [
    "# Palabras en lista\n",
    "worlds = [\"prian\", \"corrupción\", \"mafia\",\"narco\", \"gasolina\", \"pipas\", \"conacyt\", \"ciencia\", \"turismo\", \"pandemia\", \"coronavirus\", \"covid\"]\n",
    "# Otras tres palabras\n",
    "worlds += [\"feminismo\", \"huachicol\", \"gatell\"]\n",
    "text.dispersion_plot(worlds)"
   ]
  },
  {
   "cell_type": "markdown",
   "metadata": {},
   "source": [
    "4. Muestre 50 colocaciones en todo el corpus."
   ]
  },
  {
   "cell_type": "code",
   "execution_count": 54,
   "metadata": {},
   "outputs": [
    {
     "name": "stdout",
     "output_type": "stream",
     "text": [
      "showing info https://raw.githubusercontent.com/nltk/nltk_data/gh-pages/index.xml\n"
     ]
    },
    {
     "data": {
      "text/plain": [
       "True"
      ]
     },
     "execution_count": 54,
     "metadata": {},
     "output_type": "execute_result"
    }
   ],
   "source": [
    "# package 'stopworlds' needed\n",
    "nltk.download()"
   ]
  },
  {
   "cell_type": "code",
   "execution_count": 55,
   "metadata": {},
   "outputs": [
    {
     "name": "stdout",
     "output_type": "stream",
     "text": [
      "lópez obrador; andrés manuel; manuel lópez; presidente andrés; estados\n",
      "unidos; buenos días; por ciento; versión estenográfica; señor\n",
      "presidente; prensa matutina; todos los; nada más; desde luego; muchas\n",
      "gracias; guardia nacional; adultos mayores; por eso; marcelo ebrard;\n",
      "derechos humanos; por ejemplo; mil millones; todas las; muy\n",
      "importante; sin embargo; creo que; matutina del; sobre todo; que que;\n",
      "coronavirus covid; por qué; tiene que; baja california; ver con;\n",
      "nuestro país; muy bien; para que; hugo lópez-gatell; sembrando vida;\n",
      "que nos; benito juárez; gobierno federal; relaciones exteriores; del\n",
      "gobierno; este caso; 5093 4900; documentosdocumentos gabinetegabinete;\n",
      "01800 080 1127; los trabajadores; cdmx close; privacidad copyright\n"
     ]
    }
   ],
   "source": [
    "text.collocations(50)"
   ]
  },
  {
   "cell_type": "markdown",
   "metadata": {},
   "source": [
    "5. Muestre un histograma de longitud en caracteres de las palabras. Muestre en el histograma el top 5 de longitudes más largas."
   ]
  },
  {
   "cell_type": "code",
   "execution_count": 34,
   "metadata": {},
   "outputs": [],
   "source": [
    "from nltk import FreqDist"
   ]
  },
  {
   "cell_type": "markdown",
   "metadata": {},
   "source": [
    "Histograma de Longitudes"
   ]
  },
  {
   "cell_type": "code",
   "execution_count": 84,
   "metadata": {},
   "outputs": [
    {
     "data": {
      "image/png": "[encoded data removed]",
      "text/plain": [
       "<Figure size 432x288 with 1 Axes>"
      ]
     },
     "metadata": {
      "needs_background": "light"
     },
     "output_type": "display_data"
    },
    {
     "data": {
      "text/plain": [
       "<AxesSubplot:xlabel='Samples', ylabel='Counts'>"
      ]
     },
     "execution_count": 84,
     "metadata": {},
     "output_type": "execute_result"
    }
   ],
   "source": [
    "# Guardo longitudes\n",
    "setofLeghts = [len(w) for w in text]\n",
    "# creo freqdist y hago plot de las primeras 100\n",
    "fdist       = FreqDist(setofLeghts)\n",
    "fdist.plot(100, cumulative = False)\n"
   ]
  },
  {
   "cell_type": "code",
   "execution_count": null,
   "metadata": {},
   "outputs": [],
   "source": [
    "Histograma de Palabras más largas"
   ]
  },
  {
   "cell_type": "code",
   "execution_count": 86,
   "metadata": {},
   "outputs": [
    {
     "data": {
      "image/png": "[encoded data removed]",
      "text/plain": [
       "<Figure size 432x288 with 1 Axes>"
      ]
     },
     "metadata": {
      "needs_background": "light"
     },
     "output_type": "display_data"
    },
    {
     "data": {
      "text/plain": [
       "<AxesSubplot:xlabel='Samples', ylabel='Counts'>"
      ]
     },
     "execution_count": 86,
     "metadata": {},
     "output_type": "execute_result"
    }
   ],
   "source": [
    "# Ordeno de mayor a menor\n",
    "setofLeghts = sorted(setofLeghts, reverse = True)\n",
    "# Quito repeticiones de longitudes\n",
    "mydict = list(dict.fromkeys(setofLeghts))\n",
    "# Busco las que tengan las primeras cinco longitudes (de mayor a menor)\n",
    "long_worlds = [len(w) for w in text if (len(w) in mydict[:5])]\n",
    "\n",
    "fdist       = FreqDist(long_worlds)\n",
    "fdist.plot(5, cumulative = False)"
   ]
  },
  {
   "cell_type": "markdown",
   "metadata": {},
   "source": [
    "6. Muestre 50 palabras con longitud mayor a 8 caracteres y frecuencia mayor a 5 en todo\n",
    "el texto."
   ]
  },
  {
   "cell_type": "code",
   "execution_count": 51,
   "metadata": {},
   "outputs": [
    {
     "data": {
      "text/plain": [
       "['estenográfica',\n",
       " 'presentación',\n",
       " 'producción',\n",
       " 'hidrocarburos',\n",
       " 'presidente',\n",
       " 'boletines',\n",
       " 'transcripciones',\n",
       " 'documentos',\n",
       " 'fotogalería',\n",
       " 'coronavirus',\n",
       " 'presidencia',\n",
       " 'biografía',\n",
       " 'estenográfica',\n",
       " 'presentación',\n",
       " 'producción',\n",
       " 'hidrocarburos',\n",
       " 'estenográfica',\n",
       " 'estenográfica',\n",
       " 'presentación',\n",
       " 'producción',\n",
       " 'hidrocarburos',\n",
       " 'estenográfica',\n",
       " 'presentación',\n",
       " 'producción',\n",
       " 'hidrocarburos',\n",
       " 'diciembre',\n",
       " 'estenográfica',\n",
       " 'presidente',\n",
       " 'mexicanos',\n",
       " 'presentación',\n",
       " 'producción',\n",
       " 'hidrocarburos',\n",
       " 'campechanos',\n",
       " 'tabasqueños',\n",
       " 'veracruzanos',\n",
       " 'tamaulipecos',\n",
       " 'oaxaqueños',\n",
       " 'mexicanos',\n",
       " 'iniciando',\n",
       " 'recuperación',\n",
       " 'industria',\n",
       " 'petrolera',\n",
       " 'puntualizar',\n",
       " 'significó',\n",
       " 'petrolera',\n",
       " 'importante',\n",
       " 'industria',\n",
       " 'petrolera',\n",
       " 'producción',\n",
       " 'resultados']"
      ]
     },
     "execution_count": 51,
     "metadata": {},
     "output_type": "execute_result"
    }
   ],
   "source": [
    "# Creo objeto de frecuencias\n",
    "fdistl = FreqDist(text)\n",
    "\n",
    "# Guardo las que cumplan las condiciones e imprimo 50\n",
    "long_worlds = [w for w in text if (len(w) > 8 and fdistl[w] > 5)]\n",
    "long_worlds[:50]"
   ]
  },
  {
   "cell_type": "markdown",
   "metadata": {},
   "source": [
    "7. Ver https://www.nltk.org/book/ch02.html en la sección 1.5. Proponga una gráfica\n",
    "usando ConditionalFreqDist como la de la Sección 1.5 para estos datos. Usted elige las\n",
    "palabras."
   ]
  },
  {
   "cell_type": "code",
   "execution_count": 121,
   "metadata": {},
   "outputs": [],
   "source": [
    "from nltk import ConditionalFreqDist"
   ]
  },
  {
   "cell_type": "code",
   "execution_count": 119,
   "metadata": {},
   "outputs": [
    {
     "name": "stdout",
     "output_type": "stream",
     "text": [
      "535\n"
     ]
    }
   ],
   "source": [
    "# Lista para documentos en orden cronológico\n",
    "documents = []\n",
    "# Lista para años en el mismo orden que documentos\n",
    "years = []\n",
    "\n",
    "for date in dates_set:\n",
    "    tmp_srt = open(\"./estenograficas_limpias_por_fecha/\" + date, \"r\", encoding = \"utf-8\").read()\n",
    "    tmp = tknzr.tokenize(tmp_srt)\n",
    "    # cargo a documentos\n",
    "    documents.append(tmp)\n",
    "    # guardo año\n",
    "    years.append(date[:4])\n",
    "    for i in labels:\n",
    "        if (date == i[0]):\n",
    "            if (i[1] == 2):\n",
    "                tmp_srt = open(\"./estenograficas_limpias_por_fecha/\" + date + \"_2da\", \"r\", encoding = \"utf-8\").read()\n",
    "                tmp = tknzr.tokenize(tmp_srt)\n",
    "                # cargo a documentos\n",
    "                documents.append(tmp)\n",
    "                # guardo año\n",
    "                years.append(date[:4])\n",
    "            elif(i[1] == 3):\n",
    "                tmp_srt += open(\"./estenograficas_limpias_por_fecha/\" + date + \"_3ra\", \"r\", encoding = \"utf-8\").read()\n",
    "                tmp = tknzr.tokenize(tmp_srt)\n",
    "                # cargo a documentos\n",
    "                documents.append(tmp)\n",
    "                # guardo año\n",
    "                years.append(date[:4])\n",
    "                \n",
    "# print(len(documents))"
   ]
  },
  {
   "cell_type": "code",
   "execution_count": 122,
   "metadata": {},
   "outputs": [
    {
     "data": {
      "image/png": "[encoded data removed]",
      "text/plain": [
       "<Figure size 432x288 with 1 Axes>"
      ]
     },
     "metadata": {
      "needs_background": "light"
     },
     "output_type": "display_data"
    },
    {
     "data": {
      "text/plain": [
       "<AxesSubplot:xlabel='Samples', ylabel='Counts'>"
      ]
     },
     "execution_count": 122,
     "metadata": {},
     "output_type": "execute_result"
    }
   ],
   "source": [
    "# Gráfica condicional\n",
    "cfd = nltk.ConditionalFreqDist(\n",
    "           (target, years[i])\n",
    "           for i in range(len(documents))\n",
    "           for w in documents[i]\n",
    "           for target in [\"corrupción\",\"narco\", \"conacyt\", \"ciencia\", \"pandemia\"]\n",
    "           if w.lower().startswith(target))\n",
    "cfd.plot()"
   ]
  },
  {
   "cell_type": "markdown",
   "metadata": {},
   "source": [
    "8. Use la lista de stopwords de nltk y obtenga la cantidad de palabras en los datos con y\n",
    "sin stopword."
   ]
  },
  {
   "cell_type": "code",
   "execution_count": 177,
   "metadata": {},
   "outputs": [
    {
     "name": "stdout",
     "output_type": "stream",
     "text": [
      "6341664\n",
      "3532513\n"
     ]
    }
   ],
   "source": [
    "from nltk.corpus import stopwords\n",
    "\n",
    "# Creo conjunto de stopwords\n",
    "stopwords = set(nltk.corpus.stopwords.words('spanish'))\n",
    "\n",
    "counter = 0\n",
    "for w in text:  \n",
    "    if w not in stopwords:  \n",
    "        counter = counter + 1\n",
    "\n",
    "print(len(text))\n",
    "print(counter)"
   ]
  },
  {
   "cell_type": "markdown",
   "metadata": {},
   "source": [
    "9. Muestre las 300 palabras más frecuentes en las conferencias, sin tomar en cuenta stop-\n",
    "words. Muéstrelas de la más frecuente a la menos frecuente."
   ]
  },
  {
   "cell_type": "code",
   "execution_count": null,
   "metadata": {},
   "outputs": [],
   "source": [
    "from collections import Counter"
   ]
  },
  {
   "cell_type": "code",
   "execution_count": 178,
   "metadata": {},
   "outputs": [],
   "source": [
    "# Agrego palabras y frecuencia a contador\n",
    "freq = Counter()\n",
    "\n",
    "for word in text:\n",
    "    # Si no es stopword, actualizo contador\n",
    "    if word not in stopwords:\n",
    "        freq.update([word])\n",
    "\n",
    "most_common = [x for x in freq.most_common(300)]"
   ]
  },
  {
   "cell_type": "code",
   "execution_count": 179,
   "metadata": {},
   "outputs": [
    {
     "data": {
      "text/plain": [
       "[(',', 482471),\n",
       " ('.', 209936),\n",
       " (':', 45498),\n",
       " ('presidente', 35607),\n",
       " ('¿', 25066),\n",
       " ('?', 25006),\n",
       " ('si', 20700),\n",
       " ('manuel', 19063),\n",
       " ('lópez', 19018),\n",
       " ('obrador', 18718),\n",
       " ('andrés', 18637),\n",
       " ('va', 18307),\n",
       " ('vamos', 17669),\n",
       " ('entonces', 17034),\n",
       " ('méxico', 16321),\n",
       " (';', 16145),\n",
       " ('mil', 13674),\n",
       " ('gobierno', 12351),\n",
       " ('-', 10257),\n",
       " ('aquí', 10103),\n",
       " ('pregunta', 9949),\n",
       " ('ahora', 8789),\n",
       " ('dos', 8688),\n",
       " ('nacional', 8484),\n",
       " ('caso', 8317),\n",
       " ('ver', 8287),\n",
       " ('país', 7964),\n",
       " ('días', 7880),\n",
       " ('van', 7575),\n",
       " ('hacer', 7234),\n",
       " ('usted', 7178),\n",
       " ('cómo', 7165),\n",
       " ('ser', 7139),\n",
       " ('ahí', 7028),\n",
       " ('salud', 6949),\n",
       " ('millones', 6836),\n",
       " ('gente', 6512),\n",
       " ('gracias', 6403),\n",
       " ('señor', 6347),\n",
       " ('tema', 6230),\n",
       " ('así', 6156),\n",
       " ('bueno', 6127),\n",
       " ('decir', 6098),\n",
       " ('tener', 5976),\n",
       " ('pesos', 5965),\n",
       " ('manera', 5836),\n",
       " ('bien', 5762),\n",
       " ('importante', 5757),\n",
       " ('puede', 5712),\n",
       " ('año', 5708),\n",
       " ('hoy', 5563),\n",
       " ('‘', 5484),\n",
       " ('pues', 5459),\n",
       " ('parte', 5430),\n",
       " ('pueblo', 5398),\n",
       " ('ciento', 5363),\n",
       " ('…', 5359),\n",
       " ('mismo', 5288),\n",
       " ('día', 5280),\n",
       " ('prensa', 5264),\n",
       " ('información', 5209),\n",
       " ('general', 5188),\n",
       " ('’', 5168),\n",
       " ('buenos', 5152),\n",
       " ('corrupción', 5071),\n",
       " ('personas', 5038),\n",
       " ('tiempo', 5029),\n",
       " ('tres', 4973),\n",
       " ('hace', 4937),\n",
       " ('seguridad', 4865),\n",
       " ('años', 4845),\n",
       " ('interlocutor', 4758),\n",
       " ('unidos', 4617),\n",
       " ('ayer', 4463),\n",
       " ('todas', 4462),\n",
       " ('interlocutora', 4436),\n",
       " ('luego', 4430),\n",
       " ('secretaría', 4390),\n",
       " ('poder', 4245),\n",
       " ('muchas', 4232),\n",
       " ('ustedes', 4217),\n",
       " ('acuerdo', 4150),\n",
       " ('haciendo', 4125),\n",
       " ('voy', 4076),\n",
       " ('programa', 4046),\n",
       " ('sólo', 4031),\n",
       " ('conferencia', 3801),\n",
       " ('además', 3654),\n",
       " ('trabajo', 3634),\n",
       " ('pública', 3632),\n",
       " ('federal', 3597),\n",
       " ('haber', 3540),\n",
       " ('ciudad', 3522),\n",
       " ('empresas', 3517),\n",
       " ('ejemplo', 3504),\n",
       " ('dar', 3473),\n",
       " ('cada', 3468),\n",
       " ('secretario', 3366),\n",
       " ('19', 3314),\n",
       " ('semana', 3281),\n",
       " ('toda', 3272),\n",
       " ('casos', 3271),\n",
       " ('apoyo', 3205),\n",
       " ('siempre', 3199),\n",
       " ('política', 3143),\n",
       " ('creo', 3089),\n",
       " ('momento', 3082),\n",
       " ('vida', 3081),\n",
       " ('20', 3019),\n",
       " ('mexicanos', 2975),\n",
       " ('trabajadores', 2973),\n",
       " ('recursos', 2946),\n",
       " ('cabo', 2891),\n",
       " ('cosas', 2887),\n",
       " ('social', 2881),\n",
       " ('mañana', 2873),\n",
       " ('mejor', 2872),\n",
       " ('menos', 2867),\n",
       " ('plan', 2866),\n",
       " ('matutina', 2848),\n",
       " ('asunto', 2842),\n",
       " ('ir', 2833),\n",
       " ('covid', 2831),\n",
       " ('versión', 2826),\n",
       " ('dinero', 2817),\n",
       " ('–', 2772),\n",
       " ('nuevo', 2760),\n",
       " ('hecho', 2756),\n",
       " ('vez', 2750),\n",
       " ('bienestar', 2719),\n",
       " ('presupuesto', 2714),\n",
       " ('pemex', 2713),\n",
       " ('sino', 2704),\n",
       " ('estenográfica', 2701),\n",
       " ('atención', 2682),\n",
       " ('problema', 2664),\n",
       " ('proceso', 2624),\n",
       " ('jóvenes', 2608),\n",
       " ('quiero', 2597),\n",
       " ('derecho', 2592),\n",
       " ('incluso', 2583),\n",
       " ('pueden', 2560),\n",
       " ('todavía', 2553),\n",
       " ('situación', 2546),\n",
       " ('cuatro', 2529),\n",
       " ('mayor', 2518),\n",
       " ('ley', 2475),\n",
       " ('seguir', 2436),\n",
       " ('sido', 2430),\n",
       " ('primero', 2401),\n",
       " ('podemos', 2397),\n",
       " ('conocer', 2391),\n",
       " ('queremos', 2362),\n",
       " ('mundo', 2350),\n",
       " ('primera', 2317),\n",
       " ('guardia', 2307),\n",
       " ('reforma', 2305),\n",
       " ('10', 2299),\n",
       " ('cinco', 2284),\n",
       " ('sistema', 2280),\n",
       " ('países', 2213),\n",
       " ('(', 2203),\n",
       " ('trabajando', 2201),\n",
       " ('público', 2191),\n",
       " ('pasado', 2171),\n",
       " ('después', 2171),\n",
       " ('dice', 2166),\n",
       " ('elementos', 2158),\n",
       " ('instituto', 2157),\n",
       " ('respecto', 2135),\n",
       " ('ciudadanos', 2125),\n",
       " ('derechos', 2109),\n",
       " ('investigación', 2106),\n",
       " ('república', 2098),\n",
       " ('sector', 2080),\n",
       " ('violencia', 2072),\n",
       " ('cuál', 2047),\n",
       " ('gran', 2047),\n",
       " ('economía', 2042),\n",
       " ('desarrollo', 2040),\n",
       " ('quién', 2035),\n",
       " ('número', 2030),\n",
       " ('mujeres', 2026),\n",
       " ('hizo', 1998),\n",
       " ('da', 1994),\n",
       " ('empresa', 1988),\n",
       " ('atender', 1987),\n",
       " ('hospitales', 1985),\n",
       " ('preguntarle', 1983),\n",
       " ('informar', 1978),\n",
       " ('tipo', 1977),\n",
       " ('hablando', 1976),\n",
       " ('baja', 1951),\n",
       " ('centavos', 1943),\n",
       " ('debe', 1940),\n",
       " ('precio', 1930),\n",
       " (')', 1921),\n",
       " ('mayores', 1909),\n",
       " ('informe', 1905),\n",
       " ('grupo', 1898),\n",
       " ('fiscalía', 1895),\n",
       " ('cuenta', 1890),\n",
       " ('personal', 1886),\n",
       " ('veces', 1882),\n",
       " ('seguro', 1878),\n",
       " ('población', 1866),\n",
       " ('claro', 1858),\n",
       " ('proyecto', 1856),\n",
       " ('comisión', 1842),\n",
       " ('dicho', 1830),\n",
       " ('justicia', 1824),\n",
       " ('medios', 1811),\n",
       " ('hacia', 1807),\n",
       " ('seis', 1791),\n",
       " ('nueva', 1784),\n",
       " ('pandemia', 1781),\n",
       " ('nadie', 1777),\n",
       " ('agua', 1768),\n",
       " ('decía', 1762),\n",
       " ('forma', 1760),\n",
       " ('educación', 1751),\n",
       " ('falta', 1747),\n",
       " ('sé', 1728),\n",
       " ('casa', 1720),\n",
       " ('nunca', 1718),\n",
       " ('coronavirus', 1702),\n",
       " ('primer', 1691),\n",
       " ('respeto', 1690),\n",
       " ('constitución', 1690),\n",
       " ('construcción', 1685),\n",
       " ('punto', 1683),\n",
       " ('mucha', 1673),\n",
       " ('favor', 1668),\n",
       " ('compromiso', 1665),\n",
       " ('partir', 1663),\n",
       " ('saber', 1659),\n",
       " ('humanos', 1659),\n",
       " ('nivel', 1644),\n",
       " ('servicio', 1638),\n",
       " ('comunicación', 1638),\n",
       " ('responsabilidad', 1635),\n",
       " ('propósito', 1631),\n",
       " ('meses', 1627),\n",
       " ('becas', 1627),\n",
       " ('vemos', 1627),\n",
       " ('defensa', 1617),\n",
       " ('gas', 1616),\n",
       " ('puedo', 1613),\n",
       " ('mes', 1612),\n",
       " ('protección', 1612),\n",
       " ('médicos', 1601),\n",
       " ('adelante', 1598),\n",
       " ('centro', 1567),\n",
       " ('ningún', 1566),\n",
       " ('lugar', 1558),\n",
       " ('buena', 1557),\n",
       " ('relación', 1552),\n",
       " ('podría', 1551),\n",
       " ('algún', 1541),\n",
       " ('allá', 1540),\n",
       " ('riesgo', 1538),\n",
       " ('precisamente', 1537),\n",
       " ('través', 1533),\n",
       " ('iba', 1532),\n",
       " ('pueda', 1529),\n",
       " ('inversión', 1525),\n",
       " ('adultos', 1520),\n",
       " ('llevar', 1518),\n",
       " ('cambio', 1508),\n",
       " ('marina', 1497),\n",
       " ('segundo', 1494),\n",
       " ('segunda', 1489),\n",
       " ('alguna', 1480),\n",
       " ('públicos', 1465),\n",
       " ('sociales', 1463),\n",
       " ('tan', 1453),\n",
       " ('llegar', 1451),\n",
       " ('periodo', 1447),\n",
       " ('15', 1441),\n",
       " ('gobernador', 1441),\n",
       " ('permite', 1440),\n",
       " ('existe', 1437),\n",
       " ('marcelo', 1417),\n",
       " ('mexicano', 1411),\n",
       " ('director', 1411),\n",
       " ('gobiernos', 1405),\n",
       " ('medio', 1403),\n",
       " ('reunión', 1401),\n",
       " ('sonora', 1390),\n",
       " ('interés', 1386),\n",
       " ('autoridades', 1384),\n",
       " ('niños', 1380),\n",
       " ('digo', 1379),\n",
       " ('dólares', 1378),\n",
       " ('veracruz', 1375),\n",
       " ('mal', 1375),\n",
       " ('garantizar', 1369),\n",
       " ('dónde', 1367),\n",
       " ('aunque', 1367),\n",
       " ('cuánto', 1366)]"
      ]
     },
     "execution_count": 179,
     "metadata": {},
     "output_type": "execute_result"
    }
   ],
   "source": [
    "most_common"
   ]
  },
  {
   "cell_type": "markdown",
   "metadata": {},
   "source": [
    "# 4 Otras librerı́as en Python"
   ]
  },
  {
   "cell_type": "markdown",
   "metadata": {},
   "source": [
    "1. Mencione dos librerı́as en Python además de NLTK para NLP. Ponga una desventaja\n",
    "y ventaja de cada una."
   ]
  },
  {
   "cell_type": "markdown",
   "metadata": {},
   "source": [
    "## poliglot"
   ]
  },
  {
   "cell_type": "markdown",
   "metadata": {},
   "source": [
    "### Ventaja"
   ]
  },
  {
   "cell_type": "markdown",
   "metadata": {},
   "source": [
    "Tiene soporte para múltiples idiomas"
   ]
  },
  {
   "cell_type": "markdown",
   "metadata": {},
   "source": [
    "### Desventaja"
   ]
  },
  {
   "cell_type": "markdown",
   "metadata": {},
   "source": [
    "No existe una verisión oficial estable para windows"
   ]
  },
  {
   "cell_type": "markdown",
   "metadata": {},
   "source": [
    "## spaCy"
   ]
  },
  {
   "cell_type": "markdown",
   "metadata": {},
   "source": [
    "### Ventaja"
   ]
  },
  {
   "cell_type": "markdown",
   "metadata": {},
   "source": [
    "Posé tokenización para más de 49 lenguajes y contiene algoritmos de redes convolucionales del estado del arte"
   ]
  },
  {
   "cell_type": "markdown",
   "metadata": {},
   "source": [
    "### Desventaja"
   ]
  },
  {
   "cell_type": "markdown",
   "metadata": {},
   "source": [
    "Presenta incopatibilidades al correr sobre GPU"
   ]
  },
  {
   "cell_type": "markdown",
   "metadata": {},
   "source": [
    "2. Mencione tres alternativas para Text Processing en NLP qué existen en otros lenguajes.\n",
    "De una ventaja y desventaja de cada una."
   ]
  },
  {
   "cell_type": "markdown",
   "metadata": {},
   "source": [
    "## CoreNLP"
   ]
  },
  {
   "cell_type": "markdown",
   "metadata": {},
   "source": [
    "### Ventaja"
   ]
  },
  {
   "cell_type": "markdown",
   "metadata": {},
   "source": [
    "Aunque está desarrollado para Java, soporta distintos lenguajes (como python)"
   ]
  },
  {
   "cell_type": "markdown",
   "metadata": {},
   "source": [
    "### Desventaja"
   ]
  },
  {
   "cell_type": "markdown",
   "metadata": {},
   "source": [
    "Presenta varios bugs cuando se utiliza español"
   ]
  },
  {
   "cell_type": "markdown",
   "metadata": {},
   "source": [
    "https://github.com/stanfordnlp/CoreNLP/issues/1092"
   ]
  },
  {
   "cell_type": "markdown",
   "metadata": {},
   "source": [
    "##  Ellogon ( C++)"
   ]
  },
  {
   "cell_type": "markdown",
   "metadata": {},
   "source": [
    "### Ventaja"
   ]
  },
  {
   "cell_type": "markdown",
   "metadata": {},
   "source": [
    "GUI implementada"
   ]
  },
  {
   "cell_type": "markdown",
   "metadata": {},
   "source": [
    "### Desventaja"
   ]
  },
  {
   "cell_type": "markdown",
   "metadata": {},
   "source": [
    "No ha recibido soporte desde 2012"
   ]
  },
  {
   "cell_type": "markdown",
   "metadata": {},
   "source": [
    "## MITIE ( C++)"
   ]
  },
  {
   "cell_type": "markdown",
   "metadata": {},
   "source": [
    "### Ventaja"
   ]
  },
  {
   "cell_type": "markdown",
   "metadata": {},
   "source": [
    "Implementado para inglés, español y aleman. Recibe soporte de manera continua"
   ]
  },
  {
   "cell_type": "markdown",
   "metadata": {},
   "source": [
    "### Desventaja"
   ]
  },
  {
   "cell_type": "markdown",
   "metadata": {},
   "source": [
    "La tokenización no es óptima para codificaciones distintas a utf-8"
   ]
  }
 ],
 "metadata": {
  "kernelspec": {
   "display_name": "Python 3",
   "language": "python",
   "name": "python3"
  },
  "language_info": {
   "codemirror_mode": {
    "name": "ipython",
    "version": 3
   },
   "file_extension": ".py",
   "mimetype": "text/x-python",
   "name": "python",
   "nbconvert_exporter": "python",
   "pygments_lexer": "ipython3",
   "version": "3.8.5"
  }
 },
 "nbformat": 4,
 "nbformat_minor": 4
}
